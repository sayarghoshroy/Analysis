{
  "nbformat": 4,
  "nbformat_minor": 0,
  "metadata": {
    "colab": {
      "name": "PCA_example.ipynb",
      "provenance": [],
      "collapsed_sections": [],
      "authorship_tag": "ABX9TyM/RDERzoKMfxwC9CFixVui",
      "include_colab_link": true
    },
    "kernelspec": {
      "name": "python3",
      "display_name": "Python 3"
    },
    "language_info": {
      "name": "python"
    }
  },
  "cells": [
    {
      "cell_type": "markdown",
      "metadata": {
        "id": "view-in-github",
        "colab_type": "text"
      },
      "source": [
        "<a href=\"https://colab.research.google.com/github/sayarghoshroy/Analysis/blob/main/PCA_example.ipynb\" target=\"_parent\"><img src=\"https://colab.research.google.com/assets/colab-badge.svg\" alt=\"Open In Colab\"/></a>"
      ]
    },
    {
      "cell_type": "code",
      "metadata": {
        "id": "1rUt5AiGPHsB"
      },
      "source": [
        "# Simple example to illustrate that principal components are not scale invariant"
      ],
      "execution_count": 1,
      "outputs": []
    },
    {
      "cell_type": "code",
      "metadata": {
        "id": "tKCi71yVPSiP"
      },
      "source": [
        "import numpy as np\n",
        "import matplotlib.pyplot as plt"
      ],
      "execution_count": 2,
      "outputs": []
    },
    {
      "cell_type": "code",
      "metadata": {
        "colab": {
          "base_uri": "https://localhost:8080/"
        },
        "id": "uC7QcfZOPnKX",
        "outputId": "802c67dc-03e8-426d-a60c-6dd5a95cdf95"
      },
      "source": [
        "size = 20\n",
        "np.random.seed(42)\n",
        "x = [np.random.uniform(-2, 2) for index in range(size)]\n",
        "y = [np.random.uniform(-5, 5) for index in range(size)]\n",
        "\n",
        "points = [[x[i], y[i]] for i in range(len(x))]\n",
        "points = np.asarray(points)\n",
        "\n",
        "mean = np.mean(points, axis = 0)\n",
        "covariance_matrix = np.cov(points.T)\n",
        "eigen_values, eigen_vectors = np.linalg.eig(covariance_matrix)\n",
        "\n",
        "order = np.argsort(-1 * eigen_values)\n",
        "\n",
        "print(\"Principal Eigen Value:\", eigen_values[order[0]])\n",
        "print(\"Principal Eigen Vector:\", eigen_vectors[:, order[0]])\n",
        "print()\n",
        "\n",
        "print(\"Secondary Eigen Value:\", eigen_values[order[1]])\n",
        "print(\"Secondary Eigen Vector:\", eigen_vectors[:, order[1]])"
      ],
      "execution_count": 3,
      "outputs": [
        {
          "output_type": "stream",
          "text": [
            "Principal Eigen Value: 9.069725862741496\n",
            "Principal Eigen Vector: [ 0.26939593 -0.96302951]\n",
            "\n",
            "Secondary Eigen Value: 0.9235364068391636\n",
            "Secondary Eigen Vector: [-0.96302951 -0.26939593]\n"
          ],
          "name": "stdout"
        }
      ]
    },
    {
      "cell_type": "markdown",
      "metadata": {
        "id": "b_TF4AOeYi8y"
      },
      "source": [
        "# $Principal\\ Components\\ of\\ the\\ raw\\ data$"
      ]
    },
    {
      "cell_type": "code",
      "metadata": {
        "colab": {
          "base_uri": "https://localhost:8080/",
          "height": 621
        },
        "id": "ugvOgPq3P1Lp",
        "outputId": "3aa91dfd-b312-46a4-bf83-84636ccc31f6"
      },
      "source": [
        "plt.figure(figsize = (10, 10))\n",
        "fig = plt.subplot(111)\n",
        "fig.set_title('Principal Components of the raw data')\n",
        "fig.set_xlabel('x')\n",
        "fig.set_ylabel('y')\n",
        "\n",
        "scale = 0.65\n",
        "length_scale = 2\n",
        "\n",
        "fig.set_xlim(-11, 11)\n",
        "fig.set_ylim(-11, 11)\n",
        "data = fig.scatter(points[:, 0], points[:, 1], color = 'darkblue', label = '')\n",
        "arrow_a = fig.arrow(mean[0],\n",
        "                    mean[1],\n",
        "                    mean[0] + eigen_vectors[:, order[0]][0] * length_scale,\n",
        "                    mean[1] + eigen_vectors[:, order[0]][1] * length_scale,\n",
        "                    color = 'darkgreen',\n",
        "                    head_width = 0.35 * scale,\n",
        "                    head_length = 0.25 * scale,\n",
        "                    label = '')\n",
        "arrow_b = fig.arrow(mean[0],\n",
        "                    mean[1],\n",
        "                    mean[0] + eigen_vectors[:, order[1]][0] * length_scale,\n",
        "                    mean[1] + eigen_vectors[:, order[1]][1] * length_scale,\n",
        "                    color = 'darkred',\n",
        "                    head_width = 0.35 * scale,\n",
        "                    head_length = 0.25 * scale,\n",
        "                    label = '')\n",
        "\n",
        "fig.legend([data, arrow_a, arrow_b],\n",
        "           ['Datapoint', 'First Principal Component', 'Second Principal Component'])\n",
        "plt.show()"
      ],
      "execution_count": 4,
      "outputs": [
        {
          "output_type": "display_data",
          "data": {
            "image/png": "[encoded data removed]",
            "text/plain": [
              "<Figure size 720x720 with 1 Axes>"
            ]
          },
          "metadata": {
            "tags": [],
            "needs_background": "light"
          }
        }
      ]
    },
    {
      "cell_type": "code",
      "metadata": {
        "colab": {
          "base_uri": "https://localhost:8080/"
        },
        "id": "tFHZM2IYP_iP",
        "outputId": "45c7b8af-9b8a-4ae6-fa97-59f70d13c051"
      },
      "source": [
        "# Scale change\n",
        "change = 5\n",
        "new_x = [change * unit for unit in x]\n",
        "\n",
        "points = [[new_x[i], y[i]] for i in range(len(x))]\n",
        "points = np.asarray(points)\n",
        "\n",
        "mean = np.mean(points, axis = 0)\n",
        "covariance_matrix = np.cov(points.T)\n",
        "eigen_values, eigen_vectors = np.linalg.eig(covariance_matrix)\n",
        "\n",
        "order = np.argsort(-1 * eigen_values)\n",
        "\n",
        "print(\"Principal Eigen Value:\", eigen_values[order[0]])\n",
        "print(\"Principal Eigen Vector:\", eigen_vectors[:, order[0]])\n",
        "print()\n",
        "\n",
        "print(\"Secondary Eigen Value:\", eigen_values[order[1]])\n",
        "print(\"Secondary Eigen Vector:\", eigen_vectors[:, order[1]])"
      ],
      "execution_count": 5,
      "outputs": [
        {
          "output_type": "stream",
          "text": [
            "Principal Eigen Value: 41.27338428038719\n",
            "Principal Eigen Vector: [ 0.95180951 -0.30668983]\n",
            "\n",
            "Secondary Eigen Value: 5.0736220086711175\n",
            "Secondary Eigen Vector: [0.30668983 0.95180951]\n"
          ],
          "name": "stdout"
        }
      ]
    },
    {
      "cell_type": "markdown",
      "metadata": {
        "id": "O-eTepB8YtmK"
      },
      "source": [
        "# $Principal\\ Components\\ after\\ scaling$"
      ]
    },
    {
      "cell_type": "code",
      "metadata": {
        "colab": {
          "base_uri": "https://localhost:8080/",
          "height": 621
        },
        "id": "koiNhw6ZRomr",
        "outputId": "b2caae16-a01e-4998-e741-9061e8a53837"
      },
      "source": [
        "plt.figure(figsize = (10, 10))\n",
        "fig = plt.subplot(111)\n",
        "fig.set_title('Principal Components after scaling')\n",
        "fig.set_xlabel('x')\n",
        "fig.set_ylabel('y')\n",
        "\n",
        "scale = 0.65\n",
        "length_scale = 2\n",
        "\n",
        "fig.set_xlim(-11, 11)\n",
        "fig.set_ylim(-11, 11)\n",
        "data = fig.scatter(points[:, 0], points[:, 1], color = 'darkblue', label = '')\n",
        "arrow_a = fig.arrow(mean[0],\n",
        "                    mean[1],\n",
        "                    mean[0] + eigen_vectors[:, order[0]][0] * length_scale,\n",
        "                    mean[1] + eigen_vectors[:, order[0]][1] * length_scale,\n",
        "                    color = 'darkgreen',\n",
        "                    head_width = 0.35 * scale,\n",
        "                    head_length = 0.25 * scale,\n",
        "                    label = '')\n",
        "arrow_b = fig.arrow(mean[0],\n",
        "                    mean[1],\n",
        "                    mean[0] + eigen_vectors[:, order[1]][0] * length_scale,\n",
        "                    mean[1] + eigen_vectors[:, order[1]][1] * length_scale,\n",
        "                    color = 'darkred',\n",
        "                    head_width = 0.35 * scale,\n",
        "                    head_length = 0.25 * scale,\n",
        "                    label = '')\n",
        "\n",
        "fig.legend([data, arrow_a, arrow_b],\n",
        "           ['Datapoint', 'First Principal Component', 'Second Principal Component'])\n",
        "plt.show()"
      ],
      "execution_count": 6,
      "outputs": [
        {
          "output_type": "display_data",
          "data": {
            "image/png": "[encoded data removed]",
            "text/plain": [
              "<Figure size 720x720 with 1 Axes>"
            ]
          },
          "metadata": {
            "tags": [],
            "needs_background": "light"
          }
        }
      ]
    },
    {
      "cell_type": "code",
      "metadata": {
        "id": "3mojHRbETfgL"
      },
      "source": [
        "# ^_^ Thank You"
      ],
      "execution_count": 7,
      "outputs": []
    }
  ]
}
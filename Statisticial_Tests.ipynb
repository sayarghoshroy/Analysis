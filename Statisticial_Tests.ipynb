{
  "nbformat": 4,
  "nbformat_minor": 0,
  "metadata": {
    "colab": {
      "name": "Statisticial_Tests",
      "provenance": [],
      "collapsed_sections": [],
      "authorship_tag": "ABX9TyMUs9obA5/n5dfrkCWH+Wq+",
      "include_colab_link": true
    },
    "kernelspec": {
      "name": "python3",
      "display_name": "Python 3"
    }
  },
  "cells": [
    {
      "cell_type": "markdown",
      "metadata": {
        "id": "view-in-github",
        "colab_type": "text"
      },
      "source": [
        "<a href=\"https://colab.research.google.com/github/sayarghoshroy/Analysis/blob/main/Statisticial_Tests.ipynb\" target=\"_parent\"><img src=\"https://colab.research.google.com/assets/colab-badge.svg\" alt=\"Open In Colab\"/></a>"
      ]
    },
    {
      "cell_type": "code",
      "metadata": {
        "id": "aAg-BEA_6Tkk"
      },
      "source": [
        "# Problems on statistical tests"
      ],
      "execution_count": null,
      "outputs": []
    },
    {
      "cell_type": "code",
      "metadata": {
        "id": "d5oDpHcE-2dp"
      },
      "source": [
        "import numpy as np\n",
        "import scipy as sc\n",
        "from scipy.stats import f\n",
        "from scipy.stats import t"
      ],
      "execution_count": null,
      "outputs": []
    },
    {
      "cell_type": "markdown",
      "metadata": {
        "id": "gjRQyuF66YmQ"
      },
      "source": [
        "## $ Problem\\ 3$"
      ]
    },
    {
      "cell_type": "code",
      "metadata": {
        "id": "7j_JnTCz6aZ8"
      },
      "source": [
        "data = [[69, 153],\n",
        "        [74, 175],\n",
        "        [68, 155],\n",
        "        [70, 135],\n",
        "        [72, 172],\n",
        "        [67, 150],\n",
        "        [66, 115],\n",
        "        [70, 137],\n",
        "        [76, 200],\n",
        "        [68, 130],\n",
        "        [72, 140],\n",
        "        [79, 265],\n",
        "        [74, 185],\n",
        "        [67, 112],\n",
        "        [66, 140],\n",
        "        [71, 150],\n",
        "        [74, 165],\n",
        "        [75, 185],\n",
        "        [75, 210],\n",
        "        [71, 149]]\n",
        "\n",
        "data = np.asarray(data).T"
      ],
      "execution_count": null,
      "outputs": []
    },
    {
      "cell_type": "code",
      "metadata": {
        "id": "XGWQqJXt-7bk"
      },
      "source": [
        "# Computing Components\n",
        "alpha = 0.05\n",
        "n = data.shape[1]\n",
        "sample_mean = np.mean(data, axis = 1)\n",
        "target_mean = np.asarray([70, 170])\n",
        "difference = np.asmatrix(sample_mean - target_mean).T\n",
        "sample_covariance = np.cov(data)\n",
        "known_covariance = np.asmatrix([[20, 100], [100, 1000]])"
      ],
      "execution_count": null,
      "outputs": []
    },
    {
      "cell_type": "code",
      "metadata": {
        "colab": {
          "base_uri": "https://localhost:8080/"
        },
        "id": "72JITSyw_lHV",
        "outputId": "b3539fa1-9354-44a3-db66-aca53e0bfff8"
      },
      "source": [
        "# Computing T-Squared Stat\n",
        "Z_squared_stat = np.ravel(n * np.matmul(np.matmul(difference.T, np.linalg.inv(known_covariance)), difference))[0]\n",
        "print('Calculated Z-square statistic value = ' + str(Z_squared_stat))\n",
        "critical_value = 5.991\n",
        "print('Chi Squared Distibution Percentage Points for: ')\n",
        "print('Degrees of Freedom = p = ' + str(data.shape[0]) + ' with alpha = ' + str(alpha)+ ' is ' + str(critical_value))"
      ],
      "execution_count": null,
      "outputs": [
        {
          "output_type": "stream",
          "text": [
            "Calculated Z-square statistic value = 10.260900000000017\n",
            "Chi Squared Distibution Percentage Points for: \n",
            "Degrees of Freedom = p = 2 with alpha = 0.05 is 5.991\n"
          ],
          "name": "stdout"
        }
      ]
    },
    {
      "cell_type": "markdown",
      "metadata": {
        "id": "WWbZXApiPkS4"
      },
      "source": [
        "$We\\ therefore\\ reject\\ H_{0}\\ as\\ calculated\\ value\\ of\\ the\\ Z^2\\ statistic\\ =\\ 10.261\\ is\\ \\ge\\ \\chi^2_{\\alpha, p}\\ =\\ 5.991$"
      ]
    },
    {
      "cell_type": "markdown",
      "metadata": {
        "id": "6lwzeK2626-a"
      },
      "source": [
        "## $Problem\\ 6$"
      ]
    },
    {
      "cell_type": "code",
      "metadata": {
        "id": "8J4WJZoZYND1"
      },
      "source": [
        "data = [[51, 36, 50, 35, 42],\n",
        "        [27, 20, 26, 17, 27],\n",
        "        [37, 22, 41, 37, 30],\n",
        "        [42, 36, 32, 34, 27],\n",
        "        [27, 18, 33, 14, 29],\n",
        "        [43, 32, 43, 35, 40],\n",
        "        [41, 22, 36, 25, 38],\n",
        "        [38, 21, 31, 20, 16],\n",
        "        [36, 23, 27, 25, 28],\n",
        "        [26, 31, 31, 32, 36],\n",
        "        [29, 20, 25, 26, 25]]\n",
        "\n",
        "data = np.asarray(data).T\n",
        "\n",
        "n = data.shape[1]\n",
        "sample_mean = np.mean(data, axis = 1)\n",
        "sample_covariance = np.cov(data)\n",
        "\n",
        "target_mean = np.asarray([30, 25, 40, 25, 30])"
      ],
      "execution_count": null,
      "outputs": []
    },
    {
      "cell_type": "code",
      "metadata": {
        "id": "z8Ek4K8SjLux"
      },
      "source": [
        "def T_square_value(alpha, p, v):\n",
        "  # 'v' being the number of degrees of freedom \n",
        "  # 'p' - variable setting\n",
        "\n",
        "  return f.isf(alpha, p, v - p + 1) / (v - p + 1) * (v * p)\n",
        "\n",
        "def T_value(alpha, p, v):\n",
        "  return np.sqrt(T_square_value(alpha, p, v))\n",
        "\n",
        "def get_t_value(alpha, v):\n",
        "  return t.isf(alpha, v)"
      ],
      "execution_count": null,
      "outputs": []
    },
    {
      "cell_type": "code",
      "metadata": {
        "colab": {
          "base_uri": "https://localhost:8080/"
        },
        "id": "LrnVDhYiqPcN",
        "outputId": "f7977281-2b7b-46ac-e551-97f75bc8008f"
      },
      "source": [
        "print('Constructing 95 % Simultaneous Confidence intervals:')\n",
        "print()\n",
        "\n",
        "critical_T_value = T_value(alpha, data.shape[0], data.shape[1] - 1)\n",
        "\n",
        "for case in range(0, 5):\n",
        "  component = np.sqrt(sample_covariance[case, case] / data.shape[1])\n",
        "  lower_bound = sample_mean[case] - critical_T_value * component\n",
        "  upper_bound = sample_mean[case] + critical_T_value * component\n",
        "  print('Range for mu suffix ' + str(case + 1) + ' = (' + str(lower_bound) + ', ' + str(upper_bound) + ')')"
      ],
      "execution_count": null,
      "outputs": [
        {
          "output_type": "stream",
          "text": [
            "Constructing 95 % Simultaneous Confidence intervals:\n",
            "\n",
            "Range for mu suffix 1 = (21.38216673123666, 50.79965145058153)\n",
            "Range for mu suffix 2 = (13.170678931334397, 37.9202301595747)\n",
            "Range for mu suffix 3 = (19.888003712834678, 48.29381446898351)\n",
            "Range for mu suffix 4 = (12.823053128113768, 41.72240141734078)\n",
            "Range for mu suffix 5 = (16.81671024417858, 44.63783521036687)\n"
          ],
          "name": "stdout"
        }
      ]
    },
    {
      "cell_type": "code",
      "metadata": {
        "colab": {
          "base_uri": "https://localhost:8080/"
        },
        "id": "MhPGa4t4wTjY",
        "outputId": "354b8498-748e-44c1-fedb-a49a8b8f2865"
      },
      "source": [
        "print('Constructing 95 % Bonferroni Confidence intervals:')\n",
        "print()\n",
        "\n",
        "critical_t_value = get_t_value(alpha / (2 * data.shape[0]), data.shape[1] - 1)\n",
        "\n",
        "for case in range(0, 5):\n",
        "  component = np.sqrt(sample_covariance[case, case] / data.shape[1])\n",
        "  lower_bound = sample_mean[case] - critical_t_value * component\n",
        "  upper_bound = sample_mean[case] + critical_t_value * component\n",
        "  print('Range for mu suffix ' + str(case + 1) + ' = (' + str(lower_bound) + ', ' + str(upper_bound) + ')')"
      ],
      "execution_count": null,
      "outputs": [
        {
          "output_type": "stream",
          "text": [
            "Constructing 95 % Bonferroni Confidence intervals:\n",
            "\n",
            "Range for mu suffix 1 = (28.38145846944604, 43.80035971237214)\n",
            "Range for mu suffix 2 = (19.059330904434496, 32.0315781864746)\n",
            "Range for mu suffix 3 = (26.64658822267579, 41.5352299591424)\n",
            "Range for mu suffix 4 = (19.699064848701376, 34.84638969675317)\n",
            "Range for mu suffix 5 = (23.436180670740228, 38.018364783805225)\n"
          ],
          "name": "stdout"
        }
      ]
    },
    {
      "cell_type": "code",
      "metadata": {
        "colab": {
          "base_uri": "https://localhost:8080/"
        },
        "id": "CC9HQf7ayhKb",
        "outputId": "7f340af8-0c10-45c9-fcfb-b4da23f6510e"
      },
      "source": [
        "print('Testing with a Bonferroni Critical Value:')\n",
        "print()\n",
        "\n",
        "critical_t_value = get_t_value(alpha / (2 * data.shape[0]), data.shape[1] - 1)\n",
        "print('Bonferroni Critical Value = ' + str(critical_t_value))\n",
        "print()\n",
        "\n",
        "for case in range(0, 5):\n",
        "  t_value = (sample_mean[case] - target_mean[case]) * np.sqrt(data.shape[1]) / np.sqrt(sample_covariance[case, case])\n",
        "  print('Absolute value t for case ' + str(case + 1) + ' = ' + str(np.abs(t_value)))\n",
        "  print('t suffix ' + str(case + 1) + ' is >= Bonferroni Critical Value: ' + str(np.abs(t_value) >= critical_t_value))\n",
        "  print()"
      ],
      "execution_count": null,
      "outputs": [
        {
          "output_type": "stream",
          "text": [
            "Testing with a Bonferroni Critical Value:\n",
            "\n",
            "Bonferroni Critical Value = 3.169272667175838\n",
            "\n",
            "Absolute value t for case 1 = 2.5039075607189867\n",
            "t suffix 1 is >= Bonferroni Critical Value: False\n",
            "\n",
            "Absolute value t for case 2 = 0.2665219286236194\n",
            "t suffix 2 is >= Bonferroni Critical Value: False\n",
            "\n",
            "Absolute value t for case 3 = 2.5156788157740264\n",
            "t suffix 3 is >= Bonferroni Critical Value: False\n",
            "\n",
            "Absolute value t for case 4 = 0.951044821135667\n",
            "t suffix 4 is >= Bonferroni Critical Value: False\n",
            "\n",
            "Absolute value t for case 5 = 0.316128991138271\n",
            "t suffix 5 is >= Bonferroni Critical Value: False\n",
            "\n"
          ],
          "name": "stdout"
        }
      ]
    },
    {
      "cell_type": "markdown",
      "metadata": {
        "id": "zm_gU_tJ1ouu"
      },
      "source": [
        "##### $Therefore,\\ we\\ cannot\\ reject\\ the\\ Null\\ Hypothesis.$"
      ]
    },
    {
      "cell_type": "markdown",
      "metadata": {
        "id": "ZkEKk1MpDCwS"
      },
      "source": [
        "## $Problem\\ 8$"
      ]
    },
    {
      "cell_type": "code",
      "metadata": {
        "colab": {
          "base_uri": "https://localhost:8080/"
        },
        "id": "weOVkzLZ5I6M",
        "outputId": "ed3ac868-111d-4da4-df2c-d36d102dfe1f"
      },
      "source": [
        "set_A = [[189, 245, 137, 163],\n",
        "        [192, 260, 132, 217],\n",
        "        [217, 276, 141, 192],\n",
        "        [221, 299, 142, 213],\n",
        "        [171, 239, 128, 158],\n",
        "        [192, 262, 147, 173],\n",
        "        [213, 278, 136, 201],\n",
        "        [192, 255, 128, 185],\n",
        "        [170, 244, 128, 192],\n",
        "        [201, 276, 146, 186],\n",
        "        [195, 242, 128, 192],\n",
        "        [205, 263, 147, 192],\n",
        "        [180, 252, 121, 167],\n",
        "        [192, 283, 138, 183],\n",
        "        [200, 294, 138, 188],\n",
        "        [192, 277, 150, 177],\n",
        "        [200, 287, 136, 173],\n",
        "        [181, 255, 146, 183],\n",
        "        [192, 287, 141, 198]]\n",
        "\n",
        "set_B = [[181, 305, 184, 209],\n",
        "        [158, 237, 133, 188],\n",
        "        [184, 300, 166, 231],\n",
        "        [171, 273, 162, 213],\n",
        "        [181, 297, 163, 224],\n",
        "        [181, 308, 160, 223],\n",
        "        [177, 301, 166, 221],\n",
        "        [198, 308, 141, 197],\n",
        "        [180, 286, 146, 214],\n",
        "        [177, 299, 171, 192],\n",
        "        [176, 317, 166, 213],\n",
        "        [192, 312, 166, 209],\n",
        "        [176, 285, 141, 200],\n",
        "        [169, 287, 162, 214],\n",
        "        [164, 265, 147, 192],\n",
        "        [181, 308, 157, 204],\n",
        "        [192, 276, 154, 209],\n",
        "        [181, 278, 149, 235],\n",
        "        [175, 271, 140, 192],\n",
        "        [197, 303, 170, 205]]\n",
        "\n",
        "set_A = np.asarray(set_A)\n",
        "set_B = np.asarray(set_B)\n",
        "\n",
        "p = set_A.shape[1]\n",
        "n_1 = set_A.shape[0]\n",
        "n_2 = set_B.shape[0]\n",
        "\n",
        "print('Number of Datapoints: ')\n",
        "print(' • n_1 = ' + str(n_1))\n",
        "print(' • n_2 = ' + str(n_2))\n",
        "\n",
        "sample_mean_1 = np.mean(set_A, axis = 0)\n",
        "sample_mean_2 = np.mean(set_B, axis = 0)\n",
        "difference = np.asmatrix(sample_mean_1 - sample_mean_2).T\n",
        "\n",
        "W_1 = np.cov(set_A.T) * (n_1 - 1)\n",
        "W_2 = np.cov(set_B.T) * (n_2 - 1)\n",
        "\n",
        "S_pl = (W_1 + W_2) / (n_1 + n_2 - 2)"
      ],
      "execution_count": null,
      "outputs": [
        {
          "output_type": "stream",
          "text": [
            "Number of Datapoints: \n",
            " • n_1 = 19\n",
            " • n_2 = 20\n"
          ],
          "name": "stdout"
        }
      ]
    },
    {
      "cell_type": "code",
      "metadata": {
        "colab": {
          "base_uri": "https://localhost:8080/"
        },
        "id": "cmVc0_NY7Rtb",
        "outputId": "83660f8d-81b0-46c1-f5f2-d20dad388fe2"
      },
      "source": [
        "# Computing T_square statistic\n",
        "constant = (n_1 * n_2) / (n_1 + n_2)\n",
        "T_square_stat = constant * np.ravel(np.matmul(np.matmul(difference.T, np.linalg.inv(S_pl)), difference))[0]\n",
        "print('Computed T square Statistic = ' + str(T_square_stat))"
      ],
      "execution_count": null,
      "outputs": [
        {
          "output_type": "stream",
          "text": [
            "Computed T square Statistic = 133.48730309987775\n"
          ],
          "name": "stdout"
        }
      ]
    },
    {
      "cell_type": "code",
      "metadata": {
        "colab": {
          "base_uri": "https://localhost:8080/"
        },
        "id": "XjTwhHlZ8fUl",
        "outputId": "477b6977-c471-4360-d073-7c22804f1673"
      },
      "source": [
        "# Computing Critical Value\n",
        "alpha = 0.05\n",
        "T_square_critical = T_square_value(alpha, p, n_1 + n_2 - 2)\n",
        "print('Critical T square value = ' + str(T_square_critical))\n",
        "print('Computed T square statistic is >= Crtical T square value : ' + str(T_square_stat >= T_square_critical))"
      ],
      "execution_count": null,
      "outputs": [
        {
          "output_type": "stream",
          "text": [
            "Critical T square value = 11.534832768836228\n",
            "Computed T square statistic is >= Crtical T square value : True\n"
          ],
          "name": "stdout"
        }
      ]
    },
    {
      "cell_type": "code",
      "metadata": {
        "colab": {
          "base_uri": "https://localhost:8080/"
        },
        "id": "U_nYBchv9ber",
        "outputId": "bf22f20a-b28f-4994-e555-c7c5e30507b4"
      },
      "source": [
        "# Calculating discriminant function coefficient vector\n",
        "a = np.matmul(np.linalg.inv(S_pl), difference)\n",
        "print('Discriminant function coefficient vector a = ')\n",
        "print(str(a))"
      ],
      "execution_count": null,
      "outputs": [
        {
          "output_type": "stream",
          "text": [
            "Discriminant function coefficient vector a = \n",
            "[[ 0.34524895]\n",
            " [-0.13038778]\n",
            " [-0.1064338 ]\n",
            " [-0.14335331]]\n"
          ],
          "name": "stdout"
        }
      ]
    },
    {
      "cell_type": "code",
      "metadata": {
        "colab": {
          "base_uri": "https://localhost:8080/"
        },
        "id": "qOv5jO7j-KEy",
        "outputId": "2008accf-4040-4f5b-c5f1-da686e42d3fd"
      },
      "source": [
        "# Defining function for t square of vector\n",
        "def t_square_vector(vector):\n",
        "  global n_1, n_2, difference, S_pl\n",
        "  step = np.ravel(np.matmul(vector.T, difference))[0]\n",
        "\n",
        "  numerator = step * step\n",
        "  step = np.ravel(np.matmul(np.matmul(vector.T, S_pl), vector))[0]\n",
        "  \n",
        "  constant = (n_1 + n_2) / (n_1 * n_2)\n",
        "  denominator = constant * step\n",
        "  return (numerator / denominator)\n",
        "\n",
        "print('Computed value of created function with vector a: ')\n",
        "print(str(t_square_vector(a)))"
      ],
      "execution_count": null,
      "outputs": [
        {
          "output_type": "stream",
          "text": [
            "Computed value of created function with vector a: \n",
            "133.48730309987778\n"
          ],
          "name": "stdout"
        }
      ]
    },
    {
      "cell_type": "markdown",
      "metadata": {
        "id": "6z25S2jgCVT1"
      },
      "source": [
        "##### $Computed\\ T^2\\ equals\\ t^2(a).\\ (Verified)$ "
      ]
    },
    {
      "cell_type": "markdown",
      "metadata": {
        "id": "c2FGrOcDDFn9"
      },
      "source": [
        "## $Problem\\ 9$"
      ]
    },
    {
      "cell_type": "code",
      "metadata": {
        "colab": {
          "base_uri": "https://localhost:8080/"
        },
        "id": "wap7UIL6DISL",
        "outputId": "d20a5ef6-d60d-4556-e159-48ba4acf2c35"
      },
      "source": [
        "# Calculating Simultaneous Confidence Intervals\n",
        "print('Constructing 95 % Simultaneous Confidence intervals:')\n",
        "print()\n",
        "\n",
        "critical_T_value = T_value(alpha, p, n_1 + n_2 - 2)\n",
        "constant = (n_1 + n_2) / (n_1 * n_2)\n",
        "\n",
        "for case in range(0, p):\n",
        "  component = np.sqrt(constant * S_pl[case, case])\n",
        "  centre_point = sample_mean_1[case] - sample_mean_2[case]\n",
        "  lower_bound = centre_point - critical_T_value * component\n",
        "  upper_bound = centre_point + critical_T_value * component\n",
        "  print('Range for (mu_1 - mu_2) suffix ' + str(case + 1) + ' = (' + str(lower_bound) + ', ' + str(upper_bound) + ')')"
      ],
      "execution_count": null,
      "outputs": [
        {
          "output_type": "stream",
          "text": [
            "Constructing 95 % Simultaneous Confidence intervals:\n",
            "\n",
            "Range for (mu_1 - mu_2) suffix 1 = (1.8871686974513775, 27.960199723601256)\n",
            "Range for (mu_1 - mu_2) suffix 2 = (-44.61363715638602, -2.8810996857193167)\n",
            "Range for (mu_1 - mu_2) suffix 3 = (-31.666473058828053, -7.996684835908747)\n",
            "Range for (mu_1 - mu_2) suffix 4 = (-38.99736409588562, -7.607899062009119)\n"
          ],
          "name": "stdout"
        }
      ]
    },
    {
      "cell_type": "code",
      "metadata": {
        "colab": {
          "base_uri": "https://localhost:8080/"
        },
        "id": "hA8jR6Q4IOpG",
        "outputId": "13063631-4e43-4aa2-bec1-9dd21f4552ce"
      },
      "source": [
        "# Calculating Bonferroni Confidence Intervals\n",
        "print('Constructing 95 % Bonferroni Confidence intervals:')\n",
        "print()\n",
        "\n",
        "critical_t_value = get_t_value(alpha / (2 * p), n_1 + n_2 - 2)\n",
        "constant = (n_1 + n_2) / (n_1 * n_2)\n",
        "\n",
        "for case in range(0, p):\n",
        "  component = np.sqrt(constant * S_pl[case, case])\n",
        "  centre_point = sample_mean_1[case] - sample_mean_2[case]\n",
        "  lower_bound = centre_point - critical_t_value * component\n",
        "  upper_bound = centre_point + critical_t_value * component\n",
        "  print('Range for (mu_1 - mu_2) suffix ' + str(case + 1) + ' = (' + str(lower_bound) + ', ' + str(upper_bound) + ')')"
      ],
      "execution_count": null,
      "outputs": [
        {
          "output_type": "stream",
          "text": [
            "Constructing 95 % Bonferroni Confidence intervals:\n",
            "\n",
            "Range for (mu_1 - mu_2) suffix 1 = (4.844976313449974, 25.00239210760266)\n",
            "Range for (mu_1 - mu_2) suffix 2 = (-39.87936529356025, -7.615371548545092)\n",
            "Range for (mu_1 - mu_2) suffix 3 = (-28.981296954653295, -10.681860940083501)\n",
            "Range for (mu_1 - mu_2) suffix 4 = (-35.43644328670912, -11.168819871185617)\n"
          ],
          "name": "stdout"
        }
      ]
    },
    {
      "cell_type": "markdown",
      "metadata": {
        "id": "JqlpQ_LrKQiL"
      },
      "source": [
        "## $Problem\\ 10$"
      ]
    },
    {
      "cell_type": "code",
      "metadata": {
        "id": "OhcbzBlwK5Rx"
      },
      "source": [
        "def compute_C_statistic(C):\n",
        "  global n_1, n_2, sample_mean_1, sample_mean_2, S_pl\n",
        "  element = np.matmul(C, difference)\n",
        "  centering = np.linalg.inv(np.matmul(np.matmul(C, S_pl), C.T))\n",
        "  constant = (n_1 * n_2) / (n_1 + n_2)\n",
        "\n",
        "  complete = constant * np.matmul(np.matmul(element.T, centering), element)\n",
        "  return np.ravel(complete)[0]\n",
        "\n",
        "alpha = 0.05"
      ],
      "execution_count": null,
      "outputs": []
    },
    {
      "cell_type": "markdown",
      "metadata": {
        "id": "Bv_qOL8dNbZO"
      },
      "source": [
        "### $Part\\ (a)$"
      ]
    },
    {
      "cell_type": "code",
      "metadata": {
        "colab": {
          "base_uri": "https://localhost:8080/"
        },
        "id": "Qe6zfXVRKXTj",
        "outputId": "8e16a853-5736-4e3d-f63f-8891036b9a14"
      },
      "source": [
        "C = [[-1, 2, 0, 0], [0, -1, 1, 0], [0, 0, -1, 1]]\n",
        "C = np.asmatrix(C)\n",
        "\n",
        "k = C.shape[0]\n",
        "print(' • Dimensions of C = ' + str(np.shape(C)))\n",
        "print(' • k = ' + str(k))\n",
        "print()\n",
        "\n",
        "T_square_val_stat = compute_C_statistic(C)\n",
        "critical_T_square_value = T_square_value(alpha, k, n_1 + n_2 - 2)\n",
        "\n",
        "print('Computed T square statistic = ' + str(T_square_val_stat))\n",
        "print('Critical T square value = ' + str(critical_T_square_value))\n",
        "\n",
        "print('Computer T square statistic >= Critical Value: ' + str(T_square_val_stat >= critical_T_square_value))"
      ],
      "execution_count": null,
      "outputs": [
        {
          "output_type": "stream",
          "text": [
            " • Dimensions of C = (3, 4)\n",
            " • k = 3\n",
            "\n",
            "Computed T square statistic = 111.47023513943067\n",
            "Critical T square value = 9.115280304816977\n",
            "Computer T square statistic >= Critical Value: True\n"
          ],
          "name": "stdout"
        }
      ]
    },
    {
      "cell_type": "markdown",
      "metadata": {
        "id": "XCr4D4tvOU6A"
      },
      "source": [
        "$Hypothesis\\ Rejected.$"
      ]
    },
    {
      "cell_type": "markdown",
      "metadata": {
        "id": "KJ_2-Sj2Nfxw"
      },
      "source": [
        "### $Part\\ (b)$"
      ]
    },
    {
      "cell_type": "code",
      "metadata": {
        "colab": {
          "base_uri": "https://localhost:8080/"
        },
        "id": "okORp9QJNnMv",
        "outputId": "a29e1699-b3d4-4d83-ffd6-35894f7cb45c"
      },
      "source": [
        "C = [[-1, -3, 1, 1], [1, 0, 0, -1]]\n",
        "C = np.asmatrix(C)\n",
        "\n",
        "k = C.shape[0]\n",
        "print(' • Dimensions of C = ' + str(np.shape(C)))\n",
        "print(' • k = ' + str(k))\n",
        "print()\n",
        "\n",
        "T_square_val_stat = compute_C_statistic(C)\n",
        "critical_T_square_value = T_square_value(alpha, k, n_1 + n_2 - 2)\n",
        "\n",
        "print('Computed T square statistic = ' + str(T_square_val_stat))\n",
        "print('Critical T square value = ' + str(critical_T_square_value))\n",
        "\n",
        "print('Computer T square statistic >= Critical Value: ' + str(T_square_val_stat >= critical_T_square_value))"
      ],
      "execution_count": null,
      "outputs": [
        {
          "output_type": "stream",
          "text": [
            " • Dimensions of C = (2, 4)\n",
            " • k = 2\n",
            "\n",
            "Computed T square statistic = 90.4257696414666\n",
            "Critical T square value = 6.699972962629554\n",
            "Computer T square statistic >= Critical Value: True\n"
          ],
          "name": "stdout"
        }
      ]
    },
    {
      "cell_type": "markdown",
      "metadata": {
        "id": "CR-MfBZ2Ocbx"
      },
      "source": [
        "$Hypothesis\\ Rejected.$"
      ]
    },
    {
      "cell_type": "code",
      "metadata": {
        "id": "-KBfRRwTAd-H"
      },
      "source": [
        "# ^_^ Thank You"
      ],
      "execution_count": null,
      "outputs": []
    }
  ]
}
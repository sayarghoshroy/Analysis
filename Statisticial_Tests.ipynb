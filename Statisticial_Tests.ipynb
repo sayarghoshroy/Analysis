{
  "nbformat": 4,
  "nbformat_minor": 0,
  "metadata": {
    "colab": {
      "name": "Statisticial_Tests",
      "provenance": [],
      "collapsed_sections": [],
      "authorship_tag": "ABX9TyN/cwdAIlsF6FkoesdpNlDZ",
      "include_colab_link": true
    },
    "kernelspec": {
      "name": "python3",
      "display_name": "Python 3"
    }
  },
  "cells": [
    {
      "cell_type": "markdown",
      "metadata": {
        "id": "view-in-github",
        "colab_type": "text"
      },
      "source": [
        "<a href=\"https://colab.research.google.com/github/sayarghoshroy/Analysis/blob/main/Statisticial_Tests.ipynb\" target=\"_parent\"><img src=\"https://colab.research.google.com/assets/colab-badge.svg\" alt=\"Open In Colab\"/></a>"
      ]
    },
    {
      "cell_type": "code",
      "metadata": {
        "id": "aAg-BEA_6Tkk"
      },
      "source": [
        "# Problems on statistical tests"
      ],
      "execution_count": 1,
      "outputs": []
    },
    {
      "cell_type": "code",
      "metadata": {
        "id": "d5oDpHcE-2dp"
      },
      "source": [
        "import numpy as np\n",
        "import scipy as sc\n",
        "from scipy.stats import f\n",
        "from scipy.stats import t"
      ],
      "execution_count": 2,
      "outputs": []
    },
    {
      "cell_type": "markdown",
      "metadata": {
        "id": "gjRQyuF66YmQ"
      },
      "source": [
        "### $ Problem\\ 3$"
      ]
    },
    {
      "cell_type": "code",
      "metadata": {
        "id": "7j_JnTCz6aZ8"
      },
      "source": [
        "data = [[69, 153],\n",
        "        [74, 175],\n",
        "        [68, 155],\n",
        "        [70, 135],\n",
        "        [72, 172],\n",
        "        [67, 150],\n",
        "        [66, 115],\n",
        "        [70, 137],\n",
        "        [76, 200],\n",
        "        [68, 130],\n",
        "        [72, 140],\n",
        "        [79, 265],\n",
        "        [74, 185],\n",
        "        [67, 112],\n",
        "        [66, 140],\n",
        "        [71, 150],\n",
        "        [74, 165],\n",
        "        [75, 185],\n",
        "        [75, 210],\n",
        "        [71, 149]]\n",
        "\n",
        "data = np.asarray(data).T"
      ],
      "execution_count": 3,
      "outputs": []
    },
    {
      "cell_type": "code",
      "metadata": {
        "id": "XGWQqJXt-7bk"
      },
      "source": [
        "# Computing Components\n",
        "alpha = 0.05\n",
        "n = data.shape[1]\n",
        "sample_mean = np.mean(data, axis = 1)\n",
        "target_mean = np.asarray([70, 170])\n",
        "difference = np.asmatrix(sample_mean - target_mean).T\n",
        "sample_covariance = np.cov(data)\n",
        "known_covariance = np.asmatrix([[20, 100], [100, 1000]])"
      ],
      "execution_count": 4,
      "outputs": []
    },
    {
      "cell_type": "code",
      "metadata": {
        "colab": {
          "base_uri": "https://localhost:8080/"
        },
        "id": "72JITSyw_lHV",
        "outputId": "d34650f3-10a2-4d6f-d93d-2ebbe4a7a2c0"
      },
      "source": [
        "# Computing T-Squared Stat\n",
        "Z_squared_stat = np.ravel(n * np.matmul(np.matmul(difference.T, np.linalg.inv(known_covariance)), difference))[0]\n",
        "print('Calculated Z-square statistic value = ' + str(Z_squared_stat))\n",
        "critical_value = 5.991\n",
        "print('Chi Squared Distibution Percentage Points for: ')\n",
        "print('Degrees of Freedom = p = ' + str(data.shape[0]) + ' with alpha = ' + str(alpha)+ ' is ' + str(critical_value))"
      ],
      "execution_count": 5,
      "outputs": [
        {
          "output_type": "stream",
          "text": [
            "Calculated Z-square statistic value = 10.260900000000017\n",
            "Chi Squared Distibution Percentage Points for: \n",
            "Degrees of Freedom = p = 2 with alpha = 0.05 is 5.991\n"
          ],
          "name": "stdout"
        }
      ]
    },
    {
      "cell_type": "markdown",
      "metadata": {
        "id": "WWbZXApiPkS4"
      },
      "source": [
        "$We\\ therefore\\ reject\\ H_{0}\\ as\\ calculated\\ value\\ of\\ the\\ Z^2\\ statistic\\ =\\ 10.261\\ is\\ \\ge\\ \\chi^2_{\\alpha, p}\\ =\\ 5.991$"
      ]
    },
    {
      "cell_type": "markdown",
      "metadata": {
        "id": "6lwzeK2626-a"
      },
      "source": [
        "## $Problem\\ 6$"
      ]
    },
    {
      "cell_type": "code",
      "metadata": {
        "id": "8J4WJZoZYND1"
      },
      "source": [
        "data = [[51, 36, 50, 35, 42],\n",
        "        [27, 20, 26, 17, 27],\n",
        "        [37, 22, 41, 37, 30],\n",
        "        [42, 36, 32, 34, 27],\n",
        "        [27, 18, 33, 14, 29],\n",
        "        [43, 32, 43, 35, 40],\n",
        "        [41, 22, 36, 25, 38],\n",
        "        [38, 21, 31, 20, 16],\n",
        "        [36, 23, 27, 25, 28],\n",
        "        [26, 31, 31, 32, 36],\n",
        "        [29, 20, 25, 26, 25]]\n",
        "\n",
        "data = np.asarray(data).T\n",
        "\n",
        "n = data.shape[1]\n",
        "sample_mean = np.mean(data, axis = 1)\n",
        "sample_covariance = np.cov(data)\n",
        "\n",
        "target_mean = np.asarray([30, 25, 40, 25, 30])"
      ],
      "execution_count": 6,
      "outputs": []
    },
    {
      "cell_type": "code",
      "metadata": {
        "id": "z8Ek4K8SjLux"
      },
      "source": [
        "def T_square_value(alpha, p, v):\n",
        "  # 'v' being the number of degrees of freedom \n",
        "  # 'p' - variable setting\n",
        "\n",
        "  return f.isf(alpha, p, v - p + 1) / (v - p + 1) * (v * p)\n",
        "\n",
        "def T_value(alpha, p, v):\n",
        "  return np.sqrt(T_square_value(alpha, p, v))\n",
        "\n",
        "def get_t_value(alpha, v):\n",
        "  return t.isf(alpha, v)"
      ],
      "execution_count": 7,
      "outputs": []
    },
    {
      "cell_type": "code",
      "metadata": {
        "colab": {
          "base_uri": "https://localhost:8080/"
        },
        "id": "LrnVDhYiqPcN",
        "outputId": "e5e3bf59-cb5d-45a8-984f-29250499fdfd"
      },
      "source": [
        "print('Constructing 95 % Simultaneous Confidence intervals:')\n",
        "print()\n",
        "\n",
        "critical_T_value = T_value(alpha, data.shape[0], data.shape[1] - 1)\n",
        "\n",
        "for case in range(0, 5):\n",
        "  component = np.sqrt(sample_covariance[case, case] / data.shape[1])\n",
        "  lower_bound = sample_mean[case] - critical_T_value * component\n",
        "  upper_bound = sample_mean[case] + critical_T_value * component\n",
        "  print('Range for mu suffix ' + str(case + 1) + ' = (' + str(lower_bound) + ', ' + str(upper_bound) + ')')"
      ],
      "execution_count": 8,
      "outputs": [
        {
          "output_type": "stream",
          "text": [
            "Constructing 95 % Simultaneous Confidence intervals:\n",
            "\n",
            "Range for mu suffix 1 = (21.38216673123666, 50.79965145058153)\n",
            "Range for mu suffix 2 = (13.170678931334397, 37.9202301595747)\n",
            "Range for mu suffix 3 = (19.888003712834678, 48.29381446898351)\n",
            "Range for mu suffix 4 = (12.823053128113768, 41.72240141734078)\n",
            "Range for mu suffix 5 = (16.81671024417858, 44.63783521036687)\n"
          ],
          "name": "stdout"
        }
      ]
    },
    {
      "cell_type": "code",
      "metadata": {
        "colab": {
          "base_uri": "https://localhost:8080/"
        },
        "id": "MhPGa4t4wTjY",
        "outputId": "908546b5-8a69-4dc2-c2a5-0bc64ea45405"
      },
      "source": [
        "print('Constructing 95 % Bonferroni Confidence intervals:')\n",
        "print()\n",
        "\n",
        "critical_t_value = get_t_value(alpha / (2 * data.shape[0]), data.shape[1] - 1)\n",
        "\n",
        "for case in range(0, 5):\n",
        "  component = np.sqrt(sample_covariance[case, case] / data.shape[1])\n",
        "  lower_bound = sample_mean[case] - critical_t_value * component\n",
        "  upper_bound = sample_mean[case] + critical_t_value * component\n",
        "  print('Range for mu suffix ' + str(case + 1) + ' = (' + str(lower_bound) + ', ' + str(upper_bound) + ')')"
      ],
      "execution_count": 9,
      "outputs": [
        {
          "output_type": "stream",
          "text": [
            "Constructing 95 % Bonferroni Confidence intervals:\n",
            "\n",
            "Range for mu suffix 1 = (28.38145846944604, 43.80035971237214)\n",
            "Range for mu suffix 2 = (19.059330904434496, 32.0315781864746)\n",
            "Range for mu suffix 3 = (26.64658822267579, 41.5352299591424)\n",
            "Range for mu suffix 4 = (19.699064848701376, 34.84638969675317)\n",
            "Range for mu suffix 5 = (23.436180670740228, 38.018364783805225)\n"
          ],
          "name": "stdout"
        }
      ]
    },
    {
      "cell_type": "code",
      "metadata": {
        "colab": {
          "base_uri": "https://localhost:8080/"
        },
        "id": "CC9HQf7ayhKb",
        "outputId": "d2e8caa1-86f9-4d3a-e233-7de329c89873"
      },
      "source": [
        "print('Testing with a Bonferroni Critical Value:')\n",
        "print()\n",
        "\n",
        "critical_t_value = get_t_value(alpha / (2 * data.shape[0]), data.shape[1] - 1)\n",
        "print('Bonferroni Critical Value = ' + str(critical_t_value))\n",
        "print()\n",
        "\n",
        "for case in range(0, 5):\n",
        "  t_value = (sample_mean[case] - target_mean[case]) * np.sqrt(data.shape[1]) / np.sqrt(sample_covariance[case, case])\n",
        "  print('Absolute value t for case ' + str(case + 1) + ' = ' + str(np.abs(t_value)))\n",
        "  print('t suffix ' + str(case + 1) + ' is >= Bonferroni Critical Value: ' + str(np.abs(t_value) >= critical_t_value))\n",
        "  print()"
      ],
      "execution_count": 10,
      "outputs": [
        {
          "output_type": "stream",
          "text": [
            "Testing with a Bonferroni Critical Value:\n",
            "\n",
            "Bonferroni Critical Value = 3.169272667175838\n",
            "\n",
            "Absolute value t for case 1 = 2.5039075607189867\n",
            "t suffix 1 is >= Bonferroni Critical Value: False\n",
            "\n",
            "Absolute value t for case 2 = 0.2665219286236194\n",
            "t suffix 2 is >= Bonferroni Critical Value: False\n",
            "\n",
            "Absolute value t for case 3 = 2.5156788157740264\n",
            "t suffix 3 is >= Bonferroni Critical Value: False\n",
            "\n",
            "Absolute value t for case 4 = 0.951044821135667\n",
            "t suffix 4 is >= Bonferroni Critical Value: False\n",
            "\n",
            "Absolute value t for case 5 = 0.316128991138271\n",
            "t suffix 5 is >= Bonferroni Critical Value: False\n",
            "\n"
          ],
          "name": "stdout"
        }
      ]
    },
    {
      "cell_type": "markdown",
      "metadata": {
        "id": "zm_gU_tJ1ouu"
      },
      "source": [
        "##### $Therefore,\\ we\\ cannot\\ reject\\ the\\ Null\\ Hypothesis.$"
      ]
    },
    {
      "cell_type": "code",
      "metadata": {
        "id": "-KBfRRwTAd-H"
      },
      "source": [
        "# ^_^ Thank You"
      ],
      "execution_count": 11,
      "outputs": []
    }
  ]
}
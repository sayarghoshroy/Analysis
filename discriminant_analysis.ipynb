{
  "nbformat": 4,
  "nbformat_minor": 0,
  "metadata": {
    "colab": {
      "name": "discriminant_analysis.ipynb",
      "provenance": [],
      "authorship_tag": "ABX9TyOOAB/o8jW7naXurXRkhdjM",
      "include_colab_link": true
    },
    "kernelspec": {
      "name": "python3",
      "display_name": "Python 3"
    },
    "language_info": {
      "name": "python"
    }
  },
  "cells": [
    {
      "cell_type": "markdown",
      "metadata": {
        "id": "view-in-github",
        "colab_type": "text"
      },
      "source": [
        "<a href=\"https://colab.research.google.com/github/sayarghoshroy/Analysis/blob/main/discriminant_analysis.ipynb\" target=\"_parent\"><img src=\"https://colab.research.google.com/assets/colab-badge.svg\" alt=\"Open In Colab\"/></a>"
      ]
    },
    {
      "cell_type": "code",
      "metadata": {
        "id": "7ws1JSCnjyoj"
      },
      "source": [
        "import numpy as np"
      ],
      "execution_count": 1,
      "outputs": []
    },
    {
      "cell_type": "markdown",
      "metadata": {
        "id": "81cMCgoLj5ZI"
      },
      "source": [
        "# $Problem\\ 4$"
      ]
    },
    {
      "cell_type": "code",
      "metadata": {
        "colab": {
          "base_uri": "https://localhost:8080/"
        },
        "id": "0Y1Gv_K0j8Tx",
        "outputId": "f4dff617-40f1-4913-c8af-6d76a9bfa9ac"
      },
      "source": [
        "data_males = [[15, 17, 24, 14],\n",
        "              [17, 15, 32, 26],\n",
        "              [15, 14, 29, 23],\n",
        "              [13, 12, 10, 16],\n",
        "              [20, 17, 26, 28],\n",
        "              [15, 21, 26, 21],\n",
        "              [15, 13, 26, 22],\n",
        "              [13, 5, 22, 22],\n",
        "              [14, 7, 30, 17],\n",
        "              [17, 15, 30, 27],\n",
        "              [17, 17, 26, 20],\n",
        "              [17, 20, 28, 24],\n",
        "              [15, 15, 29, 24],\n",
        "              [18, 19, 32, 28],\n",
        "              [18, 18, 31, 27],\n",
        "              [15, 14, 26, 21],\n",
        "              [18, 17, 33, 26],\n",
        "              [10, 14, 19, 17],\n",
        "              [18, 21, 30, 29],\n",
        "              [18, 21, 34, 26],\n",
        "              [13, 17, 30, 24],\n",
        "              [16, 16, 16, 16],\n",
        "              [11, 15, 25, 23],\n",
        "              [16, 13, 26, 16],\n",
        "              [16, 13, 23, 21],\n",
        "              [18, 18, 34, 24],\n",
        "              [16, 15, 28, 27],\n",
        "              [15, 16, 29, 24],\n",
        "              [18, 19, 32, 23],\n",
        "              [18, 16, 33, 23],\n",
        "              [17, 20, 21, 21],\n",
        "              [19, 19, 30, 28]]\n",
        "\n",
        "data_females = [[13, 14, 12, 21],\n",
        "                [14, 12, 14, 26],\n",
        "                [12, 19, 21, 21],\n",
        "                [12, 13, 10, 16],\n",
        "                [11, 20, 16, 16],\n",
        "                [12, 9, 14, 18],\n",
        "                [10, 13, 18, 24],\n",
        "                [10, 8, 13, 23],\n",
        "                [12, 20, 19, 23],\n",
        "                [11, 10, 11, 27],\n",
        "                [12, 18, 25, 25],\n",
        "                [14, 18, 13, 26],\n",
        "                [14, 10, 25, 28],\n",
        "                [13, 16, 23, 28],\n",
        "                [16, 21, 26, 26],\n",
        "                [14, 17, 14, 14],\n",
        "                [16, 16, 15, 23],\n",
        "                [13, 16, 23, 24],\n",
        "                [2, 6, 16, 21],\n",
        "                [14, 16, 22, 26],\n",
        "                [14, 17, 22, 28],\n",
        "                [16, 13, 16, 14],\n",
        "                [15, 14, 20, 26],\n",
        "                [12, 10, 12, 9],\n",
        "                [14, 17, 24, 23],\n",
        "                [13, 15, 18, 20],\n",
        "                [11, 16, 18, 28],\n",
        "                [7, 7, 19, 18],\n",
        "                [12, 15, 7, 28],\n",
        "                [6, 5, 6, 13]]\n",
        "\n",
        "data_females = np.asarray(data_females)\n",
        "data_males = np.asarray(data_males)\n",
        "\n",
        "count_females = np.shape(data_females)[0]\n",
        "count_males = np.shape(data_females)[0]\n",
        "total_count = count_females + count_males\n",
        "\n",
        "mean_females = np.mean(data_females, axis = 0)\n",
        "mean_males = np.mean(data_males, axis = 0)\n",
        "\n",
        "covariance_females = np.cov(data_females.T)\n",
        "covariance_males = np.cov(data_males.T)\n",
        "\n",
        "pooled_covariance = ((count_females - 1) * covariance_females +\n",
        "                     (count_males - 1) * covariance_males) / (total_count - 2)\n",
        "\n",
        "disc_coeff_vector = np.matmul(np.linalg.inv(pooled_covariance), (mean_males - mean_females))\n",
        "\n",
        "print('Required Discriminant Function Coefficient Vector:')\n",
        "print(np.round(disc_coeff_vector, 4))"
      ],
      "execution_count": 2,
      "outputs": [
        {
          "output_type": "stream",
          "text": [
            "Required Discriminant Function Coefficient Vector:\n",
            "[ 0.5621 -0.2294  0.4412 -0.2863]\n"
          ],
          "name": "stdout"
        }
      ]
    },
    {
      "cell_type": "markdown",
      "metadata": {
        "id": "-Vug91Wgnnjp"
      },
      "source": [
        "# $Problem\\ 5$"
      ]
    },
    {
      "cell_type": "code",
      "metadata": {
        "id": "arg6bDFvln8h"
      },
      "source": [
        "method_1 = [[5.4, 6.0, 6.3, 6.7],\n",
        "            [5.2, 6.2, 6.0, 5.8],\n",
        "            [6.1, 5.9, 6.0, 7.0],\n",
        "            [4.8, 5.0, 4.9, 5.0],\n",
        "            [5.0, 5.7, 5.0, 6.5],\n",
        "            [5.7, 6.1, 6.0, 6.6],\n",
        "            [6.0, 6.0, 5.8, 6.0],\n",
        "            [4.0, 5.0, 4.0, 5.0],\n",
        "            [5.7, 5.4, 4.9, 5.0],\n",
        "            [5.6, 5.2, 5.4, 5.8],\n",
        "            [5.8, 6.1, 5.2, 6.4],\n",
        "            [5.3, 5.9, 5.8, 6.0]]\n",
        "\n",
        "method_2 = [[5.0, 5.3, 5.3, 6.5],\n",
        "            [4.8, 4.9, 4.2, 5.6],\n",
        "            [3.9, 4.0, 4.4, 5.0],\n",
        "            [4.0, 5.1, 4.8, 5.8],\n",
        "            [5.6, 5.4, 5.1, 6.2],\n",
        "            [6.0, 5.5, 5.7, 6.0],\n",
        "            [5.2, 4.8, 5.4, 6.0],\n",
        "            [5.3, 5.1, 5.8, 6.4],\n",
        "            [5.9, 6.1, 5.7, 6.0],\n",
        "            [6.1, 6.0, 6.1, 6.2],\n",
        "            [6.2, 5.7, 5.9, 6.0],\n",
        "            [5.1, 4.9, 5.3, 4.8]]\n",
        "\n",
        "method_3 = [[4.8, 5.0, 6.5, 7.0],\n",
        "            [5.4, 5.0, 6.0, 6.4],\n",
        "            [4.9, 5.1, 5.9, 6.5],\n",
        "            [5.7, 5.2, 6.4, 6.4],\n",
        "            [4.2, 4.6, 5.3, 6.3],\n",
        "            [6.0, 5.3, 5.8, 5.4],\n",
        "            [5.1, 5.2, 6.2, 6.5],\n",
        "            [4.8, 4.6, 5.7, 5.7],\n",
        "            [5.3, 5.4, 6.8, 6.6],\n",
        "            [4.6, 4.4, 5.7, 5.6],\n",
        "            [4.5, 4.0, 5.0, 5.9],\n",
        "            [4.4, 4.2, 5.6, 5.5]]\n",
        "\n",
        "method_1 = np.asarray(method_1)\n",
        "method_2 = np.asarray(method_2)\n",
        "method_3 = np.asarray(method_3)\n",
        "methods = [method_1, method_2, method_3]\n",
        "\n",
        "all_data = np.vstack(methods)\n",
        "\n",
        "# As there are three methods\n",
        "k = 3\n",
        "n = methods[0].shape[0]\n",
        "p = methods[0].shape[1]\n",
        "\n",
        "total_mean = np.mean(all_data, 0)\n",
        "means = []\n",
        "\n",
        "for method in methods:\n",
        "  means.append(np.mean(method, 0))"
      ],
      "execution_count": 3,
      "outputs": []
    },
    {
      "cell_type": "code",
      "metadata": {
        "colab": {
          "base_uri": "https://localhost:8080/"
        },
        "id": "05Uk8nfHrate",
        "outputId": "9636b8c0-86ca-4a69-a6c6-46ff7d044dbc"
      },
      "source": [
        "# Computing between Sum of Squares\n",
        "H = np.zeros((p, p))\n",
        "for mean in means:\n",
        "  unit = np.asmatrix(mean - total_mean)\n",
        "  print(unit)\n",
        "  H += np.matmul(unit.T, unit)\n",
        "\n",
        "H = n * H"
      ],
      "execution_count": 4,
      "outputs": [
        {
          "output_type": "stream",
          "text": [
            "[[ 0.17777778  0.45       -0.11111111 -0.01944444]]\n",
            "[[ 0.05277778 -0.025      -0.24444444 -0.12777778]]\n",
            "[[-0.23055556 -0.425       0.35555556  0.14722222]]\n"
          ],
          "name": "stdout"
        }
      ]
    },
    {
      "cell_type": "code",
      "metadata": {
        "id": "-wC3VFqgv3Bm"
      },
      "source": [
        "# Computing within Sum of Squares\n",
        "E = np.zeros((p, p))\n",
        "\n",
        "for i in range(k):\n",
        "  for j in range(n):\n",
        "    unit = np.asmatrix(methods[i][j] - means[i])\n",
        "    E += np.matmul(unit.T, unit)\n",
        "\n",
        "consider = np.matmul(np.linalg.inv(E), H)"
      ],
      "execution_count": 5,
      "outputs": []
    },
    {
      "cell_type": "code",
      "metadata": {
        "colab": {
          "base_uri": "https://localhost:8080/"
        },
        "id": "885bdopfw8EO",
        "outputId": "5fb2821d-efa9-42bd-ce41-f5acd26e91c9"
      },
      "source": [
        "# Computing eigenvectors of inverse(E).H\n",
        "\n",
        "eigen_values, eigen_vectors = np.linalg.eig(consider)\n",
        "positions = np.argsort(-1 * eigen_values)\n",
        "\n",
        "for vector_index, index in enumerate(positions):\n",
        "  print('Eigen Vector ' + str(vector_index + 1) + ' = ')\n",
        "  print(np.round(eigen_vectors[:, index], 4))\n",
        "  print()"
      ],
      "execution_count": 6,
      "outputs": [
        {
          "output_type": "stream",
          "text": [
            "Eigen Vector 1 = \n",
            "[-0.013   0.8274 -0.5496 -0.1149]\n",
            "\n",
            "Eigen Vector 2 = \n",
            "[ 0.6057 -0.5857 -0.5088  0.1767]\n",
            "\n",
            "Eigen Vector 3 = \n",
            "[-0.2557  0.0156 -0.4918  0.8322]\n",
            "\n",
            "Eigen Vector 4 = \n",
            "[ 0.8065 -0.3107 -0.0554  0.4999]\n",
            "\n"
          ],
          "name": "stdout"
        }
      ]
    },
    {
      "cell_type": "code",
      "metadata": {
        "id": "pH4KtnjTxhde"
      },
      "source": [
        "# ^_^ Thank You"
      ],
      "execution_count": 7,
      "outputs": []
    }
  ]
}
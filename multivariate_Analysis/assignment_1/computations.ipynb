{
 "cells": [
  {
   "cell_type": "markdown",
   "metadata": {},
   "source": [
    "### Multivariate Analysis Assigmment 1 Solutions\n",
    "- Sayar Ghosh Roy\n",
    "- Roll Number: $20171047$"
   ]
  },
  {
   "cell_type": "code",
   "execution_count": 1,
   "metadata": {
    "id": "WSpHrwYPaeW2"
   },
   "outputs": [],
   "source": [
    "import numpy as np\n",
    "np.set_printoptions(suppress = True)"
   ]
  },
  {
   "cell_type": "markdown",
   "metadata": {
    "id": "Ff-MsIBWa-qj"
   },
   "source": [
    "## $Problem\\ 1$"
   ]
  },
  {
   "cell_type": "code",
   "execution_count": 2,
   "metadata": {
    "id": "8DfaHLGVagGH"
   },
   "outputs": [],
   "source": [
    "y_1 = [35, 35, 40, 10, 6, 20, 35, 35, 35, 30]\n",
    "y_2 = [3.5, 4.9, 30.0, 2.8, 2.7, 2.8, 4.6, 10.9, 8.0, 1.6]\n",
    "y_3 = [2.80, 2.70, 4.38, 3.21, 2.73, 2.81, 2.88, 2.90, 3.28, 3.20]"
   ]
  },
  {
   "cell_type": "code",
   "execution_count": 3,
   "metadata": {
    "colab": {
     "base_uri": "https://localhost:8080/"
    },
    "id": "vAoF7MM7a30N",
    "outputId": "d958f82e-0b3e-47dc-c197-634ce156beee"
   },
   "outputs": [
    {
     "name": "stdout",
     "output_type": "stream",
     "text": [
      "Data Matrix Dimensions: (10, 3)\n"
     ]
    }
   ],
   "source": [
    "y_1 = np.asarray(y_1)\n",
    "y_2 = np.asarray(y_2)\n",
    "y_3 = np.asarray(y_3)\n",
    "\n",
    "Y = np.stack((y_1, y_2, y_3)).T\n",
    "print('Data Matrix Dimensions: ' + str(Y.shape))"
   ]
  },
  {
   "cell_type": "code",
   "execution_count": 4,
   "metadata": {
    "id": "4Djpad_VbbUN"
   },
   "outputs": [],
   "source": [
    "mean_vector = np.mean(Y, axis = 0)\n",
    "covariance = np.cov(Y.T)\n",
    "correlation = np.corrcoef(Y.T)"
   ]
  },
  {
   "cell_type": "code",
   "execution_count": 5,
   "metadata": {
    "colab": {
     "base_uri": "https://localhost:8080/"
    },
    "id": "U_kyt_HcbdWd",
    "outputId": "6511b4ee-bed2-497e-e480-09607d3025a7"
   },
   "outputs": [
    {
     "name": "stdout",
     "output_type": "stream",
     "text": [
      "Mean Vector: \n",
      "[28.1, 7.18, 3.09]\n",
      "\n",
      "Sample covariance matrix:\n",
      "[[140.54  49.68   1.94]\n",
      " [ 49.68  72.25   3.68]\n",
      " [  1.94   3.68   0.25]]\n",
      "\n",
      "Sample correlation matrix\n",
      "[[1.   0.49 0.33]\n",
      " [0.49 1.   0.86]\n",
      " [0.33 0.86 1.  ]]\n"
     ]
    }
   ],
   "source": [
    "print('Mean Vector: ')\n",
    "print(np.ndarray.tolist(np.around(mean_vector, 2)))\n",
    "print()\n",
    "\n",
    "print('Sample covariance matrix:')\n",
    "print(np.around(covariance, 2))\n",
    "print()\n",
    "\n",
    "print('Sample correlation matrix')\n",
    "print(np.around(correlation, 2))"
   ]
  },
  {
   "cell_type": "markdown",
   "metadata": {
    "id": "FcDBwJk4doGv"
   },
   "source": [
    "## $Problem\\ 2$"
   ]
  },
  {
   "cell_type": "code",
   "execution_count": 6,
   "metadata": {
    "colab": {
     "base_uri": "https://localhost:8080/"
    },
    "id": "JHTe1FsWbrEP",
    "outputId": "656f0738-05cf-4978-a344-9a4ec255568c"
   },
   "outputs": [
    {
     "name": "stdout",
     "output_type": "stream",
     "text": [
      "z: [288, 155, 224, 175, 192, 242, 236, 192, 173, 144, 146]\n",
      "w: [60, 24, 39, 98, 4, 51, 20, 58, 47, 48, 40]\n"
     ]
    }
   ],
   "source": [
    "data = [[51, 36, 50, 35, 42],\n",
    "        [27, 20, 26, 17, 27],\n",
    "        [37, 22, 41, 37, 30],\n",
    "        [42, 36, 32, 34, 27],\n",
    "        [27, 18, 33, 14, 29],\n",
    "        [43, 32, 43, 35, 40],\n",
    "        [41, 22, 36, 25, 38],\n",
    "        [38, 21, 31, 20, 16],\n",
    "        [36, 23, 27, 25, 28],\n",
    "        [26, 31, 31, 32, 36],\n",
    "        [29, 20, 25, 26, 25]]\n",
    "\n",
    "weights = [[1, 1, 1, 1, 1],\n",
    "          [2, -3, 1, -2, -1],\n",
    "          [-1, -2, 1, -2, 3]]\n",
    "\n",
    "data = np.asmatrix(data)\n",
    "weights = np.asmatrix(weights)\n",
    "\n",
    "y = {}\n",
    "# Stores feature specific data, namely y_1, y_2, ... , y_5\n",
    "for index in range(1, 6):\n",
    "  y[index] = np.asarray(data[:, index - 1].T).reshape(-1)\n",
    "\n",
    "z = 3 * y[1] - 2 * y[2] + 4 * y[3] - y[4] + y[5]\n",
    "w = y[1] + 3 * y[2] - y[3] + y[4] - 2 * y[5]\n",
    "\n",
    "print('z: ' + str(np.ndarray.tolist(z)))\n",
    "print('w: ' + str(np.ndarray.tolist(w)))"
   ]
  },
  {
   "cell_type": "code",
   "execution_count": 7,
   "metadata": {
    "colab": {
     "base_uri": "https://localhost:8080/"
    },
    "id": "0rVJloH_eMTQ",
    "outputId": "48fb4d87-2b90-4c9b-8b67-fc2232319475"
   },
   "outputs": [
    {
     "name": "stdout",
     "output_type": "stream",
     "text": [
      "Mean of z: 197.0\n",
      "Unbiased Variance of z: 2084.0\n",
      "Biased Variance of z: 1894.55\n",
      "\n",
      "Mean of w: 44.45\n",
      "Unbiased Variance of z: 605.67\n",
      "Biased Variance of w: 550.61\n"
     ]
    }
   ],
   "source": [
    "def unbiased_var(vec):\n",
    "  variance = np.var(vec)\n",
    "  size = np.shape(vec)[0]\n",
    "  unbiased = variance * size / (size - 1)\n",
    "  return unbiased\n",
    "\n",
    "z_mean = np.mean(z)\n",
    "z_var = np.var(z)\n",
    "\n",
    "w_mean = np.mean(w)\n",
    "w_var = np.var(w)\n",
    "\n",
    "print('Mean of z: ' + str(np.around(z_mean, 2)))\n",
    "print('Unbiased Variance of z: ' + str(np.around(unbiased_var(z), 2)))\n",
    "print('Biased Variance of z: ' + str(np.around(z_var, 2)))\n",
    "print()\n",
    "\n",
    "print('Mean of w: ' + str(np.around(w_mean, 2)))\n",
    "print('Unbiased Variance of z: ' + str(np.around(unbiased_var(w), 2)))\n",
    "print('Biased Variance of w: ' + str(np.around(w_var, 2)))"
   ]
  },
  {
   "cell_type": "code",
   "execution_count": 8,
   "metadata": {
    "colab": {
     "base_uri": "https://localhost:8080/"
    },
    "id": "Zpd_aBJeeUbT",
    "outputId": "24e3268c-f6c6-4331-861e-b2935d167d47"
   },
   "outputs": [
    {
     "name": "stdout",
     "output_type": "stream",
     "text": [
      "Covariance between z and w:\n",
      "[[2084.     40.2 ]\n",
      " [  40.2   605.67]]\n",
      "\n",
      "Correlation between z and w:\n",
      "[[1.   0.04]\n",
      " [0.04 1.  ]]\n"
     ]
    }
   ],
   "source": [
    "s_zw = np.cov(z, w)\n",
    "r_zw = np.corrcoef(z, w)\n",
    "\n",
    "print('Covariance between z and w:')\n",
    "print(np.around(s_zw, 2))\n",
    "print()\n",
    "\n",
    "print('Correlation between z and w:')\n",
    "print(np.around(r_zw, 2))"
   ]
  },
  {
   "cell_type": "code",
   "execution_count": 9,
   "metadata": {
    "colab": {
     "base_uri": "https://localhost:8080/"
    },
    "id": "wPu4tSZRifSS",
    "outputId": "70a9e062-3552-4454-b6de-3f85044c0092"
   },
   "outputs": [
    {
     "name": "stdout",
     "output_type": "stream",
     "text": [
      "Dimension of Matrix 'data':\n",
      "(11, 5)\n",
      "\n",
      "Dimension of Matrix 'weights':\n",
      "(3, 5)\n",
      "\n",
      "Dimension of Combination Matrix 'Z':\n",
      "(3, 11)\n",
      "\n",
      "Matrix Z.T = \n",
      "[[ 214  117  167  171  121  193  162  126  139  156  125]\n",
      " [ -68  -41  -55  -87  -24  -77  -36  -12  -48 -110  -54]\n",
      " [ -17    6  -24  -69   29  -14   15  -41  -21  -13  -21]]\n",
      "\n",
      "Mean of Z: \n",
      "[153.73, -55.64, -15.45]\n",
      "\n",
      "Covariance of Z\n",
      "[[ 995.42 -502.09 -211.04]\n",
      " [-502.09  811.45  268.08]\n",
      " [-211.04  268.08  702.87]]\n",
      "\n",
      "Correlation of Z\n",
      "[[ 1.   -0.56 -0.25]\n",
      " [-0.56  1.    0.35]\n",
      " [-0.25  0.35  1.  ]]\n"
     ]
    }
   ],
   "source": [
    "print('Dimension of Matrix \\'data\\':')\n",
    "print(np.shape(data))\n",
    "print()\n",
    "\n",
    "print('Dimension of Matrix \\'weights\\':')\n",
    "print(np.shape(weights))\n",
    "print()\n",
    "\n",
    "Z = np.matmul(weights, data.T)\n",
    "print('Dimension of Combination Matrix \\'Z\\':')\n",
    "print(np.shape(Z))\n",
    "print()\n",
    "\n",
    "print('Matrix Z.T = ')\n",
    "print(np.around(Z, 2))\n",
    "print()\n",
    "\n",
    "mean_Z = np.mean(Z.T, axis = 0)\n",
    "s_Z = np.cov(Z)\n",
    "r_Z = np.corrcoef(Z)\n",
    "\n",
    "print('Mean of Z: ')\n",
    "print(np.ndarray.tolist(np.around(mean_Z, 2).reshape(-1)))\n",
    "print()\n",
    "\n",
    "print('Covariance of Z')\n",
    "print(np.around(s_Z, 2))\n",
    "print()\n",
    "\n",
    "print('Correlation of Z')\n",
    "print(np.around(r_Z, 2))"
   ]
  },
  {
   "cell_type": "markdown",
   "metadata": {
    "id": "q6FpAd3dmddy"
   },
   "source": [
    "## $Problem\\ 3$"
   ]
  },
  {
   "cell_type": "code",
   "execution_count": 10,
   "metadata": {
    "id": "eCjDyu8GkjWS"
   },
   "outputs": [],
   "source": [
    "y_1 = [81, 95, 94, 104, 100, 76, 91, 110, 99, 78, 90, 73, 96, 84, 74,\n",
    "       98, 110, 85, 83, 93, 95, 74, 95, 97, 72]\n",
    "\n",
    "y_2 = [80, 97, 105, 90, 90, 86, 100, 85, 97, 97, 91, 87, 78, 91, 86,\n",
    "       80, 90, 99, 85, 90, 91, 88, 95, 91, 92]\n",
    "\n",
    "x_1 = [356, 289, 319, 356, 323, 381, 350, 301, 379, 296, 353, 306, 290, 371, 312,\n",
    "       393, 364, 359, 296, 345, 378, 304, 347, 327, 386]\n",
    "\n",
    "x_2 = [124, 117, 143, 199, 240, 157, 221, 186, 142, 131, 221, 178, 136, 200, 208,\n",
    "       202, 152, 185, 116, 123, 136, 134, 184, 192, 279]\n",
    "\n",
    "x_3 = [55, 76, 105, 108, 143, 165, 119, 105, 98, 94, 53, 66, 142, 93, 68,\n",
    "       102, 76, 37, 60, 50, 47, 50, 91, 124, 74]"
   ]
  },
  {
   "cell_type": "code",
   "execution_count": 11,
   "metadata": {
    "colab": {
     "base_uri": "https://localhost:8080/"
    },
    "id": "Umu-YfUZn6_t",
    "outputId": "4d9d060a-6661-4e03-ffe0-92acfaf52d92"
   },
   "outputs": [
    {
     "name": "stdout",
     "output_type": "stream",
     "text": [
      "Dimensions: \n",
      "y_1: (25,)\n",
      "y_2: (25,)\n",
      "x_1: (25,)\n",
      "x_3: (25,)\n",
      "x_3: (25,)\n",
      "Data: (5, 25)\n"
     ]
    }
   ],
   "source": [
    "y_1 = np.asarray(y_1) * (0.01)\n",
    "y_2 = np.asarray(y_2)\n",
    "x_1 = np.asarray(x_1)\n",
    "x_2 = np.asarray(x_2)\n",
    "x_3 = np.asarray(x_3)\n",
    "data = np.stack((y_1, y_2, x_1, x_2, x_3))\n",
    "\n",
    "# Checking Shapes\n",
    "print('Dimensions: ')\n",
    "print('y_1: ' + str(y_1.shape))\n",
    "print('y_2: ' + str(y_2.shape))\n",
    "print('x_1: ' + str(x_1.shape))\n",
    "print('x_3: ' + str(x_2.shape))\n",
    "print('x_3: ' + str(x_3.shape))\n",
    "print('Data: ' + str(data.shape))\n",
    "\n",
    "u = 2 * y_1 - y_2\n",
    "v = 2 * x_1 - 3 * x_2 + x_3"
   ]
  },
  {
   "cell_type": "code",
   "execution_count": 12,
   "metadata": {},
   "outputs": [
    {
     "data": {
      "text/plain": [
       "array([0.81, 0.95, 0.94, 1.04, 1.  , 0.76, 0.91, 1.1 , 0.99, 0.78, 0.9 ,\n",
       "       0.73, 0.96, 0.84, 0.74, 0.98, 1.1 , 0.85, 0.83, 0.93, 0.95, 0.74,\n",
       "       0.95, 0.97, 0.72])"
      ]
     },
     "execution_count": 12,
     "metadata": {},
     "output_type": "execute_result"
    }
   ],
   "source": [
    "y_1"
   ]
  },
  {
   "cell_type": "code",
   "execution_count": 13,
   "metadata": {
    "colab": {
     "base_uri": "https://localhost:8080/"
    },
    "id": "lkCmoAn-oGR_",
    "outputId": "179cc423-2f9e-4f6f-dced-a8acce784a92"
   },
   "outputs": [
    {
     "name": "stdout",
     "output_type": "stream",
     "text": [
      "For the 'data' Matrix: \n",
      "\n",
      "Mean Vector:\n",
      "[0.899, 90.44, 339.24, 172.24, 88.04]\n",
      "\n",
      "Covariance Matrix\n",
      "[[   0.013    0.046    0.274   -0.2      1.069]\n",
      " [   0.046   42.507    8.973   17.432  -16.81 ]\n",
      " [   0.274    8.973 1122.44   512.69   -16.802]\n",
      " [  -0.2     17.432  512.69  1853.19   305.032]\n",
      " [   1.069  -16.81   -16.802  305.032 1129.457]]\n"
     ]
    }
   ],
   "source": [
    "mean_data = np.mean(data.T, axis = 0)\n",
    "cov_data = np.cov(data)\n",
    "\n",
    "print('For the \\'data\\' Matrix: ')\n",
    "print()\n",
    "\n",
    "print('Mean Vector:')\n",
    "print(np.ndarray.tolist(np.around(mean_data, 3).reshape(-1)))\n",
    "print()\n",
    "\n",
    "print('Covariance Matrix')\n",
    "print(np.around(cov_data, 3))"
   ]
  },
  {
   "cell_type": "code",
   "execution_count": 14,
   "metadata": {
    "colab": {
     "base_uri": "https://localhost:8080/"
    },
    "id": "Kar-0KGNp6RY",
    "outputId": "d010bacb-b4c3-405f-f4fb-d90bdcb25a9f"
   },
   "outputs": [
    {
     "name": "stdout",
     "output_type": "stream",
     "text": [
      "Covariance between u and v:\n",
      "[[   42.37    55.59]\n",
      " [   55.59 14248.25]]\n",
      "\n",
      "Correlation between u and v:\n",
      "[[1.   0.07]\n",
      " [0.07 1.  ]]\n"
     ]
    }
   ],
   "source": [
    "cov_uv = np.cov(u, v)\n",
    "cor_uv = np.corrcoef(u, v)\n",
    "\n",
    "print('Covariance between u and v:')\n",
    "print(np.around(cov_uv, 2))\n",
    "print()\n",
    "\n",
    "print('Correlation between u and v:')\n",
    "print(np.around(cor_uv, 2))"
   ]
  },
  {
   "cell_type": "code",
   "execution_count": 15,
   "metadata": {
    "colab": {
     "base_uri": "https://localhost:8080/"
    },
    "id": "i8Cy2QIXqgI3",
    "outputId": "8cdbe462-aac7-44d8-c269-37ccf6afbe37"
   },
   "outputs": [
    {
     "name": "stdout",
     "output_type": "stream",
     "text": [
      "Dimension of\n",
      "U: (2, 25)\n",
      "V: (2, 25)\n"
     ]
    }
   ],
   "source": [
    "u_1 = y_1 + y_2\n",
    "u_2 = y_1 - y_2\n",
    "v_1 = x_1 + x_2 + x_3\n",
    "v_2 = x_1 - 2 * x_2 + 2 * x_3\n",
    "\n",
    "U = np.stack((u_1, u_2))\n",
    "V = np.stack((v_1, v_2))\n",
    "\n",
    "print('Dimension of')\n",
    "print('U: ' + str(U.shape))\n",
    "print('V: ' + str(V.shape))"
   ]
  },
  {
   "cell_type": "code",
   "execution_count": 16,
   "metadata": {
    "colab": {
     "base_uri": "https://localhost:8080/"
    },
    "id": "8rojkUmHrGQr",
    "outputId": "f7fca775-ef80-4dd8-a852-7bb6ef2f6451"
   },
   "outputs": [
    {
     "name": "stdout",
     "output_type": "stream",
     "text": [
      "Covariance Matrix for 'u':\n",
      "[[ 42.61 -42.49]\n",
      " [-42.49  42.43]]\n",
      "\n",
      "Covariance Matrix for 'v':\n",
      "[[5706.93 -888.12]\n",
      " [-888.12 8494.81]]\n",
      "\n",
      "Covariance Matrix of 'u' and 'v':\n",
      "[[  42.61  -42.49   10.74  -56.7 ]\n",
      " [ -42.49   42.43   -8.45   62.32]\n",
      " [  10.74   -8.45 5706.93 -888.12]\n",
      " [ -56.7    62.32 -888.12 8494.81]]\n"
     ]
    }
   ],
   "source": [
    "print('Covariance Matrix for \\'u\\':')\n",
    "print(np.around(np.cov(U), 2))\n",
    "print()\n",
    "\n",
    "print('Covariance Matrix for \\'v\\':')\n",
    "print(np.around(np.cov(V), 2))\n",
    "print()\n",
    "\n",
    "print('Covariance Matrix of \\'u\\' and \\'v\\':')\n",
    "print(np.around(np.cov(U, V), 2))"
   ]
  },
  {
   "cell_type": "code",
   "execution_count": 17,
   "metadata": {
    "id": "1R3v8lBdr_dQ"
   },
   "outputs": [],
   "source": [
    "# ^_^ Thank You"
   ]
  }
 ],
 "metadata": {
  "colab": {
   "name": "MVA.ipynb",
   "provenance": []
  },
  "kernelspec": {
   "display_name": "Python 3",
   "language": "python",
   "name": "python3"
  },
  "language_info": {
   "codemirror_mode": {
    "name": "ipython",
    "version": 3
   },
   "file_extension": ".py",
   "mimetype": "text/x-python",
   "name": "python",
   "nbconvert_exporter": "python",
   "pygments_lexer": "ipython3",
   "version": "3.7.3"
  }
 },
 "nbformat": 4,
 "nbformat_minor": 1
}

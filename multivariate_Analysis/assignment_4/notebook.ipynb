{
  "nbformat": 4,
  "nbformat_minor": 0,
  "metadata": {
    "colab": {
      "name": "ANOVA.ipynb",
      "provenance": [],
      "collapsed_sections": [],
      "include_colab_link": true
    },
    "kernelspec": {
      "display_name": "Python 3",
      "language": "python",
      "name": "python3"
    },
    "language_info": {
      "codemirror_mode": {
        "name": "ipython",
        "version": 3
      },
      "file_extension": ".py",
      "mimetype": "text/x-python",
      "name": "python",
      "nbconvert_exporter": "python",
      "pygments_lexer": "ipython3",
      "version": "3.7.3"
    }
  },
  "cells": [
    {
      "cell_type": "markdown",
      "metadata": {
        "id": "view-in-github",
        "colab_type": "text"
      },
      "source": [
        "<a href=\"https://colab.research.google.com/github/sayarghoshroy/Analysis/blob/main/ANOVA.ipynb\" target=\"_parent\"><img src=\"https://colab.research.google.com/assets/colab-badge.svg\" alt=\"Open In Colab\"/></a>"
      ]
    },
    {
      "cell_type": "code",
      "metadata": {
        "id": "bS8kzWd7Ugt9"
      },
      "source": [
        "# Problems on the Analysis of Variance"
      ],
      "execution_count": null,
      "outputs": []
    },
    {
      "cell_type": "markdown",
      "metadata": {
        "id": "aw1TlvkAVtmf"
      },
      "source": [
        "## $Problem\\ 1$"
      ]
    },
    {
      "cell_type": "code",
      "metadata": {
        "id": "5Houe944UlpO"
      },
      "source": [
        "import numpy as np\n",
        "import scipy as sc\n",
        "from scipy.stats import f"
      ],
      "execution_count": null,
      "outputs": []
    },
    {
      "cell_type": "code",
      "metadata": {
        "colab": {
          "base_uri": "https://localhost:8080/"
        },
        "id": "d3Ogc2psWDsP",
        "outputId": "75e3cd4c-7186-44b4-af97-d3211d4a23a3"
      },
      "source": [
        "data = [[551, 595, 639, 417, 563],\n",
        "        [457, 580, 615, 449, 631],\n",
        "        [450, 508, 511, 517, 522],\n",
        "        [731, 583, 573, 438, 613],\n",
        "        [499, 633, 648, 415, 656],\n",
        "        [632, 517, 677, 555, 679]]\n",
        "\n",
        "data = np.asmatrix(data)\n",
        "k = data.shape[1]\n",
        "n = data.shape[0]\n",
        "\n",
        "print('k = ' + str(k))\n",
        "print('n = ' + str(n))"
      ],
      "execution_count": null,
      "outputs": [
        {
          "output_type": "stream",
          "text": [
            "k = 5\n",
            "n = 6\n"
          ],
          "name": "stdout"
        }
      ]
    },
    {
      "cell_type": "code",
      "metadata": {
        "colab": {
          "base_uri": "https://localhost:8080/"
        },
        "id": "57ba0wZGWXyf",
        "outputId": "b78820a0-0b8a-4f6a-aa34-da6a549de9ba"
      },
      "source": [
        "total_mean = np.mean(data)\n",
        "row_means = np.asarray(np.ravel(np.mean(data, axis = 0)))\n",
        "\n",
        "print('Total data mean = ' + str(total_mean))\n",
        "print('Row means = ' + str(np.round(row_means, 4)))"
      ],
      "execution_count": null,
      "outputs": [
        {
          "output_type": "stream",
          "text": [
            "Total data mean = 561.8\n",
            "Row means = [553.3333 569.3333 610.5    465.1667 610.6667]\n"
          ],
          "name": "stdout"
        }
      ]
    },
    {
      "cell_type": "code",
      "metadata": {
        "colab": {
          "base_uri": "https://localhost:8080/"
        },
        "id": "hYft_0l6Wxvg",
        "outputId": "f512f13b-e7fb-44a2-f288-73d9e1882004"
      },
      "source": [
        "numerator = (n / (k - 1)) * np.matmul((row_means - total_mean), \n",
        "                                      (row_means - total_mean))\n",
        "denominator = 0\n",
        "\n",
        "for j in range(n):\n",
        "  for i in range(k):\n",
        "    denominator += np.power((data[j, i] - row_means[i]), 2)\n",
        "\n",
        "denominator /= (k * (n - 1))\n",
        "\n",
        "F_value = numerator / denominator\n",
        "alpha = 0.05\n",
        "F_critical = f.isf(alpha, k - 1, k * (n - 1))\n",
        "\n",
        "print('Computed F Value = ' + str(F_value))\n",
        "print('Critical F Value = ' + str(F_critical))\n",
        "print('Computed F value > Critical F value = ' + str(F_value > F_critical))"
      ],
      "execution_count": null,
      "outputs": [
        {
          "output_type": "stream",
          "text": [
            "Computed F Value = 4.30153590405874\n",
            "Critical F Value = 2.758710469717632\n",
            "Computed F value > Critical F value = True\n"
          ],
          "name": "stdout"
        }
      ]
    },
    {
      "cell_type": "markdown",
      "metadata": {
        "id": "YcAYqpG5vQuS"
      },
      "source": [
        "$ We\\ reject\\ H_0.$"
      ]
    },
    {
      "cell_type": "markdown",
      "metadata": {
        "id": "lofmyOBiaGnq"
      },
      "source": [
        "## $Problem\\ 2$"
      ]
    },
    {
      "cell_type": "code",
      "metadata": {
        "colab": {
          "base_uri": "https://localhost:8080/"
        },
        "id": "y897LAzgXklD",
        "outputId": "b9fce829-7768-4e84-b1f1-fa282738835f"
      },
      "source": [
        "set_1 = np.asmatrix([[1.11,\t2.569,\t3.58,\t0.760],\n",
        "                    [1.19,\t2.928,\t3.75,\t0.821],\n",
        "                    [1.09,\t2.865,\t3.93,\t0.928],\n",
        "                    [1.25,\t3.844,\t3.94,\t1.009],\n",
        "                    [1.11,\t3.027,\t3.60,\t0.766],\n",
        "                    [1.08,\t2.336,\t3.51,\t0.726],\n",
        "                    [1.11,\t3.211,\t3.98,\t1.209],\n",
        "                    [1.16,\t3.037,\t3.62,\t0.750]])\n",
        "\n",
        "set_2 = np.asmatrix([[1.05,\t2.074,\t4.09,\t1.036],\n",
        "                    [1.17,\t2.885,\t4.06,\t1.094],\n",
        "                    [1.11,\t3.378,\t4.87,\t1.635],\n",
        "                    [1.25,\t3.906,\t4.98,\t1.517],\n",
        "                    [1.17,\t2.782,\t4.38,\t1.197],\n",
        "                    [1.15,\t3.018,\t4.65,\t1.244],\n",
        "                    [1.17,\t3.383,\t4.69,\t1.495],\n",
        "                    [1.19,\t3.447,\t4.40,\t1.026]])\n",
        "\n",
        "set_3 = np.asmatrix([[1.07,\t2.505,\t3.76,\t0.912],\n",
        "                    [0.99,\t2.315,\t4.44,\t1.398],\n",
        "                    [1.06,\t2.667,\t4.38,\t1.197],\n",
        "                    [1.02,\t2.390,\t4.67,\t1.613],\n",
        "                    [1.15,\t3.021,\t4.48,\t1.476],\n",
        "                    [1.20,\t3.085,\t4.78,\t1.571],\n",
        "                    [1.20,\t3.308,\t4.57,\t1.506],\n",
        "                    [1.17,\t3.231,\t4.56,\t1.458]])\n",
        "\n",
        "    \n",
        "set_4 = np.asmatrix([[1.22,\t2.838,\t3.89,\t0.944],\n",
        "                    [1.03,\t2.351,\t4.05,\t1.241],\n",
        "                    [1.14,\t3.001,\t4.05,\t1.023],\n",
        "                    [1.01,\t2.439,\t3.92,\t1.067],\n",
        "                    [0.99,\t2.199,\t3.27,\t0.693],\n",
        "                    [1.11,\t3.318,\t3.95,\t1.085],\n",
        "                    [1.20,\t3.601,\t4.27,\t1.242],\n",
        "                    [1.08,\t3.291,\t3.85,\t1.017]])\n",
        "    \n",
        "set_5 = np.asmatrix([[0.91,\t1.532,\t4.04,\t1.084],\n",
        "                    [1.15,\t2.552,\t4.16,\t1.151],\n",
        "                    [1.14,\t3.083,\t4.79,\t1.381],\n",
        "                    [1.05,\t2.330,\t4.42,\t1.242],\n",
        "                    [0.99,\t2.079,\t3.47,\t0.673],\n",
        "                    [1.22,\t3.366,\t4.41,\t1.137],\n",
        "                    [1.05,\t2.416,\t4.64,\t1.455],\n",
        "                    [1.13,\t3.100,\t4.57,\t1.325]])\n",
        "    \n",
        "set_6 = np.asmatrix([[1.11,\t2.813,\t3.76,\t0.800],\n",
        "                    [0.75,\t0.840,\t3.14,\t0.606],\n",
        "                    [1.05,\t2.199,\t3.75,\t0.790],\n",
        "                    [1.02,\t2.132,\t3.99,\t0.853],\n",
        "                    [1.05,\t1.949,\t3.34,\t0.610],\n",
        "                    [1.07,\t2.251,\t3.21,\t0.562],\n",
        "                    [1.13,\t3.064,\t3.63,\t0.707],\n",
        "                    [1.11,\t2.469,\t3.95,\t0.952]])\n",
        "\n",
        "data = [set_1, set_2, set_3, set_4, set_5, set_6]\n",
        "total = np.vstack([set_1, set_2, set_3, set_4, set_5, set_6])\n",
        "\n",
        "p = np.shape(set_1)[1]\n",
        "n = np.shape(set_1)[0]\n",
        "k = len(data)\n",
        "N = n * k\n",
        "\n",
        "print('p = ' + str(p))\n",
        "print('n = ' + str(n))\n",
        "print('k = ' + str(k))\n",
        "print('N = ' + str(N))"
      ],
      "execution_count": null,
      "outputs": [
        {
          "output_type": "stream",
          "text": [
            "p = 4\n",
            "n = 8\n",
            "k = 6\n",
            "N = 48\n"
          ],
          "name": "stdout"
        }
      ]
    },
    {
      "cell_type": "markdown",
      "metadata": {
        "id": "KzUtLEfb5GMZ"
      },
      "source": [
        "### $(a)$"
      ]
    },
    {
      "cell_type": "code",
      "metadata": {
        "colab": {
          "base_uri": "https://localhost:8080/"
        },
        "id": "2BZW6CyR-CVG",
        "outputId": "7d53b2b9-5918-4f77-d42b-4f6805258f92"
      },
      "source": [
        "means = []\n",
        "print('Unit means: ')\n",
        "print()\n",
        "\n",
        "for index in range(len(data)):\n",
        "  means.append(np.mean(data[index], axis = 0))\n",
        "  print('mean[i = ' + str(index + 1) + '] = ' + str(np.ravel(means[-1])))\n",
        "\n",
        "mean_all = np.mean(total, axis = 0)\n",
        "\n",
        "print()\n",
        "print('Total mean: ' + str(np.ravel(np.round(mean_all, 4))))"
      ],
      "execution_count": null,
      "outputs": [
        {
          "output_type": "stream",
          "text": [
            "Unit means: \n",
            "\n",
            "mean[i = 1] = [1.1375   2.977125 3.73875  0.871125]\n",
            "mean[i = 2] = [1.1575   3.109125 4.515    1.2805  ]\n",
            "mean[i = 3] = [1.1075   2.81525  4.455    1.391375]\n",
            "mean[i = 4] = [1.0975  2.87975 3.90625 1.039  ]\n",
            "mean[i = 5] = [1.08    2.55725 4.3125  1.181  ]\n",
            "mean[i = 6] = [1.03625  2.214625 3.59625  0.735   ]\n",
            "\n",
            "Total mean: [1.1027 2.7589 4.0873 1.083 ]\n"
          ],
          "name": "stdout"
        }
      ]
    },
    {
      "cell_type": "code",
      "metadata": {
        "colab": {
          "base_uri": "https://localhost:8080/"
        },
        "id": "Q-NLWThy-H4g",
        "outputId": "20a67286-abe4-4148-8dcd-8a858e33dd0d"
      },
      "source": [
        "H = 0\n",
        "for i in range(k):\n",
        "  H += np.matmul((means[i] - mean_all).T, (means[i] - mean_all))\n",
        "\n",
        "H = n * H\n",
        "print('H = ')\n",
        "print()\n",
        "print(np.round(H, 4))"
      ],
      "execution_count": null,
      "outputs": [
        {
          "output_type": "stream",
          "text": [
            "H = \n",
            "\n",
            "[[0.0736 0.5374 0.3323 0.2085]\n",
            " [0.5374 4.1997 2.3554 1.6371]\n",
            " [0.3323 2.3554 6.1139 3.781 ]\n",
            " [0.2085 1.6371 3.781  2.4931]]\n"
          ],
          "name": "stdout"
        }
      ]
    },
    {
      "cell_type": "code",
      "metadata": {
        "colab": {
          "base_uri": "https://localhost:8080/"
        },
        "id": "kCenaxAu-IfP",
        "outputId": "b8eb9280-b7d3-4af7-8d9e-dd32fb1e372c"
      },
      "source": [
        "E = 0\n",
        "for i in range(k):\n",
        "  for j in range(n):\n",
        "    unit = data[i][j] - means[i]\n",
        "    E += np.matmul(unit.T, unit)\n",
        "\n",
        "print('E = ')\n",
        "print()\n",
        "print(np.round(E, 4))"
      ],
      "execution_count": null,
      "outputs": [
        {
          "output_type": "stream",
          "text": [
            "E = \n",
            "\n",
            "[[ 0.32    1.6966  0.5541  0.2171]\n",
            " [ 1.6966 12.1428  4.3636  2.1102]\n",
            " [ 0.5541  4.3636  4.2908  2.4817]\n",
            " [ 0.2171  2.1102  2.4817  1.7225]]\n"
          ],
          "name": "stdout"
        }
      ]
    },
    {
      "cell_type": "code",
      "metadata": {
        "colab": {
          "base_uri": "https://localhost:8080/"
        },
        "id": "UvdVteXeAfRE",
        "outputId": "f4d3be97-1a40-4bf7-df37-8ff9dce447f9"
      },
      "source": [
        "ratio = np.linalg.det(E) / np.linalg.det(E + H)\n",
        "nu_H = k - 1\n",
        "nu_E = k * (n - 1)\n",
        "\n",
        "print('p = ' + str(p))\n",
        "print('nu_H = ' + str(nu_H))\n",
        "print('nu_E = ' + str(nu_E))"
      ],
      "execution_count": null,
      "outputs": [
        {
          "output_type": "stream",
          "text": [
            "p = 4\n",
            "nu_H = 5\n",
            "nu_E = 42\n"
          ],
          "name": "stdout"
        }
      ]
    },
    {
      "cell_type": "code",
      "metadata": {
        "colab": {
          "base_uri": "https://localhost:8080/"
        },
        "id": "IWZimmA1BB33",
        "outputId": "3f005e15-0a7e-40e9-8719-86262c7e9ad5"
      },
      "source": [
        "w = nu_E + nu_H - (p + nu_H + 1) / 2\n",
        "t = np.sqrt((p * p * nu_H * nu_H - 4) / (p * p + nu_H * nu_H - 5))\n",
        "df_1 = float(p * nu_H)\n",
        "df_2 = w * t - (p * nu_H - 2) / 2\n",
        "\n",
        "print('w = ' + str(w))\n",
        "print('t = ' + str(t))\n",
        "print('df_1 = ' + str(df_1))\n",
        "print('df_2 = ' + str(df_2))"
      ],
      "execution_count": null,
      "outputs": [
        {
          "output_type": "stream",
          "text": [
            "w = 42.0\n",
            "t = 3.3166247903554\n",
            "df_1 = 20.0\n",
            "df_2 = 130.2982411949268\n"
          ],
          "name": "stdout"
        }
      ]
    },
    {
      "cell_type": "code",
      "metadata": {
        "id": "_OQe2mJ4C-jB"
      },
      "source": [
        "step = np.power(ratio, (1 / t))\n",
        "F_calculated = ((1 - step) / step) * (df_2 / df_1)\n",
        "alpha = 0.05\n",
        "F_compare = f.isf(alpha, df_1, df_2)"
      ],
      "execution_count": null,
      "outputs": []
    },
    {
      "cell_type": "code",
      "metadata": {
        "colab": {
          "base_uri": "https://localhost:8080/"
        },
        "id": "AimF_CVDGdkB",
        "outputId": "344608dc-1389-45d8-d866-8213812ce999"
      },
      "source": [
        "print('F_calculated = ' + str(F_calculated))\n",
        "print('F_compare = ' + str(F_compare))\n",
        "print('F_calculated > F_compare = ' + str(F_calculated > F_compare))"
      ],
      "execution_count": null,
      "outputs": [
        {
          "output_type": "stream",
          "text": [
            "F_calculated = 4.936888039729538\n",
            "F_compare = 1.6516770323178185\n",
            "F_calculated > F_compare = True\n"
          ],
          "name": "stdout"
        }
      ]
    },
    {
      "cell_type": "markdown",
      "metadata": {
        "id": "xbnBxiacHIKz"
      },
      "source": [
        "$We\\ reject\\ H_0.$"
      ]
    },
    {
      "cell_type": "markdown",
      "metadata": {
        "id": "sks8eEcGxTVE"
      },
      "source": [
        "### $(b)$"
      ]
    },
    {
      "cell_type": "code",
      "metadata": {
        "id": "mx6c4x4m2XJE"
      },
      "source": [
        "def T_square_value(alpha, p, v):\n",
        "  # 'v' being the number of degrees of freedom \n",
        "  # 'p' - variable setting\n",
        "\n",
        "  return f.isf(alpha, p, v - p + 1) / (v - p + 1) * (v * p)"
      ],
      "execution_count": null,
      "outputs": []
    },
    {
      "cell_type": "code",
      "metadata": {
        "colab": {
          "base_uri": "https://localhost:8080/"
        },
        "id": "2_jTi2hyxWL4",
        "outputId": "55a31ed2-50b4-4f8f-abce-673023da68f1"
      },
      "source": [
        "C_1 = [2, -1, -1, -1, -1, 2]\n",
        "delta_1 = 0\n",
        "\n",
        "for index in range(len(C_1)):\n",
        "  delta_1 += C_1[index] * means[index]\n",
        "\n",
        "sum_C1_square = np.matmul(np.asmatrix(C_1), np.asmatrix(C_1).T)\n",
        "\n",
        "T_1_squared = (n / sum_C1_square) * np.matmul(\n",
        "    np.matmul(delta_1, np.linalg.inv(E / nu_E)), delta_1.T)\n",
        "\n",
        "T_1_squared = np.ravel(T_1_squared)[0]\n",
        "\n",
        "alpha = 0.05 / 2\n",
        "# Required Adjustment\n",
        "\n",
        "T_1_square_comp = T_square_value(alpha, p, nu_E)\n",
        "\n",
        "print('delta_1 = ' + str(np.round(np.ravel(delta_1), 4)))\n",
        "print('T_1_squared = ' + str(T_1_squared))\n",
        "print('T_1_square_comp = ' + str(T_1_square_comp))\n",
        "print('Calculated T square > T square value for comparison: '\n",
        "      + str(T_1_squared > T_1_square_comp))"
      ],
      "execution_count": null,
      "outputs": [
        {
          "output_type": "stream",
          "text": [
            "delta_1 = [-0.095  -0.9779 -2.5188 -1.6796]\n",
            "T_1_squared = 52.74890659644771\n",
            "T_1_square_comp = 13.506530727954198\n",
            "Calculated T square > T square value for comparison: True\n"
          ],
          "name": "stdout"
        }
      ]
    },
    {
      "cell_type": "markdown",
      "metadata": {
        "id": "Ir2hjpBO3VCR"
      },
      "source": [
        "$We\\ reject\\ H_0\\ for\\ C_1.$"
      ]
    },
    {
      "cell_type": "code",
      "metadata": {
        "colab": {
          "base_uri": "https://localhost:8080/"
        },
        "id": "_s_02ynQ3cZY",
        "outputId": "e56434d4-562c-49d4-83b8-595e670e0709"
      },
      "source": [
        "C_2 = [1, 0, 0, 0, 0, -1]\n",
        "delta_2 = 0\n",
        "\n",
        "for index in range(len(C_2)):\n",
        "  delta_2 += C_2[index] * means[index]\n",
        "\n",
        "sum_C2_square = np.matmul(np.asmatrix(C_2), np.asmatrix(C_2).T) \n",
        "\n",
        "T_2_squared = (n / sum_C2_square) * np.matmul(\n",
        "    np.matmul(delta_2, np.linalg.inv(E / nu_E)), delta_2.T)\n",
        "\n",
        "T_2_squared = np.ravel(T_2_squared)[0]\n",
        "\n",
        "alpha = 0.05 / 2\n",
        "# Required Adjustment\n",
        "\n",
        "T_2_square_comp = T_square_value(alpha, p, nu_E)\n",
        "\n",
        "print('delta_2 = ' + str(np.round(np.ravel(delta_2), 4)))\n",
        "print('T_2_squared = ' + str(T_2_squared))\n",
        "print('T_2_square_comp = ' + str(T_2_square_comp))\n",
        "print('Calculated T square > T square value for comparison: '\n",
        "      + str(T_2_squared > T_2_square_comp))"
      ],
      "execution_count": null,
      "outputs": [
        {
          "output_type": "stream",
          "text": [
            "delta_2 = [0.1012 0.7625 0.1425 0.1361]\n",
            "T_2_squared = 13.972735901764276\n",
            "T_2_square_comp = 13.506530727954198\n",
            "Calculated T square > T square value for comparison: True\n"
          ],
          "name": "stdout"
        }
      ]
    },
    {
      "cell_type": "markdown",
      "metadata": {
        "id": "ci7Sz1ZK3vAT"
      },
      "source": [
        "$We\\ reject\\ H_0\\ for\\ C_2.$"
      ]
    },
    {
      "cell_type": "markdown",
      "metadata": {
        "id": "yWTGrT_h55fF"
      },
      "source": [
        "### $(c)$"
      ]
    },
    {
      "cell_type": "code",
      "metadata": {
        "colab": {
          "base_uri": "https://localhost:8080/"
        },
        "id": "a4vipRfn57ab",
        "outputId": "b338937b-8b2d-4fb6-9667-0eea26aebe88"
      },
      "source": [
        "# Testing Individual Variables\n",
        "\n",
        "alpha = 0.05\n",
        "n = 8\n",
        "k = 6\n",
        "\n",
        "for variable in range(4):\n",
        "  print('Testing for y' + str(variable + 1) + \":\")\n",
        "  print()\n",
        "  data = np.vstack([np.ravel(set_1[:, variable].T),\n",
        "                  np.ravel(set_2[:, variable].T),\n",
        "                  np.ravel(set_3[:, variable].T),\n",
        "                  np.ravel(set_4[:, variable].T),\n",
        "                  np.ravel(set_5[:, variable].T),\n",
        "                  np.ravel(set_6[:, variable].T)])\n",
        "\n",
        "  data = data.T\n",
        "\n",
        "  assert n == data.shape[0]\n",
        "  assert k == data.shape[1]\n",
        "\n",
        "  total_mean = np.mean(data)\n",
        "  row_means = np.asarray(np.ravel(np.mean(data, axis = 0)))\n",
        "\n",
        "  print('Total data mean = ' + str(total_mean))\n",
        "  print('Row means = ' + str(np.round(row_means, 4)))\n",
        "\n",
        "  numerator = (n / (k - 1)) * np.matmul(\n",
        "      (row_means - total_mean), (row_means - total_mean))\n",
        "  \n",
        "  denominator = 0\n",
        "\n",
        "  for j in range(n):\n",
        "    for i in range(k):\n",
        "      denominator += np.power((data[j, i] - row_means[i]), 2)\n",
        "\n",
        "  denominator /= (k * (n - 1))\n",
        "\n",
        "  F_value = numerator / denominator\n",
        "  F_critical = f.isf(alpha, k - 1, k * (n - 1))\n",
        "\n",
        "  print('Computed F Value = ' + str(F_value))\n",
        "  print('Critical F Value = ' + str(F_critical))\n",
        "  print('Computed F value > Critical F value = ' + str(F_value > F_critical))\n",
        "\n",
        "  print()\n",
        "  if F_value > F_critical:\n",
        "    print('We reject H_0 for y' + str(variable + 1) + '.')\n",
        "  else:\n",
        "    print('We accept H_0 for y' + str(variable + 1) + '.')\n",
        "  print()"
      ],
      "execution_count": null,
      "outputs": [
        {
          "output_type": "stream",
          "text": [
            "Testing for y1:\n",
            "\n",
            "Total data mean = 1.1027083333333332\n",
            "Row means = [1.1375 1.1575 1.1075 1.0975 1.08   1.0363]\n",
            "Computed F Value = 1.931036368608147\n",
            "Critical F Value = 2.437692640311651\n",
            "Computed F value > Critical F value = False\n",
            "\n",
            "We accept H_0 for y1.\n",
            "\n",
            "Testing for y2:\n",
            "\n",
            "Total data mean = 2.758854166666667\n",
            "Row means = [2.9771 3.1091 2.8152 2.8797 2.5572 2.2146]\n",
            "Computed F Value = 2.9051938814597604\n",
            "Critical F Value = 2.437692640311651\n",
            "Computed F value > Critical F value = True\n",
            "\n",
            "We reject H_0 for y2.\n",
            "\n",
            "Testing for y3:\n",
            "\n",
            "Total data mean = 4.087291666666666\n",
            "Row means = [3.7387 4.515  4.455  3.9062 4.3125 3.5962]\n",
            "Computed F Value = 11.969075204288242\n",
            "Critical F Value = 2.437692640311651\n",
            "Computed F value > Critical F value = True\n",
            "\n",
            "We reject H_0 for y3.\n",
            "\n",
            "Testing for y4:\n",
            "\n",
            "Total data mean = 1.083\n",
            "Row means = [0.8711 1.2805 1.3914 1.039  1.181  0.735 ]\n",
            "Computed F Value = 12.157715876070867\n",
            "Critical F Value = 2.437692640311651\n",
            "Computed F value > Critical F value = True\n",
            "\n",
            "We reject H_0 for y4.\n",
            "\n"
          ],
          "name": "stdout"
        }
      ]
    },
    {
      "cell_type": "markdown",
      "metadata": {
        "id": "gxj1wf0x-AXc"
      },
      "source": [
        "$Decisions:$\n",
        "\n",
        "- $Accept\\ H_0\\ for\\ y1.$\n",
        "\n",
        "- $Reject\\ H_0\\ for\\ y2.$\n",
        "\n",
        "- $Reject\\ H_0\\ for\\ y3.$\n",
        "\n",
        "- $Reject\\ H_0\\ for\\ y4.$"
      ]
    },
    {
      "cell_type": "markdown",
      "metadata": {
        "id": "MTu77r5vgZld"
      },
      "source": [
        "## $Problem\\ 3$"
      ]
    },
    {
      "cell_type": "code",
      "metadata": {
        "id": "BLjCuLdZGoaM"
      },
      "source": [
        "import json\n",
        "\n",
        "data_a = [[0.71, 2.20, 2.25],\n",
        "          [1.66, 2.93, 3.93],\n",
        "          [2.01, 3.08, 5.08],\n",
        "          [2.16, 3.49, 5.82],\n",
        "          [2.42, 4.11, 5.84],\n",
        "          [2.42, 4.95, 6.89],\n",
        "          [2.56, 5.16, 8.50],\n",
        "          [2.60, 5.54, 8.56],\n",
        "          [3.31, 5.68, 9.44],\n",
        "          [3.64, 6.25, 10.52],\n",
        "          [3.74, 7.25, 13.46],\n",
        "          [3.74, 7.90, 13.57],\n",
        "          [4.39, 8.85, 14.76],\n",
        "          [4.50, 11.96, 16.41],\n",
        "          [5.07, 15.54, 16.96],\n",
        "          [5.26, 15.89, 17.56],\n",
        "          [8.15, 18.3, 22.82],\n",
        "          [8.24, 18.59, 29.13]]\n",
        "\n",
        "data_b = [[2.20, 4.04, 2.71],\n",
        "          [2.69, 4.16, 5.43],\n",
        "          [3.54, 4.42, 6.38],\n",
        "          [3.75, 4.93, 6.38],\n",
        "          [3.83, 5.49, 8.32],\n",
        "          [4.08, 5.77, 9.04],\n",
        "          [4.27, 5.86, 9.56],\n",
        "          [4.53, 6.28, 10.01],\n",
        "          [5.32, 6.97, 10.08],\n",
        "          [6.18, 7.06, 10.62],\n",
        "          [6.22, 7.78, 13.80],\n",
        "          [6.33, 9.23, 15.99],\n",
        "          [6.97, 9.34, 17.90],\n",
        "          [6.97, 9.91, 18.25],\n",
        "          [7.52, 13.46, 19.32],\n",
        "          [8.36, 18.4, 19.87],\n",
        "          [11.65, 23.89, 21.60],\n",
        "          [12.45, 26.39, 22.25]]\n",
        "\n",
        "data_a = np.asmatrix(data_a)\n",
        "data_b = np.asmatrix(data_b)\n",
        "\n",
        "# Using a natural logarithm transformation\n",
        "data_a = np.log(data_a)\n",
        "data_b = np.log(data_b)\n",
        "\n",
        "all_data = [data_a, data_b]"
      ],
      "execution_count": null,
      "outputs": []
    },
    {
      "cell_type": "markdown",
      "metadata": {
        "id": "ErH1gjr6mdfC"
      },
      "source": [
        "$2\\ types\\ of\\ iron\\ used.$\n",
        "$3\\ molarities\\ for\\ each\\ type.$\n",
        "$18\\ observations\\ per\\ cell.$"
      ]
    },
    {
      "cell_type": "code",
      "metadata": {
        "id": "texi2glnihsW"
      },
      "source": [
        "mean_total = np.mean(np.vstack(all_data))\n",
        "\n",
        "# i, j, k:\n",
        "# i = 1 or 2 (types of Iron)\n",
        "# j = 1, 2, or 3 (types of molarities)\n",
        "# k = 1, 2, ... , 18 (observation index)\n",
        "\n",
        "a = 2\n",
        "b = 3\n",
        "n = 18"
      ],
      "execution_count": null,
      "outputs": []
    },
    {
      "cell_type": "code",
      "metadata": {
        "colab": {
          "base_uri": "https://localhost:8080/"
        },
        "id": "1s8Wz_3sjXAX",
        "outputId": "da3bc294-530c-4d53-81f5-80dff97fc9f6"
      },
      "source": [
        "mean_1__ = np.mean(data_a)\n",
        "mean_2__ = np.mean(data_b)\n",
        "\n",
        "mean_i__ = np.asarray([mean_1__, mean_2__])\n",
        "\n",
        "print('Mean of A Chunks: ')\n",
        "print(mean_i__)\n",
        "print()\n",
        "\n",
        "mean__j_ = np.ravel(np.mean(np.vstack([data_a, data_b]), axis = 0))\n",
        "\n",
        "print('Mean of B Chunks: ')\n",
        "print(mean__j_)"
      ],
      "execution_count": null,
      "outputs": [
        {
          "output_type": "stream",
          "text": [
            "Mean of A Chunks: \n",
            "[1.78070995 2.05785408]\n",
            "\n",
            "Mean of B Chunks: \n",
            "[1.42052628 1.99563472 2.34168504]\n"
          ],
          "name": "stdout"
        }
      ]
    },
    {
      "cell_type": "code",
      "metadata": {
        "colab": {
          "base_uri": "https://localhost:8080/"
        },
        "id": "-x10BNuQpfrb",
        "outputId": "ad4de59d-77d1-406b-d515-bfa9afa337a9"
      },
      "source": [
        "step = mean_i__ - mean_total\n",
        "SSA = n * b * np.matmul(step, step.T)\n",
        "\n",
        "print('SSA = ' + str(SSA))"
      ],
      "execution_count": null,
      "outputs": [
        {
          "output_type": "stream",
          "text": [
            "SSA = 2.0738394078719984\n"
          ],
          "name": "stdout"
        }
      ]
    },
    {
      "cell_type": "code",
      "metadata": {
        "colab": {
          "base_uri": "https://localhost:8080/"
        },
        "id": "bv7rdF4BqLXY",
        "outputId": "e2ff2d63-2091-41fa-e8ce-0d3a3d4c015b"
      },
      "source": [
        "step = mean__j_ - mean_total\n",
        "SSB = n * a * np.matmul(step, step.T)\n",
        "print('SSB = ' + str(SSB))\n",
        "\n",
        "mean_1j_ = np.mean(data_a, axis = 0)\n",
        "mean_2j_ = np.mean(data_b, axis = 0)\n",
        "box_means = np.ndarray.tolist(mean_1j_) + np.ndarray.tolist(mean_2j_)"
      ],
      "execution_count": null,
      "outputs": [
        {
          "output_type": "stream",
          "text": [
            "SSB = 15.588407965253385\n"
          ],
          "name": "stdout"
        }
      ]
    },
    {
      "cell_type": "code",
      "metadata": {
        "colab": {
          "base_uri": "https://localhost:8080/"
        },
        "id": "wmjhl5GUqq_z",
        "outputId": "1b161b20-67a1-4d83-87c0-165d02100d24"
      },
      "source": [
        "SSAB = 0\n",
        "for i in range(a):\n",
        "  for j in range(b):\n",
        "    unit = box_means[i][j] - mean_i__[i] - mean__j_[j] + mean_total\n",
        "    SSAB += unit * unit\n",
        "\n",
        "SSAB = n * SSAB\n",
        "print('SSAB = ' + str(SSAB))"
      ],
      "execution_count": null,
      "outputs": [
        {
          "output_type": "stream",
          "text": [
            "SSAB = 0.8102694671297749\n"
          ],
          "name": "stdout"
        }
      ]
    },
    {
      "cell_type": "code",
      "metadata": {
        "colab": {
          "base_uri": "https://localhost:8080/"
        },
        "id": "x2ueL1yrsOyi",
        "outputId": "d2f67807-9cd7-4dfb-a05d-9102bc238553"
      },
      "source": [
        "SSE = 0\n",
        "for i in range(a):\n",
        "  for j in range(b):\n",
        "    for k in range(n):\n",
        "      unit = all_data[i][k, j] - box_means[i][j]\n",
        "      SSE += unit * unit\n",
        "\n",
        "print('SSE = ' + str(SSE))\n",
        "\n",
        "SST = 0\n",
        "for i in range(a):\n",
        "  for j in range(b):\n",
        "    for k in range(n):\n",
        "      unit = all_data[i][k, j] - mean_total\n",
        "      SST += unit * unit\n",
        "\n",
        "print('SST = ' + str(SST))\n",
        "\n",
        "df = [a - 1, b - 1, (a - 1) * (b - 1), a * b * (n - 1), a * b * n - 1]\n",
        "\n",
        "MSA = SSA / df[0]\n",
        "MSB = SSB / df[1]\n",
        "MSAB = SSAB / df[2]\n",
        "MSE = SSE / df[3]\n",
        "\n",
        "F_A = MSA / MSE\n",
        "F_B = MSB / MSE\n",
        "F_AB = MSAB / MSE"
      ],
      "execution_count": null,
      "outputs": [
        {
          "output_type": "stream",
          "text": [
            "SSE = 35.295860180409285\n",
            "SST = 53.76837702066446\n"
          ],
          "name": "stdout"
        }
      ]
    },
    {
      "cell_type": "code",
      "metadata": {
        "colab": {
          "base_uri": "https://localhost:8080/"
        },
        "id": "2tF3dTCLuIfn",
        "outputId": "0ba2eb71-9c95-4312-fdf0-b7537f0e6b63"
      },
      "source": [
        "print('SSA + SSB + SSAB + SSE = ' + str(SSA + SSB + SSAB + SSE))\n",
        "print('SST = ' + str(SST))"
      ],
      "execution_count": null,
      "outputs": [
        {
          "output_type": "stream",
          "text": [
            "SSA + SSB + SSAB + SSE = 53.768377020664445\n",
            "SST = 53.76837702066446\n"
          ],
          "name": "stdout"
        }
      ]
    },
    {
      "cell_type": "markdown",
      "metadata": {
        "id": "V03Qj1Ym7FUu"
      },
      "source": [
        "$\\therefore\\ SSA\\ +\\ SSB\\ +\\ SSAB\\ +\\ SSE\\ =\\ SST$"
      ]
    },
    {
      "cell_type": "code",
      "metadata": {
        "id": "k_6OaKHxukKJ"
      },
      "source": [
        "alpha = 0.01\n",
        "p_comp_A = 1 - f.cdf(F_A, df[0], df[3])\n",
        "p_comp_B = 1 - f.cdf(F_B, df[1], df[3])\n",
        "p_comp_AB = 1 - f.cdf(F_AB, df[2], df[3])"
      ],
      "execution_count": null,
      "outputs": []
    },
    {
      "cell_type": "code",
      "metadata": {
        "colab": {
          "base_uri": "https://localhost:8080/"
        },
        "id": "q4_Xc_K40FnX",
        "outputId": "4a89598a-8b5b-4d03-cc9b-9130745f79c0"
      },
      "source": [
        "python_print = False\n",
        "\n",
        "print('ANOVA Table:')\n",
        "print()\n",
        "\n",
        "if python_print:\n",
        "    print('Source\\tSS\\tDF\\tMS\\tF\\tp-value')\n",
        "\n",
        "    print('Iron\\t' + str(np.round(SSA, 4)) + '\\t' + str(df[0]) + '\\t' + \n",
        "          str(np.round(MSA, 4)) + '\\t' + str(np.round(F_A, 4)) +\n",
        "          '\\t' + str(np.round(p_comp_A, 4)))\n",
        "\n",
        "    print('Mol\\t' + str(np.round(SSB, 4)) + '\\t' + str(df[1]) + '\\t' + \n",
        "          str(np.round(MSB, 4)) + '\\t' + str(np.round(F_B, 4)) +\n",
        "          '\\t' + str(np.round(p_comp_B, 4)))\n",
        "\n",
        "    print('Int.\\t' + str(np.round(SSAB, 4)) + '\\t' + str(df[2]) + \n",
        "          '\\t' + str(np.round(MSAB, 4)) + '\\t' + str(np.round(F_AB)) +\n",
        "          '\\t' + str(np.round(p_comp_AB, 4)))\n",
        "\n",
        "    print('Error\\t' + str(np.round(SSE, 4)) + '\\t' + str(df[3]) + \n",
        "          '\\t' + str(np.round(MSE, 4)))\n",
        "\n",
        "    print('Total\\t' + str(np.round(SST, 4)) + '\\t' + str(df[4]))\n",
        "\n",
        "else:\n",
        "    # For pretty-printing the above table\n",
        "    import pandas as pd\n",
        "\n",
        "    data = {'SS': ['2.0738', '15.5884', '0.8103', '35.2959', '53.7684'],\n",
        "            'DF': ['1', '2', '2', '102', '107'],\n",
        "            'MS': ['2.0738', '7.7942', '0.4051', '0.346', '-'],\n",
        "            'F': ['5.9931', '22.5241', '1.0', '-', '-'],\n",
        "            'p-value': ['0.0161', '0.0', '0.3143', '-', '-']\n",
        "            }\n",
        "\n",
        "    dataframe = pd.DataFrame(data, \n",
        "                columns = ['SS', 'DF', 'MS', 'F', 'p-value'],\n",
        "                index = ['Iron', 'Molarity', 'Interact', 'Error', 'Total'])\n",
        "    print(dataframe)"
      ],
      "execution_count": null,
      "outputs": [
        {
          "output_type": "stream",
          "text": [
            "ANOVA Table:\n",
            "\n",
            "               SS   DF      MS        F p-value\n",
            "Iron       2.0738    1  2.0738   5.9931  0.0161\n",
            "Molarity  15.5884    2  7.7942  22.5241     0.0\n",
            "Interact   0.8103    2  0.4051      1.0  0.3143\n",
            "Error     35.2959  102   0.346        -       -\n",
            "Total     53.7684  107       -        -       -\n"
          ],
          "name": "stdout"
        }
      ]
    },
    {
      "cell_type": "markdown",
      "metadata": {
        "id": "aZclO-94RSUW"
      },
      "source": [
        "## $Problem\\ 4$"
      ]
    },
    {
      "cell_type": "code",
      "metadata": {
        "id": "oCwfdDkW1fOu"
      },
      "source": [
        "A1_1 = [7.80, 7.10, 7.89, 7.82, 9.00, 8.43, 7.65, 7.70,\n",
        "        7.28, 8.96, 7.75, 7.80, 7.60, 7.00, 7.82, 7.80]\n",
        "A1_2 = [90.4, 88.9, 85.9, 88.8, 82.50, 92.40, 82.40, 87.40,\n",
        "        79.60, 95.10, 90.20, 88.00, 94.1, 86.6, 85.9, 88.8]\n",
        "\n",
        "A2_1 = [7.12, 7.06, 7.45, 7.45, 8.19, 8.25, 7.45, 7.45,\n",
        "        7.15, 7.15, 7.70, 7.45, 7.06, 7.04, 7.52, 7.70]\n",
        "A2_2 = [85.1, 89.0, 75.9, 77.9, 66.0, 74.5, 83.1, 86.4,\n",
        "        81.2, 72.0, 79.9, 71.9, 81.2, 79.9, 86.4, 76.4]\n",
        "\n",
        "A1_1 = np.asarray(A1_1)\n",
        "A1_2 = np.asarray(A1_2)\n",
        "A2_1 = np.asarray(A2_1)\n",
        "A2_2 = np.asarray(A2_2)"
      ],
      "execution_count": null,
      "outputs": []
    },
    {
      "cell_type": "code",
      "metadata": {
        "id": "wmipmrswS4_U"
      },
      "source": [
        "A1 = np.asmatrix([A1_1, A1_2]).T\n",
        "A2 = np.asmatrix([A2_1, A2_2]).T"
      ],
      "execution_count": null,
      "outputs": []
    },
    {
      "cell_type": "code",
      "metadata": {
        "colab": {
          "base_uri": "https://localhost:8080/"
        },
        "id": "0wb0teOCTQqn",
        "outputId": "1ba8273f-d773-4c7c-953f-8e6a3ab0efab"
      },
      "source": [
        "p = 2\n",
        "a = 2\n",
        "b = 4\n",
        "n = 4\n",
        "\n",
        "all_data = [A1, A2]\n",
        "mean_total = np.ravel(np.mean(np.vstack(all_data), axis = 0))\n",
        "\n",
        "print('Mean of all observations: ' + str(mean_total))\n",
        "print()\n",
        "\n",
        "mean_1__ = np.mean(A1, axis = 0)\n",
        "mean_2__ = np.mean(A2, axis = 0)\n",
        "\n",
        "mean_i__ = np.vstack([mean_1__, mean_2__])\n",
        "print('Mean of A Chunks: ')\n",
        "print(mean_i__)\n",
        "print()\n",
        "\n",
        "mean__j_ = []\n",
        "\n",
        "print('Mean of B Chunks:')\n",
        "print()\n",
        "for index in range(b):\n",
        "  blob = np.vstack([A1[4 * index : 4 * index + 4], A2[4 * index : 4 * index + 4]]) \n",
        "  mean__j_.append(np.ravel(np.mean(blob, axis = 0)))\n",
        "  print('mean[j = ' + str(index + 1) + '] = ' + str(mean__j_[-1]))"
      ],
      "execution_count": null,
      "outputs": [
        {
          "output_type": "stream",
          "text": [
            "Mean of all observations: [ 7.6434375 83.55625  ]\n",
            "\n",
            "Mean of A Chunks: \n",
            "[[ 7.8375   87.9375  ]\n",
            " [ 7.449375 79.175   ]]\n",
            "\n",
            "Mean of B Chunks:\n",
            "\n",
            "mean[j = 1] = [ 7.46125 85.2375 ]\n",
            "mean[j = 2] = [ 8.015  81.8375]\n",
            "mean[j = 3] = [ 7.655  82.2375]\n",
            "mean[j = 4] = [ 7.4425 84.9125]\n"
          ],
          "name": "stdout"
        }
      ]
    },
    {
      "cell_type": "code",
      "metadata": {
        "colab": {
          "base_uri": "https://localhost:8080/"
        },
        "id": "_hS331i_Wnid",
        "outputId": "d155d429-f66c-46e1-f65c-95139dd6a371"
      },
      "source": [
        "mean_ij_ = []\n",
        "print('Means of i, j chunks:')\n",
        "print()\n",
        "\n",
        "for i in range(a):\n",
        "  mean_ij_.append([])\n",
        "  for j in range(b):\n",
        "    blob = all_data[i][4 * j : 4 * j + 4]\n",
        "    mean_ij_[i].append(np.ravel(np.mean(blob, axis = 0)))\n",
        "    print('mean[i = ' + str(i + 1) + '][j = ' + str(j + 1) + '] = '\n",
        "          + str(mean_ij_[i][j]))"
      ],
      "execution_count": null,
      "outputs": [
        {
          "output_type": "stream",
          "text": [
            "Means of i, j chunks:\n",
            "\n",
            "mean[i = 1][j = 1] = [ 7.6525 88.5   ]\n",
            "mean[i = 1][j = 2] = [ 8.195 86.175]\n",
            "mean[i = 1][j = 3] = [ 7.9475 88.225 ]\n",
            "mean[i = 1][j = 4] = [ 7.555 88.85 ]\n",
            "mean[i = 2][j = 1] = [ 7.27  81.975]\n",
            "mean[i = 2][j = 2] = [ 7.835 77.5  ]\n",
            "mean[i = 2][j = 3] = [ 7.3625 76.25  ]\n",
            "mean[i = 2][j = 4] = [ 7.33  80.975]\n"
          ],
          "name": "stdout"
        }
      ]
    },
    {
      "cell_type": "code",
      "metadata": {
        "colab": {
          "base_uri": "https://localhost:8080/"
        },
        "id": "egIQbEHFZYD-",
        "outputId": "c7ba3795-84ea-4513-ec28-a96b42c81900"
      },
      "source": [
        "H_A = np.zeros([p, p])\n",
        "\n",
        "for i in range(a):\n",
        "  step = mean_i__[i, :] - mean_total\n",
        "  H_A += np.matmul(step.T, step)\n",
        "H_A = n * b * H_A\n",
        "\n",
        "print('H_A = ')\n",
        "print()\n",
        "print(H_A)"
      ],
      "execution_count": null,
      "outputs": [
        {
          "output_type": "stream",
          "text": [
            "H_A = \n",
            "\n",
            "[[  1.20512813  27.2075625 ]\n",
            " [ 27.2075625  614.25125   ]]\n"
          ],
          "name": "stdout"
        }
      ]
    },
    {
      "cell_type": "code",
      "metadata": {
        "colab": {
          "base_uri": "https://localhost:8080/"
        },
        "id": "sSAGvAaxaJhe",
        "outputId": "2bf627c0-41ea-4cbe-af0e-084664af6fca"
      },
      "source": [
        "H_B = np.zeros([p, p])\n",
        "\n",
        "for j in range(b):\n",
        "  unit = np.asmatrix(mean__j_[j] - mean_total)\n",
        "  H_B += np.matmul(unit.T, unit)\n",
        "\n",
        "H_B = n * a * H_B\n",
        "print('H_B = ')\n",
        "print()\n",
        "print(H_B)"
      ],
      "execution_count": null,
      "outputs": [
        {
          "output_type": "stream",
          "text": [
            "H_B = \n",
            "\n",
            "[[ 1.69408438 -9.8615625 ]\n",
            " [-9.8615625  74.87375   ]]\n"
          ],
          "name": "stdout"
        }
      ]
    },
    {
      "cell_type": "code",
      "metadata": {
        "colab": {
          "base_uri": "https://localhost:8080/"
        },
        "id": "CK64RMOMaKGZ",
        "outputId": "15e612fa-c074-4275-f83d-7d73ed367260"
      },
      "source": [
        "H_AB = np.zeros([p, p])\n",
        "\n",
        "for i in range(a):\n",
        "  for j in range(b):\n",
        "    unit = mean_ij_[i][j] - mean_i__[i] - mean__j_[j] + mean_total\n",
        "    unit = np.asmatrix(unit)\n",
        "    H_AB += np.matmul(unit.T, unit)\n",
        "\n",
        "H_AB = n * H_AB\n",
        "print('H_AB = ')\n",
        "print()\n",
        "print(H_AB)"
      ],
      "execution_count": null,
      "outputs": [
        {
          "output_type": "stream",
          "text": [
            "H_AB = \n",
            "\n",
            "[[ 0.13238437  1.5845625 ]\n",
            " [ 1.5845625  32.24375   ]]\n"
          ],
          "name": "stdout"
        }
      ]
    },
    {
      "cell_type": "code",
      "metadata": {
        "colab": {
          "base_uri": "https://localhost:8080/"
        },
        "id": "f7yQQYEpa0hT",
        "outputId": "1543b772-5600-46ee-9f44-510542ed2dee"
      },
      "source": [
        "E = np.zeros([p, p])\n",
        "\n",
        "for i in range(a):\n",
        "  for j in range(b):\n",
        "    for k in range(n):\n",
        "      unit = np.asmatrix(all_data[i][4 * j + k] - mean_ij_[i][j])\n",
        "      E += np.matmul(unit.T, unit)\n",
        "\n",
        "print('E = ')\n",
        "print()\n",
        "print(E)"
      ],
      "execution_count": null,
      "outputs": [
        {
          "output_type": "stream",
          "text": [
            "E = \n",
            "\n",
            "[[  4.896525  -1.88975 ]\n",
            " [ -1.88975  736.39    ]]\n"
          ],
          "name": "stdout"
        }
      ]
    },
    {
      "cell_type": "code",
      "metadata": {
        "colab": {
          "base_uri": "https://localhost:8080/"
        },
        "id": "vAOa2XaUb2tR",
        "outputId": "cc983ab2-65b3-44fc-eb3a-03b72361a8c1"
      },
      "source": [
        "T = np.zeros([p, p])\n",
        "\n",
        "for i in range(a):\n",
        "  for j in range(b):\n",
        "    for k in range(n):\n",
        "      unit = np.asmatrix(all_data[i][4 * j + k] - mean_total)\n",
        "      T += np.matmul(unit.T, unit)\n",
        "\n",
        "print('T = ')\n",
        "print()\n",
        "print(T)"
      ],
      "execution_count": null,
      "outputs": [
        {
          "output_type": "stream",
          "text": [
            "T = \n",
            "\n",
            "[[   7.92812187   17.0408125 ]\n",
            " [  17.0408125  1457.75875   ]]\n"
          ],
          "name": "stdout"
        }
      ]
    },
    {
      "cell_type": "code",
      "metadata": {
        "colab": {
          "base_uri": "https://localhost:8080/"
        },
        "id": "TzohxlLHcd-J",
        "outputId": "50ecb6ab-c8b4-4c27-de90-bbc6ed06b9ca"
      },
      "source": [
        "# Tests \n",
        "nu_H = a - 1\n",
        "nu_E = a * b * (n - 1) \n",
        "multiplier = (nu_E + nu_H - p) / p\n",
        "alpha = 0.05\n",
        "\n",
        "# Test for interaction\n",
        "cap_AB = np.linalg.det(E) / np.linalg.det(E + H_AB)\n",
        "F_AB = ((1 - cap_AB) / cap_AB) * multiplier\n",
        "F_comp_AB = f.isf(alpha, p, nu_E + nu_H - p)\n",
        "\n",
        "print('cap_AB = ' + str(cap_AB))\n",
        "print('Calculated F_AB = ' + str(F_AB))\n",
        "print('F_AB for comparison = ' + str(F_comp_AB))\n",
        "print('Calculated F_AB > F_AB for comparison: ' + str(F_AB > F_comp_AB))\n",
        "\n",
        "# Test for A's effect\n",
        "cap_A = np.linalg.det(E) / np.linalg.det(E + H_A)\n",
        "F_A = ((1 - cap_A) / cap_A) * multiplier\n",
        "F_comp_A = f.isf(alpha, p, nu_E + nu_H - p)\n",
        "\n",
        "print()\n",
        "print('cap_A = ' + str(cap_A))\n",
        "print('Calculated F_A = ' + str(F_A))\n",
        "print('F_A for comparison = ' + str(F_comp_A))\n",
        "print('Calculated F_A > F_A for comparison: ' + str(F_A > F_comp_A))\n",
        "\n",
        "# Test for B's effect\n",
        "cap_B = np.linalg.det(E) / np.linalg.det(E + H_B)\n",
        "F_B = ((1 - cap_B) / cap_B) * multiplier\n",
        "F_comp_B = f.isf(alpha, p, nu_E + nu_H - p)\n",
        "\n",
        "print()\n",
        "print('cap_B = ' + str(cap_B))\n",
        "print('Calculated F_B = ' + str(F_B))\n",
        "print('F_B for comparison = ' + str(F_comp_B))\n",
        "print('Calculated F_B > F_B for comparison: ' + str(F_B > F_comp_B))"
      ],
      "execution_count": null,
      "outputs": [
        {
          "output_type": "stream",
          "text": [
            "cap_AB = 0.9319287786432168\n",
            "Calculated F_AB = 0.839998789116378\n",
            "F_AB for comparison = 3.422132207861178\n",
            "Calculated F_AB > F_AB for comparison: False\n",
            "\n",
            "cap_A = 0.47396164219167936\n",
            "Calculated F_A = 12.763566871829632\n",
            "F_A for comparison = 3.422132207861178\n",
            "Calculated F_A > F_A for comparison: True\n",
            "\n",
            "cap_B = 0.6915794538595539\n",
            "Calculated F_B = 5.128602738009366\n",
            "F_B for comparison = 3.422132207861178\n",
            "Calculated F_B > F_B for comparison: True\n"
          ],
          "name": "stdout"
        }
      ]
    },
    {
      "cell_type": "markdown",
      "metadata": {
        "id": "at9A8IqHqfS2"
      },
      "source": [
        "$Conclusions:$\n",
        "\n",
        "- $No\\ Factor\\ A\\ \\ effects.$\n",
        "\n",
        "- $No\\ Factor\\ B\\ \\ effects.$\n",
        "\n",
        "- $Interaction\\ effects\\ exist.$"
      ]
    },
    {
      "cell_type": "code",
      "metadata": {
        "id": "Wr2PTj-ieLBs"
      },
      "source": [
        "# ^_^ Thank You"
      ],
      "execution_count": null,
      "outputs": []
    }
  ]
}
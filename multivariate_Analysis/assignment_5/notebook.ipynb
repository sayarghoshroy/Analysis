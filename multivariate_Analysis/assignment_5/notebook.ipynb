{
  "nbformat": 4,
  "nbformat_minor": 0,
  "metadata": {
    "colab": {
      "name": "Problems 4 and 5.ipynb",
      "provenance": [],
      "collapsed_sections": []
    },
    "kernelspec": {
      "display_name": "Python 3",
      "language": "python",
      "name": "python3"
    },
    "language_info": {
      "codemirror_mode": {
        "name": "ipython",
        "version": 3
      },
      "file_extension": ".py",
      "mimetype": "text/x-python",
      "name": "python",
      "nbconvert_exporter": "python",
      "pygments_lexer": "ipython3",
      "version": "3.7.3"
    }
  },
  "cells": [
    {
      "cell_type": "code",
      "metadata": {
        "id": "7ws1JSCnjyoj"
      },
      "source": [
        "import numpy as np\n",
        "import scipy as sc\n",
        "from scipy.stats import f\n",
        "from scipy.stats import t\n",
        "import matplotlib.pyplot as plt"
      ],
      "execution_count": 1,
      "outputs": []
    },
    {
      "cell_type": "markdown",
      "metadata": {
        "id": "81cMCgoLj5ZI"
      },
      "source": [
        "# $Problem\\ 4$"
      ]
    },
    {
      "cell_type": "code",
      "metadata": {
        "id": "0Y1Gv_K0j8Tx"
      },
      "source": [
        "data_males = [[15, 17, 24, 14],\n",
        "              [17, 15, 32, 26],\n",
        "              [15, 14, 29, 23],\n",
        "              [13, 12, 10, 16],\n",
        "              [20, 17, 26, 28],\n",
        "              [15, 21, 26, 21],\n",
        "              [15, 13, 26, 22],\n",
        "              [13, 5, 22, 22],\n",
        "              [14, 7, 30, 17],\n",
        "              [17, 15, 30, 27],\n",
        "              [17, 17, 26, 20],\n",
        "              [17, 20, 28, 24],\n",
        "              [15, 15, 29, 24],\n",
        "              [18, 19, 32, 28],\n",
        "              [18, 18, 31, 27],\n",
        "              [15, 14, 26, 21],\n",
        "              [18, 17, 33, 26],\n",
        "              [10, 14, 19, 17],\n",
        "              [18, 21, 30, 29],\n",
        "              [18, 21, 34, 26],\n",
        "              [13, 17, 30, 24],\n",
        "              [16, 16, 16, 16],\n",
        "              [11, 15, 25, 23],\n",
        "              [16, 13, 26, 16],\n",
        "              [16, 13, 23, 21],\n",
        "              [18, 18, 34, 24],\n",
        "              [16, 15, 28, 27],\n",
        "              [15, 16, 29, 24],\n",
        "              [18, 19, 32, 23],\n",
        "              [18, 16, 33, 23],\n",
        "              [17, 20, 21, 21],\n",
        "              [19, 19, 30, 28]]\n",
        "\n",
        "data_females = [[13, 14, 12, 21],\n",
        "                [14, 12, 14, 26],\n",
        "                [12, 19, 21, 21],\n",
        "                [12, 13, 10, 16],\n",
        "                [11, 20, 16, 16],\n",
        "                [12, 9, 14, 18],\n",
        "                [10, 13, 18, 24],\n",
        "                [10, 8, 13, 23],\n",
        "                [12, 20, 19, 23],\n",
        "                [11, 10, 11, 27],\n",
        "                [12, 18, 25, 25],\n",
        "                [14, 18, 13, 26],\n",
        "                [14, 10, 25, 28],\n",
        "                [13, 16, 23, 28],\n",
        "                [16, 21, 26, 26],\n",
        "                [14, 17, 14, 14],\n",
        "                [16, 16, 15, 23],\n",
        "                [13, 16, 23, 24],\n",
        "                [2, 6, 16, 21],\n",
        "                [14, 16, 22, 26],\n",
        "                [14, 17, 22, 28],\n",
        "                [16, 13, 16, 14],\n",
        "                [15, 14, 20, 26],\n",
        "                [12, 10, 12, 9],\n",
        "                [14, 17, 24, 23],\n",
        "                [13, 15, 18, 20],\n",
        "                [11, 16, 18, 28],\n",
        "                [7, 7, 19, 18],\n",
        "                [12, 15, 7, 28],\n",
        "                [6, 5, 6, 13]]\n",
        "\n",
        "data_females = np.asarray(data_females)\n",
        "data_males = np.asarray(data_males)\n",
        "# As there are two classes\n",
        "k = 2\n",
        "p = data_females.shape[1]\n",
        "\n",
        "count_females = np.shape(data_females)[0]\n",
        "count_males = np.shape(data_females)[0]\n",
        "total_count = count_females + count_males\n",
        "\n",
        "mean_females = np.mean(data_females, axis = 0)\n",
        "mean_males = np.mean(data_males, axis = 0)\n",
        "\n",
        "covariance_females = np.cov(data_females.T)\n",
        "covariance_males = np.cov(data_males.T)\n",
        "\n",
        "pooled_covariance = ((count_females - 1) * covariance_females +\n",
        "                     (count_males - 1) * covariance_males) / (total_count - k)"
      ],
      "execution_count": 2,
      "outputs": []
    },
    {
      "cell_type": "markdown",
      "metadata": {
        "id": "g1xQbF8bHGj7"
      },
      "source": [
        "## $(a)$"
      ]
    },
    {
      "cell_type": "code",
      "metadata": {
        "colab": {
          "base_uri": "https://localhost:8080/"
        },
        "id": "c_mOvDF1HD5A",
        "outputId": "4644fffb-848e-42b2-db66-c9ce7378610e"
      },
      "source": [
        "disc_coeff_vector = np.matmul(np.linalg.inv(pooled_covariance),\n",
        "                              (mean_males - mean_females))\n",
        "\n",
        "print('Required Discriminant Function Coefficient Vector:')\n",
        "print(np.ndarray.tolist(np.round(disc_coeff_vector, 4)))"
      ],
      "execution_count": 3,
      "outputs": [
        {
          "output_type": "stream",
          "text": [
            "Required Discriminant Function Coefficient Vector:\n",
            "[0.5621, -0.2294, 0.4412, -0.2863]\n"
          ],
          "name": "stdout"
        }
      ]
    },
    {
      "cell_type": "markdown",
      "metadata": {
        "id": "KvgD-jvqHLH-"
      },
      "source": [
        "## $(b)$"
      ]
    },
    {
      "cell_type": "code",
      "metadata": {
        "colab": {
          "base_uri": "https://localhost:8080/"
        },
        "id": "R31aZy-gEkt8",
        "outputId": "64f65990-29ea-404b-cc02-caf9edbcef02"
      },
      "source": [
        "std_coefficients = np.multiply(np.sqrt(np.diag(pooled_covariance)),\n",
        "                               disc_coeff_vector)\n",
        "print('Standardised Coefficients:')\n",
        "print(np.ndarray.tolist(np.round(std_coefficients, 4)))\n",
        "print()\n",
        "\n",
        "print('Absolute Values of Standardised Coefficients:')\n",
        "print(np.ndarray.tolist(np.abs(np.round(std_coefficients, 4))))"
      ],
      "execution_count": 4,
      "outputs": [
        {
          "output_type": "stream",
          "text": [
            "Standardised Coefficients:\n",
            "[1.4958, -0.9133, 2.3669, -1.3436]\n",
            "\n",
            "Absolute Values of Standardised Coefficients:\n",
            "[1.4958, 0.9133, 2.3669, 1.3436]\n"
          ],
          "name": "stdout"
        }
      ]
    },
    {
      "cell_type": "markdown",
      "metadata": {
        "id": "ebDU7UKZJiI2"
      },
      "source": [
        "## $(c)$"
      ]
    },
    {
      "cell_type": "code",
      "metadata": {
        "colab": {
          "base_uri": "https://localhost:8080/"
        },
        "id": "a0Atf6-iJkUi",
        "outputId": "4e8171a8-ad7d-47a2-a20a-d873c2e1d309"
      },
      "source": [
        "# Computing Student's Two Sample t-test statistics\n",
        "t_test_stats = []\n",
        "\n",
        "for variable in range(p):\n",
        "  numerator = mean_males[variable] - mean_females[variable]\n",
        "  pooled_sd = np.sqrt((covariance_males[variable, variable] + \n",
        "                       covariance_females[variable, variable]) / 2)\n",
        "  denominator = pooled_sd * np.sqrt(2 / count_males)\n",
        "  t_test_stats.append(numerator / denominator)\n",
        "\n",
        "t_test_stats = np.asarray(t_test_stats)\n",
        "print('Two Sample t-test Statistics for the ' + str(p) + ' variables:')\n",
        "print(np.ndarray.tolist(np.round(t_test_stats, 4)))"
      ],
      "execution_count": 5,
      "outputs": [
        {
          "output_type": "stream",
          "text": [
            "Two Sample t-test Statistics for the 4 variables:\n",
            "[5.5334, 1.822, 7.3063, 0.5364]\n"
          ],
          "name": "stdout"
        }
      ]
    },
    {
      "cell_type": "markdown",
      "metadata": {
        "id": "VPOIbDy6NwzN"
      },
      "source": [
        "## $(d)$"
      ]
    },
    {
      "cell_type": "code",
      "metadata": {
        "colab": {
          "base_uri": "https://localhost:8080/"
        },
        "id": "KebNlB-VNUqD",
        "outputId": "4432856e-3590-4a81-b08c-1dfd24b08bc6"
      },
      "source": [
        "print('Ranking variables in order of their contribution to separating of the groups.')\n",
        "print(' — Based on:')\n",
        "print(' • Two Sample t-test Statistics = '\n",
        "      + str(1 + np.argsort(-1 * np.abs(t_test_stats))))\n",
        "print(' • Standardized Coefficient = '\n",
        "      + str(1 + np.argsort(-1 * np.abs(std_coefficients))))"
      ],
      "execution_count": 6,
      "outputs": [
        {
          "output_type": "stream",
          "text": [
            "Ranking variables in order of their contribution to separating of the groups.\n",
            " — Based on:\n",
            " • Two Sample t-test Statistics = [3 1 2 4]\n",
            " • Standardized Coefficient = [3 1 4 2]\n"
          ],
          "name": "stdout"
        }
      ]
    },
    {
      "cell_type": "markdown",
      "metadata": {
        "id": "A0-A_d_ENpsL"
      },
      "source": [
        "$The\\ same\\ rankings\\ are\\ obtained\\ for\\ the\\ two\\ significant\\ variables$\n",
        "\n",
        "$based\\ on\\ the\\ Two\\ Sample\\ t$-$test\\ Statistics\\ and\\ standardized\\ coefficient\\ values.$"
      ]
    },
    {
      "cell_type": "markdown",
      "metadata": {
        "id": "ubXZEPuEHSeh"
      },
      "source": [
        "## $(e)$"
      ]
    },
    {
      "cell_type": "code",
      "metadata": {
        "colab": {
          "base_uri": "https://localhost:8080/"
        },
        "id": "Fm_iFLyQHF8r",
        "outputId": "18aedbe9-e454-434a-9340-c937e16845d2"
      },
      "source": [
        "def partial_hotelling_two_sample_T_square(neglect = -1):\n",
        "  # neglect can take values 0, 1, ..., (p - 1)\n",
        "  # if neglect = -1, consider complete two sample T square\n",
        "  global pooled_covariance\n",
        "  global mean_females, mean_males\n",
        "  global count_females, count_males\n",
        "  global p\n",
        "\n",
        "  indices = np.asarray([index for index in range(p) if index != neglect])\n",
        "  cov = []\n",
        "\n",
        "  for row in range(p):\n",
        "    if row == neglect:\n",
        "      continue\n",
        "    cov.append([])\n",
        "    for col in range(p):\n",
        "      if col == neglect:\n",
        "        continue\n",
        "      cov[-1].append(pooled_covariance[row, col])\n",
        "\n",
        "  cov = np.asmatrix(cov)\n",
        "  mean_1 = mean_males[indices]\n",
        "  mean_2 = mean_females[indices]\n",
        "  difference = mean_1 - mean_2\n",
        "\n",
        "  factor = (mean_males * mean_females) / (mean_males + mean_females)\n",
        "  T_square = np.matmul(np.matmul(difference.T, np.linalg.inv(cov)), difference)\n",
        "\n",
        "  return np.ravel(T_square)[0]\n",
        "\n",
        "complete_T_square = partial_hotelling_two_sample_T_square()\n",
        "nu = count_females + count_males - k\n",
        "factor = nu - p + 1\n",
        "alpha = 0.05\n",
        "\n",
        "critical_partial_F = f.isf(alpha, 1, factor)\n",
        "print('Critical Partial F value = ' + str(np.round(critical_partial_F, 4)))\n",
        "print()\n",
        "\n",
        "partial_F_s = []\n",
        "for drop in range(p):\n",
        "  T_square_partial = partial_hotelling_two_sample_T_square(drop)\n",
        "  F = factor * (complete_T_square - T_square_partial) / (nu + T_square_partial)\n",
        "  partial_F_s.append(F)\n",
        "  print('p = ' + str(drop + 1) + ': ')\n",
        "  print(' • Computed Partial F value = '  + str(np.round(F, 4)))\n",
        "  print(' • Standardized Coefficient = '  + str(np.round(std_coefficients[drop], 4)))\n",
        "  print()\n",
        "\n",
        "partial_F_s = np.asarray(partial_F_s)\n",
        "\n",
        "print('Ranking variables in order of their contribution to separating the groups.')\n",
        "print(' — Based on:')\n",
        "print(' • Computed Partial F value = '\n",
        "      + str(1 + np.argsort(-1 * np.abs(partial_F_s))))\n",
        "print(' • Standardized Coefficient = '\n",
        "      + str(1 + np.argsort(-1 * np.abs(std_coefficients))))"
      ],
      "execution_count": 7,
      "outputs": [
        {
          "output_type": "stream",
          "text": [
            "Critical Partial F value = 4.0162\n",
            "\n",
            "p = 1: \n",
            " • Computed Partial F value = 1.189\n",
            " • Standardized Coefficient = 1.4958\n",
            "\n",
            "p = 2: \n",
            " • Computed Partial F value = 0.4386\n",
            " • Standardized Coefficient = -0.9133\n",
            "\n",
            "p = 3: \n",
            " • Computed Partial F value = 3.2927\n",
            " • Standardized Coefficient = 2.3669\n",
            "\n",
            "p = 4: \n",
            " • Computed Partial F value = 1.0822\n",
            " • Standardized Coefficient = -1.3436\n",
            "\n",
            "Ranking variables in order of their contribution to separating the groups.\n",
            " — Based on:\n",
            " • Computed Partial F value = [3 1 4 2]\n",
            " • Standardized Coefficient = [3 1 4 2]\n"
          ],
          "name": "stdout"
        }
      ]
    },
    {
      "cell_type": "markdown",
      "metadata": {
        "id": "46stcn4dL-hB"
      },
      "source": [
        "$The\\ same\\ individual\\ variable\\ rankings\\ are\\ obtained\\ based\\ on$\n",
        "$Partial\\ F\\ values\\ and\\ the\\ standardized\\ coefficient\\ values.$"
      ]
    },
    {
      "cell_type": "markdown",
      "metadata": {
        "id": "-Vug91Wgnnjp"
      },
      "source": [
        "# $Problem\\ 5$"
      ]
    },
    {
      "cell_type": "code",
      "metadata": {
        "id": "arg6bDFvln8h"
      },
      "source": [
        "method_1 = [[5.4, 6.0, 6.3, 6.7],\n",
        "            [5.2, 6.2, 6.0, 5.8],\n",
        "            [6.1, 5.9, 6.0, 7.0],\n",
        "            [4.8, 5.0, 4.9, 5.0],\n",
        "            [5.0, 5.7, 5.0, 6.5],\n",
        "            [5.7, 6.1, 6.0, 6.6],\n",
        "            [6.0, 6.0, 5.8, 6.0],\n",
        "            [4.0, 5.0, 4.0, 5.0],\n",
        "            [5.7, 5.4, 4.9, 5.0],\n",
        "            [5.6, 5.2, 5.4, 5.8],\n",
        "            [5.8, 6.1, 5.2, 6.4],\n",
        "            [5.3, 5.9, 5.8, 6.0]]\n",
        "\n",
        "method_2 = [[5.0, 5.3, 5.3, 6.5],\n",
        "            [4.8, 4.9, 4.2, 5.6],\n",
        "            [3.9, 4.0, 4.4, 5.0],\n",
        "            [4.0, 5.1, 4.8, 5.8],\n",
        "            [5.6, 5.4, 5.1, 6.2],\n",
        "            [6.0, 5.5, 5.7, 6.0],\n",
        "            [5.2, 4.8, 5.4, 6.0],\n",
        "            [5.3, 5.1, 5.8, 6.4],\n",
        "            [5.9, 6.1, 5.7, 6.0],\n",
        "            [6.1, 6.0, 6.1, 6.2],\n",
        "            [6.2, 5.7, 5.9, 6.0],\n",
        "            [5.1, 4.9, 5.3, 4.8]]\n",
        "\n",
        "method_3 = [[4.8, 5.0, 6.5, 7.0],\n",
        "            [5.4, 5.0, 6.0, 6.4],\n",
        "            [4.9, 5.1, 5.9, 6.5],\n",
        "            [5.7, 5.2, 6.4, 6.4],\n",
        "            [4.2, 4.6, 5.3, 6.3],\n",
        "            [6.0, 5.3, 5.8, 5.4],\n",
        "            [5.1, 5.2, 6.2, 6.5],\n",
        "            [4.8, 4.6, 5.7, 5.7],\n",
        "            [5.3, 5.4, 6.8, 6.6],\n",
        "            [4.6, 4.4, 5.7, 5.6],\n",
        "            [4.5, 4.0, 5.0, 5.9],\n",
        "            [4.4, 4.2, 5.6, 5.5]]\n",
        "\n",
        "method_1 = np.asarray(method_1)\n",
        "method_2 = np.asarray(method_2)\n",
        "method_3 = np.asarray(method_3)\n",
        "methods = [method_1, method_2, method_3]\n",
        "\n",
        "all_data = np.vstack(methods)\n",
        "\n",
        "# As there are three methods\n",
        "k = 3\n",
        "n = methods[0].shape[0]\n",
        "p = methods[0].shape[1]\n",
        "N = all_data.shape[0]\n",
        "\n",
        "total_mean = np.mean(all_data, 0)\n",
        "means = []\n",
        "\n",
        "for method in methods:\n",
        "  means.append(np.mean(method, 0))"
      ],
      "execution_count": 8,
      "outputs": []
    },
    {
      "cell_type": "code",
      "metadata": {
        "id": "05Uk8nfHrate"
      },
      "source": [
        "# Computing between Sum of Squares\n",
        "H = np.zeros((p, p))\n",
        "for mean in means:\n",
        "  unit = np.asmatrix(mean - total_mean)\n",
        "  H += np.matmul(unit.T, unit)\n",
        "\n",
        "H = n * H"
      ],
      "execution_count": 9,
      "outputs": []
    },
    {
      "cell_type": "code",
      "metadata": {
        "id": "-wC3VFqgv3Bm"
      },
      "source": [
        "# Computing within Sum of Squares\n",
        "E = np.zeros((p, p))\n",
        "\n",
        "for i in range(k):\n",
        "  for j in range(n):\n",
        "    unit = np.asmatrix(methods[i][j] - means[i])\n",
        "    E += np.matmul(unit.T, unit)\n",
        "\n",
        "consider = np.matmul(np.linalg.inv(E), H)"
      ],
      "execution_count": 10,
      "outputs": []
    },
    {
      "cell_type": "markdown",
      "metadata": {
        "id": "fo1uqWoHHXsl"
      },
      "source": [
        "## $(a)$"
      ]
    },
    {
      "cell_type": "code",
      "metadata": {
        "colab": {
          "base_uri": "https://localhost:8080/"
        },
        "id": "885bdopfw8EO",
        "outputId": "ada65611-4a9e-4671-a358-8d21a65e4362"
      },
      "source": [
        "# Computing eigenvectors of inverse(E).H\n",
        "\n",
        "eigen_values, eigen_vectors = np.linalg.eig(consider)\n",
        "positions = np.argsort(-1 * eigen_values)\n",
        "\n",
        "print('Eigen Vectors in Decreasing order of importance:')\n",
        "print()\n",
        "\n",
        "for vector_index, index in enumerate(positions):\n",
        "  print('Eigen Vector ' + str(vector_index + 1) + ' = ', end = '')\n",
        "  print(np.ndarray.tolist(np.round(eigen_vectors[:, index], 4)))"
      ],
      "execution_count": 11,
      "outputs": [
        {
          "output_type": "stream",
          "text": [
            "Eigen Vectors in Decreasing order of importance:\n",
            "\n",
            "Eigen Vector 1 = [-0.013, 0.8274, -0.5496, -0.1149]\n",
            "Eigen Vector 2 = [0.6057, -0.5857, -0.5088, 0.1767]\n",
            "Eigen Vector 3 = [-0.2557, 0.0156, -0.4918, 0.8322]\n",
            "Eigen Vector 4 = [0.8065, -0.3107, -0.0554, 0.4999]\n"
          ],
          "name": "stdout"
        }
      ]
    },
    {
      "cell_type": "markdown",
      "metadata": {
        "id": "Q8vvu1x7HaRr"
      },
      "source": [
        "## $(b)$"
      ]
    },
    {
      "cell_type": "code",
      "metadata": {
        "colab": {
          "base_uri": "https://localhost:8080/"
        },
        "id": "ot13uGUf4c9W",
        "outputId": "de335fd7-8011-45f1-9d56-ec1df79205ae"
      },
      "source": [
        "# Tests of significance\n",
        "\n",
        "sorted = eigen_values[positions]\n",
        "\n",
        "def test_statistic_V_m(m = 0):\n",
        "  global N, p, k\n",
        "  global sorted\n",
        "\n",
        "  factor = N - 1 - (p + k) / 2\n",
        "  sum = 0\n",
        "  for index in range(m, p):\n",
        "    sum += np.log(1 + sorted[index])\n",
        "\n",
        "  return factor * sum\n",
        "\n",
        "# Computing relative importance of each eigen vector based on V_m test statistic\n",
        "print('Contribution to the separation based on V_m test statistic of:')\n",
        "for index in range(p):\n",
        "  print(' • Eigen Vector ' + str(index + 1) + ' = ', end = '')\n",
        "  print(np.abs(np.round(test_statistic_V_m(index), 4)))"
      ],
      "execution_count": 12,
      "outputs": [
        {
          "output_type": "stream",
          "text": [
            "Contribution to the separation based on V_m test statistic of:\n",
            " • Eigen Vector 1 = 45.4099\n",
            " • Eigen Vector 2 = 3.9405\n",
            " • Eigen Vector 3 = 0.0\n",
            " • Eigen Vector 4 = 0.0\n"
          ],
          "name": "stdout"
        }
      ]
    },
    {
      "cell_type": "code",
      "metadata": {
        "colab": {
          "base_uri": "https://localhost:8080/"
        },
        "id": "Vol-gZaEy6Ay",
        "outputId": "70bdc6ba-a2fb-46ac-e97e-eb492d8daa06"
      },
      "source": [
        "# Computing relative importance of each eigen vector\n",
        "# based on weighted average of eigen values\n",
        "\n",
        "sum_eigen_values = np.sum(eigen_values)\n",
        "\n",
        "print('Contribution to the separation based on eigen value spectrum of:')\n",
        "for vector_index, index in enumerate(positions):\n",
        "  print(' • Eigen Vector ' + str(vector_index + 1) + ' = ', end = '')\n",
        "  print(np.abs(np.round(eigen_values[index] / sum_eigen_values, 4)))"
      ],
      "execution_count": 13,
      "outputs": [
        {
          "output_type": "stream",
          "text": [
            "Contribution to the separation based on eigen value spectrum of:\n",
            " • Eigen Vector 1 = 0.9535\n",
            " • Eigen Vector 2 = 0.0465\n",
            " • Eigen Vector 3 = 0.0\n",
            " • Eigen Vector 4 = 0.0\n"
          ],
          "name": "stdout"
        }
      ]
    },
    {
      "cell_type": "markdown",
      "metadata": {
        "id": "TeKYqMczqGYY"
      },
      "source": [
        "- $The\\ two\\ procedures\\ agree\\ on\\ the\\ number\\ of\\ important\\ discriminant\\ functions.$\n",
        "- $The\\ relative\\ importance\\ of\\ the\\ functions\\ as\\ discerned\\ based\\ on\\ the\\ two\\ methods\\ are\\ also\\ similar.$"
      ]
    },
    {
      "cell_type": "markdown",
      "metadata": {
        "id": "OK9anT9wH1Kj"
      },
      "source": [
        "## $(c)$"
      ]
    },
    {
      "cell_type": "code",
      "metadata": {
        "colab": {
          "base_uri": "https://localhost:8080/"
        },
        "id": "e3vKV95gWmbG",
        "outputId": "9fb68a27-ada5-4a1b-e729-20ba257252ec"
      },
      "source": [
        "principal_eigen_vector = eigen_vectors[:, positions[0]]\n",
        "print('Discriminant Function Coefficient Vector:')\n",
        "print(np.ndarray.tolist(np.round(principal_eigen_vector, 4)))\n",
        "print()\n",
        "\n",
        "S_pl = E / (N - k)\n",
        "std_coefficients = np.multiply(np.sqrt(np.diag(S_pl)), principal_eigen_vector)\n",
        "print('Standardised Coefficients:')\n",
        "print(np.ndarray.tolist(np.round(std_coefficients, 4)))\n",
        "print()\n",
        "\n",
        "print('Absolute Values of Standardised Coefficients:')\n",
        "print(np.ndarray.tolist(np.abs(np.round(std_coefficients, 4))))"
      ],
      "execution_count": 14,
      "outputs": [
        {
          "output_type": "stream",
          "text": [
            "Discriminant Function Coefficient Vector:\n",
            "[-0.013, 0.8274, -0.5496, -0.1149]\n",
            "\n",
            "Standardised Coefficients:\n",
            "[-0.0083, 0.41, -0.326, -0.0668]\n",
            "\n",
            "Absolute Values of Standardised Coefficients:\n",
            "[0.0083, 0.41, 0.326, 0.0668]\n"
          ],
          "name": "stdout"
        }
      ]
    },
    {
      "cell_type": "markdown",
      "metadata": {
        "id": "Pb5N75v8H44n"
      },
      "source": [
        "$Based\\ on\\ the\\ absolute\\ values\\ of\\ the\\ standardized\\ coefficients,$\n",
        "$we\\ conclude\\ that\\ y_2,\\ and\\ y_3\\ contribute\\ significantly\\ to\\ the\\ separation\\ of\\ groups\\ but\\ y_1\\ and\\ y_4\\ do\\ not.$"
      ]
    },
    {
      "cell_type": "code",
      "metadata": {
        "id": "KZfDx5eU1abi"
      },
      "source": [
        "def partial_Wilk_s_two_sample_T_square(neglect = -1):\n",
        "  # neglect can take values 0, 1, ..., (p - 1)\n",
        "  # if neglect = -1, consider complete two sample T square\n",
        "  global H, E\n",
        "\n",
        "  if neglect == -1:\n",
        "    return np.linalg.det(E) / np.linalg.det(H + E)\n",
        "\n",
        "  indices = np.asarray([index for index in range(p) if index != neglect])\n",
        "  H_consider = []\n",
        "  E_consider = []\n",
        "\n",
        "  for row in range(p):\n",
        "    if row == neglect:\n",
        "      continue\n",
        "    H_consider.append([])\n",
        "    E_consider.append([])\n",
        "    \n",
        "    for col in range(p):\n",
        "      if col == neglect:\n",
        "        continue\n",
        "      H_consider[-1].append(H[row, col])\n",
        "      E_consider[-1].append(E[row, col])\n",
        "\n",
        "  H_consider = np.asmatrix(H_consider)\n",
        "  E_consider = np.asmatrix(E_consider)\n",
        "  \n",
        "  wilk_s = np.linalg.det(E_consider) / np.linalg.det(H_consider + E_consider)\n",
        "\n",
        "  return wilk_s"
      ],
      "execution_count": 15,
      "outputs": []
    },
    {
      "cell_type": "markdown",
      "metadata": {
        "id": "vN5yk4dHHsOi"
      },
      "source": [
        "## $(d)$"
      ]
    },
    {
      "cell_type": "code",
      "metadata": {
        "colab": {
          "base_uri": "https://localhost:8080/"
        },
        "id": "tArr2yaYYwh2",
        "outputId": "31559a36-ecf1-4ad5-bfd2-08f0dbc2e06d"
      },
      "source": [
        "nu_E = N - k\n",
        "nu_H = k - 1\n",
        "alpha = 0.05\n",
        "factor = (nu_E - p + 1) / nu_H\n",
        "\n",
        "critical_partial_F = f.isf(alpha, nu_H, nu_E - p + 1)\n",
        "print('Critical Partial F value = ' + str(np.round(critical_partial_F, 4)))\n",
        "print()\n",
        "\n",
        "wilk_s_total = partial_Wilk_s_two_sample_T_square()\n",
        "\n",
        "partial_F_s = []\n",
        "for drop in range(p):\n",
        "  wilk_s = partial_Wilk_s_two_sample_T_square(drop) / wilk_s_total\n",
        "  F = factor * (1 - wilk_s) / wilk_s\n",
        "  partial_F_s.append(F)\n",
        "  \n",
        "  print('p = ' + str(drop + 1) + ': ')\n",
        "  print(' • Computed Partial F value = '  + str(np.round(F, 4)))\n",
        "  print(' • Standardized Coefficient = '  + str(np.round(std_coefficients[drop], 4)))\n",
        "  print()\n",
        "\n",
        "partial_F_s = np.asarray(partial_F_s)\n",
        "\n",
        "print('Ranking variables in order of their contribution to separating the groups.')\n",
        "print('Based on:')\n",
        "print(' • Computed Partial F value = '\n",
        "      + str(1 + np.argsort(-1 * np.abs(partial_F_s))))\n",
        "print(' • Standardized Coefficient = '\n",
        "      + str(1 + np.argsort(-1 * np.abs(std_coefficients))))"
      ],
      "execution_count": 16,
      "outputs": [
        {
          "output_type": "stream",
          "text": [
            "Critical Partial F value = 3.3158\n",
            "\n",
            "p = 1: \n",
            " • Computed Partial F value = -1.0668\n",
            " • Standardized Coefficient = -0.0083\n",
            "\n",
            "p = 2: \n",
            " • Computed Partial F value = -8.3064\n",
            " • Standardized Coefficient = 0.41\n",
            "\n",
            "p = 3: \n",
            " • Computed Partial F value = -6.1863\n",
            " • Standardized Coefficient = -0.326\n",
            "\n",
            "p = 4: \n",
            " • Computed Partial F value = -0.483\n",
            " • Standardized Coefficient = -0.0668\n",
            "\n",
            "Ranking variables in order of their contribution to separating the groups.\n",
            "Based on:\n",
            " • Computed Partial F value = [2 3 1 4]\n",
            " • Standardized Coefficient = [2 3 4 1]\n"
          ],
          "name": "stdout"
        }
      ]
    },
    {
      "cell_type": "markdown",
      "metadata": {
        "id": "HC_P7ELa3q5v"
      },
      "source": [
        "$Partial\\ F\\ values\\ rank\\ the\\ two\\ worthy\\ variables\\ i.e.\\ y_2,\\ and\\ y_3\\ in\\ the\\ same\\ order\\ as\\ standardized\\ coefficitents.$"
      ]
    },
    {
      "cell_type": "markdown",
      "metadata": {
        "id": "8GiIZfOkIrPD"
      },
      "source": [
        "## $(e)$"
      ]
    },
    {
      "cell_type": "code",
      "metadata": {
        "colab": {
          "base_uri": "https://localhost:8080/",
          "height": 491
        },
        "id": "yAiU6hVt37qG",
        "outputId": "85d477fd-7ad6-46ae-abec-8b761ff7ee2a"
      },
      "source": [
        "# Constructing the Plots\n",
        "x = [[], [], [], []]\n",
        "y = [[], [], [], []]\n",
        "\n",
        "for index in range(N):\n",
        "  unit = all_data[index]\n",
        "  x[int(index / n)].append(np.dot(eigen_vectors[:, positions[0]], unit))\n",
        "  y[int(index / n)].append(np.dot(eigen_vectors[:, positions[1]], unit))\n",
        "\n",
        "for index in range(k):\n",
        "  unit = means[index]\n",
        "  x[k].append(np.dot(eigen_vectors[:, positions[0]], unit))\n",
        "  y[k].append(np.dot(eigen_vectors[:, positions[1]], unit))\n",
        "\n",
        "fig = plt.figure(figsize = (12, 9))\n",
        "p = fig.add_subplot('111')\n",
        "p.set_title('Discriminant Functions for Observations and Means')\n",
        "p.set_xlabel('Principal Discriminant')\n",
        "p.set_ylabel('Secondary Discriminant')\n",
        "p.scatter(x[0], y[0], color = 'blue', label = 'Method 1', marker = 'x')\n",
        "p.scatter(x[1], y[1], color = 'green', label = 'Method 2', marker = 'x')\n",
        "p.scatter(x[2], y[2], color = 'red', label = 'Method 3', marker = 'x')\n",
        "p.scatter(x[3][0], y[3][0], color = 'darkblue', label = 'Mean 1')\n",
        "p.scatter(x[3][1], y[3][1], color = 'darkgreen', label = 'Mean 2')\n",
        "p.scatter(x[3][2], y[3][2], color = 'darkred', label = 'Mean 3')\n",
        "p.legend()\n",
        "plt.show()"
      ],
      "execution_count": 17,
      "outputs": [
        {
          "output_type": "display_data",
          "data": {
            "image/png": "[encoded data removed]",
            "text/plain": [
              "<Figure size 864x648 with 1 Axes>"
            ]
          },
          "metadata": {
            "tags": [],
            "needs_background": "light"
          }
        }
      ]
    },
    {
      "cell_type": "code",
      "metadata": {
        "id": "pH4KtnjTxhde"
      },
      "source": [
        "# ^_^ Thank You"
      ],
      "execution_count": 18,
      "outputs": []
    }
  ]
}
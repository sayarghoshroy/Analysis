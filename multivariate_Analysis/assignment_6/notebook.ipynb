{
 "cells": [
  {
   "cell_type": "code",
   "execution_count": 1,
   "metadata": {
    "id": "JypHMqZX0fmy"
   },
   "outputs": [],
   "source": [
    "# Problems on Classification Analysis"
   ]
  },
  {
   "cell_type": "code",
   "execution_count": 2,
   "metadata": {
    "id": "oySyUdtp74X-"
   },
   "outputs": [],
   "source": [
    "import numpy as np\n",
    "import scipy as sc\n",
    "from scipy.stats import f"
   ]
  },
  {
   "cell_type": "markdown",
   "metadata": {
    "id": "0Rfaa5Id8Hqw"
   },
   "source": [
    "# $Problem\\ 3$"
   ]
  },
  {
   "cell_type": "code",
   "execution_count": 3,
   "metadata": {
    "colab": {
     "base_uri": "https://localhost:8080/"
    },
    "id": "7JtF_5TA0o9r",
    "outputId": "4e86a847-ea34-40c6-9ccb-7bc8fbc7b91a"
   },
   "outputs": [
    {
     "name": "stdout",
     "output_type": "stream",
     "text": [
      "Multiplicative Factor of the Classification Function: \n",
      "[0.3539, -0.1445, -0.0957, -0.1443]\n",
      "\n",
      "z_mean_A = -9.5486\n",
      "z_mean_B = -23.6979\n",
      "Required Cutoff Point = -16.6232\n"
     ]
    }
   ],
   "source": [
    "set_A = [[189, 245, 137, 163],\n",
    "        [192, 260, 132, 217],\n",
    "        [217, 276, 141, 192],\n",
    "        [221, 299, 142, 213],\n",
    "        [171, 239, 128, 158],\n",
    "        [192, 262, 147, 173],\n",
    "        [213, 278, 136, 201],\n",
    "        [192, 255, 128, 185],\n",
    "        [170, 244, 128, 192],\n",
    "        [201, 276, 146, 186],\n",
    "        [195, 242, 128, 192],\n",
    "        [205, 263, 147, 192],\n",
    "        [180, 252, 121, 167],\n",
    "        [192, 283, 138, 183],\n",
    "        [200, 287, 136, 173],\n",
    "        [192, 277, 150, 177],\n",
    "        [200, 287, 136, 173],\n",
    "        [181, 255, 146, 183],\n",
    "        [192, 287, 141, 198]]\n",
    "\n",
    "set_B = [[181, 305, 184, 209],\n",
    "        [158, 237, 133, 188],\n",
    "        [184, 300, 166, 231],\n",
    "        [171, 273, 162, 213],\n",
    "        [181, 297, 163, 224],\n",
    "        [181, 308, 160, 223],\n",
    "        [177, 301, 166, 221],\n",
    "        [198, 308, 141, 197],\n",
    "        [180, 286, 146, 214],\n",
    "        [177, 299, 171, 192],\n",
    "        [176, 317, 166, 213],\n",
    "        [192, 312, 166, 209],\n",
    "        [176, 285, 141, 200],\n",
    "        [169, 287, 162, 214],\n",
    "        [164, 265, 147, 192],\n",
    "        [181, 308, 157, 204],\n",
    "        [192, 276, 154, 209],\n",
    "        [181, 278, 149, 235],\n",
    "        [175, 271, 140, 192],\n",
    "        [197, 303, 170, 205]]\n",
    "\n",
    "n_A = len(set_A)\n",
    "n_B = len(set_B)\n",
    "set_A = np.asmatrix(set_A)\n",
    "set_B = np.asmatrix(set_B)\n",
    "\n",
    "mean_A = np.mean(set_A, axis = 0)\n",
    "mean_B = np.mean(set_B, axis = 0)\n",
    "\n",
    "cov_A = np.cov(set_A.T)\n",
    "cov_B = np.cov(set_B.T)\n",
    "\n",
    "cov_pooled = ((n_A - 1) * cov_A + (n_B - 1) * cov_B) / (n_A + n_B - 2)\n",
    "\n",
    "coefficient = np.matmul((mean_A - mean_B), np.linalg.inv(cov_pooled))\n",
    "coefficient = np.ravel(coefficient)\n",
    "\n",
    "print('Multiplicative Factor of the Classification Function: ')\n",
    "print(str(np.ndarray.tolist(np.round(coefficient, 4))))\n",
    "print()\n",
    "\n",
    "z_mean_A = np.ravel(np.dot(coefficient, mean_A.T))[0]\n",
    "z_mean_B = np.ravel(np.dot(coefficient, mean_B.T))[0]\n",
    "\n",
    "print('z_mean_A = ' + str(np.round(z_mean_A, 4)))\n",
    "print('z_mean_B = ' + str(np.round(z_mean_B, 4)))\n",
    "\n",
    "cutoff_point = (z_mean_A + z_mean_B) / 2\n",
    "\n",
    "print('Required Cutoff Point = ' +\n",
    "      str(np.round(cutoff_point, 4)))"
   ]
  },
  {
   "cell_type": "markdown",
   "metadata": {
    "id": "OA80Fis6aOrg"
   },
   "source": [
    "## $(a)$\n",
    "$Classification\\ Function$ $z$ = $[0.3539, -0.1445, -0.0957, -0.1443].y$\n",
    "\n",
    "= $[0.3422, -0.1451, -0.1021, -0.1253].[y_1, y_2, y_3, y_4]$\n",
    "\n",
    "$Cutoff\\ Point$ = $-16.6232$"
   ]
  },
  {
   "cell_type": "code",
   "execution_count": 4,
   "metadata": {
    "colab": {
     "base_uri": "https://localhost:8080/"
    },
    "id": "P7ywvLEl8teO",
    "outputId": "898507da-896e-431d-c366-57ea93d54f36"
   },
   "outputs": [
    {
     "name": "stdout",
     "output_type": "stream",
     "text": [
      "Set_A\n",
      "# Observations = 19\n",
      "# Samples classified into set_A = 0\n",
      "# Samples classified into set_B = 19\n",
      "\n",
      "Set_B\n",
      "# Observations = 20\n",
      "# Samples classified into set_A = 1\n",
      "# Samples classified into set_B = 19\n"
     ]
    }
   ],
   "source": [
    "set_A_true = 0\n",
    "set_B_true = 0\n",
    "\n",
    "for sample in set_A:\n",
    "  score = np.dot(coefficient, np.asarray(sample).T)\n",
    "  if score < cutoff_point:\n",
    "    set_A_true += 1\n",
    "\n",
    "for sample in set_B:\n",
    "  score = np.dot(coefficient, np.asarray(sample).T)\n",
    "  if score < cutoff_point:\n",
    "    set_B_true += 1\n",
    "\n",
    "print('Set_A')\n",
    "print('# Observations = ' + str(n_A))\n",
    "print('# Samples classified into set_A = ' + str(set_A_true))\n",
    "print('# Samples classified into set_B = ' + str(n_A - set_A_true))\n",
    "print()\n",
    "\n",
    "print('Set_B')\n",
    "print('# Observations = ' + str(n_B))\n",
    "print('# Samples classified into set_A = ' + str(n_B - set_B_true))\n",
    "print('# Samples classified into set_B = ' + str(set_B_true))"
   ]
  },
  {
   "cell_type": "markdown",
   "metadata": {
    "id": "Xl5Qrz9t8Dap"
   },
   "source": [
    "| True Class | True Class Frequency | Predicted as 1 | Predicted as 2 |\n",
    "|---|---|---|---|\n",
    "| 1 | 19 | 0 | 19 |\n",
    "| 2 | 20 | 1 | 19 |"
   ]
  },
  {
   "cell_type": "markdown",
   "metadata": {
    "id": "h3aKFnhJ8Ll2"
   },
   "source": [
    "# $Problem\\ 4$"
   ]
  },
  {
   "cell_type": "code",
   "execution_count": 5,
   "metadata": {
    "id": "T9DBHaEk8NR_"
   },
   "outputs": [],
   "source": [
    "method_1 = [[5.4, 6.0, 6.3, 6.7],\n",
    "            [5.2, 6.2, 6.0, 5.8],\n",
    "            [6.1, 5.9, 6.0, 7.0],\n",
    "            [4.8, 5.0, 4.9, 5.0],\n",
    "            [5.0, 5.7, 5.0, 6.5],\n",
    "            [5.7, 6.1, 6.0, 6.6],\n",
    "            [6.0, 6.0, 5.8, 6.0],\n",
    "            [4.0, 5.0, 4.0, 5.0],\n",
    "            [5.7, 5.4, 4.9, 5.0],\n",
    "            [5.6, 5.2, 5.4, 5.8],\n",
    "            [5.8, 6.1, 5.2, 6.4],\n",
    "            [5.3, 5.9, 5.8, 6.0]]\n",
    "\n",
    "method_2 = [[5.0, 5.3, 5.3, 6.5],\n",
    "            [4.8, 4.9, 4.2, 5.6],\n",
    "            [3.9, 4.0, 4.4, 5.0],\n",
    "            [4.0, 5.1, 4.8, 5.8],\n",
    "            [5.6, 5.4, 5.1, 6.2],\n",
    "            [6.0, 5.5, 5.7, 6.0],\n",
    "            [5.2, 4.8, 5.4, 6.0],\n",
    "            [5.3, 5.1, 5.8, 6.4],\n",
    "            [5.9, 6.1, 5.7, 6.0],\n",
    "            [6.1, 6.0, 6.1, 6.2],\n",
    "            [6.2, 5.7, 5.9, 6.0],\n",
    "            [5.1, 4.9, 5.3, 4.8]]\n",
    "\n",
    "method_3 = [[4.8, 5.0, 6.5, 7.0],\n",
    "            [5.4, 5.0, 6.0, 6.4],\n",
    "            [4.9, 5.1, 5.9, 6.5],\n",
    "            [5.7, 5.2, 6.4, 6.4],\n",
    "            [4.2, 4.6, 5.3, 6.3],\n",
    "            [6.0, 5.3, 5.8, 5.4],\n",
    "            [5.1, 5.2, 6.2, 6.5],\n",
    "            [4.8, 4.6, 5.7, 5.7],\n",
    "            [5.3, 5.4, 6.8, 6.6],\n",
    "            [4.6, 4.4, 5.7, 5.6],\n",
    "            [4.5, 4.0, 5.0, 5.9],\n",
    "            [4.4, 4.2, 5.6, 5.5]]\n",
    "\n",
    "method_1 = np.asarray(method_1)\n",
    "method_2 = np.asarray(method_2)\n",
    "method_3 = np.asarray(method_3)\n",
    "methods = [method_1, method_2, method_3]\n",
    "\n",
    "means = []\n",
    "covariances = []\n",
    "sizes = []\n",
    "\n",
    "for method in methods:\n",
    "  means.append(np.mean(method, axis = 0))\n",
    "  covariances.append(np.cov(method.T))\n",
    "  sizes.append(np.shape(method)[0])\n",
    "\n",
    "S_pooled = np.zeros(np.shape(covariances[0]))\n",
    "total_size = 0\n",
    "\n",
    "for index, S in enumerate(covariances):\n",
    "  S_pooled += S * (sizes[index] - 1)\n",
    "  total_size += sizes[index]\n",
    "\n",
    "S_pooled = S_pooled / (total_size - len(sizes))"
   ]
  },
  {
   "cell_type": "code",
   "execution_count": 6,
   "metadata": {
    "id": "sFdaKbszp9nX"
   },
   "outputs": [],
   "source": [
    "# Computing the classification functions\n",
    "\n",
    "multipliers = []\n",
    "constants = []\n",
    "\n",
    "for index in range(len(methods)):\n",
    "  multiplier = np.matmul(means[index], np.linalg.inv(S_pooled))\n",
    "  constant = np.matmul(multiplier, means[index].T) / 2\n",
    "  \n",
    "  multipliers.append(multiplier)\n",
    "  constants.append(constant)"
   ]
  },
  {
   "cell_type": "markdown",
   "metadata": {
    "id": "bKwKvE_Ey8yB"
   },
   "source": [
    "## $(a)$"
   ]
  },
  {
   "cell_type": "code",
   "execution_count": 7,
   "metadata": {
    "colab": {
     "base_uri": "https://localhost:8080/"
    },
    "id": "G3ZhI-NPrvZ8",
    "outputId": "511fd5b2-5aa1-45fa-87d0-b6383b809567"
   },
   "outputs": [
    {
     "name": "stdout",
     "output_type": "stream",
     "text": [
      "For Method 1: \n",
      "[1.3141, 17.2144, -2.4152, 9.7297].y - 75.2062\n",
      "\n",
      "For Method 2: \n",
      "[2.9798, 11.9992, -1.3346, 10.7072].y - 67.1426\n",
      "\n",
      "For Method 3: \n",
      "[1.8675, 4.9536, 5.1875, 11.4901].y - 67.2733\n",
      "\n"
     ]
    }
   ],
   "source": [
    "# Displaying the various Classification Scoring functions:\n",
    "\n",
    "for index in range(len(methods)):\n",
    "  print('For Method ' + str(index + 1) + ': ')\n",
    "  print(np.ndarray.tolist(np.round(multipliers[index], 4)), end = '')\n",
    "  print('.y - ' + str(np.round(constants[index], 4)))\n",
    "  print()"
   ]
  },
  {
   "cell_type": "markdown",
   "metadata": {
    "id": "bfqsLqlszATe"
   },
   "source": [
    "## $(b)$"
   ]
  },
  {
   "cell_type": "code",
   "execution_count": 8,
   "metadata": {
    "colab": {
     "base_uri": "https://localhost:8080/"
    },
    "id": "ZMxTnHZruPsy",
    "outputId": "4a9940ad-63f0-4953-d43a-bded662bf3ec"
   },
   "outputs": [
    {
     "name": "stdout",
     "output_type": "stream",
     "text": [
      "For Method 1: \n",
      "# Observations = 12\n",
      "# Samples classified into Methods 1, 2, 3 respectively:\n",
      "[9, 3, 0]\n",
      "\n",
      "For Method 2: \n",
      "# Observations = 12\n",
      "# Samples classified into Methods 1, 2, 3 respectively:\n",
      "[3, 7, 2]\n",
      "\n",
      "For Method 3: \n",
      "# Observations = 12\n",
      "# Samples classified into Methods 1, 2, 3 respectively:\n",
      "[0, 1, 11]\n",
      "\n"
     ]
    }
   ],
   "source": [
    "# Performing Classifications\n",
    "\n",
    "def compute(index, sample):\n",
    "  global multipliers, constants\n",
    "  multiplier = multipliers[index]\n",
    "  constant = constants[index]\n",
    "  return np.dot(multiplier, sample.T) - constant\n",
    "\n",
    "for index in range(len(methods)):\n",
    "  method = methods[index]\n",
    "  print('For Method ' + str(index + 1) + ': ')\n",
    "  print('# Observations = ' + str(sizes[index]))\n",
    "\n",
    "  counts = [0, 0, 0]\n",
    "  for sample_index in range(sizes[index]):\n",
    "    sample = method[sample_index, :]\n",
    "    scores = [compute(unit, sample) for unit in range(len(methods))]\n",
    "    assignment = np.argmax(scores)\n",
    "    counts[assignment] += 1\n",
    "  \n",
    "  print('# Samples classified into Methods 1, 2, 3 respectively:')\n",
    "  print(counts)\n",
    "\n",
    "  print()"
   ]
  },
  {
   "cell_type": "markdown",
   "metadata": {
    "id": "YD5LomYp76cR"
   },
   "source": [
    "| True Class | True Class Frequency | Predicted as 1 | Predicted as 2 | Predicted as 3 |\n",
    "|---|---|---|---|---|\n",
    "| 1 | 12 | 9 | 3 | 0 |\n",
    "| 2 | 12 | 3 | 7 | 2 |\n",
    "| 3 | 12 | 0 | 1 | 11 |"
   ]
  },
  {
   "cell_type": "markdown",
   "metadata": {
    "id": "BM2ptg5j0458"
   },
   "source": [
    "## $(c)$"
   ]
  },
  {
   "cell_type": "code",
   "execution_count": 9,
   "metadata": {
    "colab": {
     "base_uri": "https://localhost:8080/"
    },
    "id": "lwPgH5j-075R",
    "outputId": "65f566eb-1607-4521-cdbd-fc16b432f8b5"
   },
   "outputs": [
    {
     "name": "stdout",
     "output_type": "stream",
     "text": [
      "Performing all classifiations using hold-out method\n",
      "\n",
      "For Method 1: \n",
      "# Observations = 12\n",
      "# Samples classified into Methods 1, 2, 3 respectively:\n",
      "[8, 4, 0]\n",
      "\n",
      "For Method 2: \n",
      "# Observations = 12\n",
      "# Samples classified into Methods 1, 2, 3 respectively:\n",
      "[4, 5, 3]\n",
      "\n",
      "For Method 3: \n",
      "# Observations = 12\n",
      "# Samples classified into Methods 1, 2, 3 respectively:\n",
      "[0, 1, 11]\n",
      "\n"
     ]
    }
   ],
   "source": [
    "# Implementing the hold-out method\n",
    "\n",
    "def get_all_scores(unit, sample_index):\n",
    "  global methods\n",
    "\n",
    "  means = []\n",
    "  covariances = []\n",
    "  sizes = []\n",
    "\n",
    "  for index, use_method in enumerate(methods):\n",
    "    method = []\n",
    "    for row in range(np.shape(use_method)[0]):\n",
    "      if row == sample_index and unit == index:\n",
    "        continue\n",
    "      method.append(np.ndarray.tolist(use_method[row, :]))\n",
    "    \n",
    "    method = np.asmatrix(method)\n",
    "    means.append(np.mean(method, axis = 0))\n",
    "    covariances.append(np.cov(method.T))\n",
    "    sizes.append(np.shape(method)[0])\n",
    "\n",
    "  S_pooled = np.zeros(np.shape(covariances[0]))\n",
    "  total_size = 0\n",
    "\n",
    "  for index, S in enumerate(covariances):\n",
    "    S_pooled += S * (sizes[index] - 1)\n",
    "    total_size += sizes[index]\n",
    "\n",
    "  S_pooled = S_pooled / (total_size - len(sizes))\n",
    "\n",
    "  multipliers = []\n",
    "  constants = []\n",
    "\n",
    "  for index in range(len(methods)):\n",
    "    multiplier = np.matmul(means[index], np.linalg.inv(S_pooled))\n",
    "    constant = np.matmul(multiplier, means[index].T) / 2\n",
    "    \n",
    "    multipliers.append(multiplier)\n",
    "    constants.append(constant)\n",
    "\n",
    "  scores = []\n",
    "  for index in range(len(methods)):\n",
    "    multiplier = multipliers[index]\n",
    "    constant = constants[index]\n",
    "    scores.append(np.dot(multiplier, sample.T) - constant)\n",
    "\n",
    "  return scores\n",
    "\n",
    "print('Performing all classifiations using hold-out method')\n",
    "print()\n",
    "for index in range(len(methods)):\n",
    "  method = methods[index]\n",
    "  print('For Method ' + str(index + 1) + ': ')\n",
    "  print('# Observations = ' + str(sizes[index]))\n",
    "\n",
    "  counts = [0, 0, 0]\n",
    "  for sample_index in range(sizes[index]):\n",
    "    sample = method[sample_index, :]\n",
    "    scores = get_all_scores(index, sample_index)\n",
    "    assignment = np.argmax(scores)\n",
    "    counts[assignment] += 1\n",
    "  \n",
    "  print('# Samples classified into Methods 1, 2, 3 respectively:')\n",
    "  print(counts)\n",
    "\n",
    "  print()"
   ]
  },
  {
   "cell_type": "markdown",
   "metadata": {
    "id": "PbFNtuRd6G5G"
   },
   "source": [
    "| True Class | True Class Frequency | Predicted as 1 | Predicted as 2 | Predicted as 3 |\n",
    "|---|---|---|---|---|\n",
    "| 1 | 12 | 8 | 4 | 0 |\n",
    "| 2 | 12 | 4 | 5 | 3 |\n",
    "| 3 | 12 | 0 | 1 | 11 |"
   ]
  },
  {
   "cell_type": "code",
   "execution_count": 10,
   "metadata": {
    "id": "D1_YPpzz8PWm"
   },
   "outputs": [],
   "source": [
    "# ^_^ Thank You"
   ]
  }
 ],
 "metadata": {
  "colab": {
   "collapsed_sections": [],
   "name": "classification_analysis.ipynb",
   "provenance": []
  },
  "kernelspec": {
   "display_name": "Python 3",
   "language": "python",
   "name": "python3"
  },
  "language_info": {
   "codemirror_mode": {
    "name": "ipython",
    "version": 3
   },
   "file_extension": ".py",
   "mimetype": "text/x-python",
   "name": "python",
   "nbconvert_exporter": "python",
   "pygments_lexer": "ipython3",
   "version": "3.7.3"
  }
 },
 "nbformat": 4,
 "nbformat_minor": 1
}

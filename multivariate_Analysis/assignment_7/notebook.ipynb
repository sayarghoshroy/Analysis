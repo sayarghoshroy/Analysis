{
 "cells": [
  {
   "cell_type": "code",
   "execution_count": 1,
   "metadata": {
    "id": "SRROtiq028LF"
   },
   "outputs": [],
   "source": [
    "# A problem on canonical correlation"
   ]
  },
  {
   "cell_type": "markdown",
   "metadata": {
    "id": "hKqtG8sut8Iq"
   },
   "source": [
    "# $Problem\\ 6$"
   ]
  },
  {
   "cell_type": "code",
   "execution_count": 2,
   "metadata": {
    "id": "uxoJdNr4mo57"
   },
   "outputs": [],
   "source": [
    "%%capture\n",
    "!pip install statsmodels\n",
    "\n",
    "# Utilizing Numpy and Statsmodels packages\n",
    "import numpy as np\n",
    "from statsmodels.multivariate.cancorr import CanCorr"
   ]
  },
  {
   "cell_type": "code",
   "execution_count": 3,
   "metadata": {
    "id": "jb9OizbC4a67"
   },
   "outputs": [],
   "source": [
    "y = [[60, 69, 62],\n",
    "    [56, 53, 84],\n",
    "    [80, 69, 76],\n",
    "    [55, 80, 90],\n",
    "    [62, 75, 68],\n",
    "    [74, 64, 70],\n",
    "    [64, 71, 66],\n",
    "    [73, 70, 64],\n",
    "    [68, 67, 75],\n",
    "    [69, 82, 74],\n",
    "    [60, 67, 61],\n",
    "    [70, 74, 78],\n",
    "    [66, 74, 78],\n",
    "    [83, 70, 74],\n",
    "    [68, 66, 90],\n",
    "    [78, 63, 75],\n",
    "    [77, 68, 74],\n",
    "    [66, 77, 68],\n",
    "    [70, 70, 72],\n",
    "    [75, 65, 71]]\n",
    "\n",
    "x = [[97, 69, 98],\n",
    "    [103, 78, 107],\n",
    "    [66, 99, 130],\n",
    "    [80, 85, 114],\n",
    "    [116, 130, 91],\n",
    "    [109, 101, 103],\n",
    "    [77, 102, 130],\n",
    "    [115, 110, 109],\n",
    "    [76, 85, 119],\n",
    "    [72, 133, 127],\n",
    "    [130, 134, 121],\n",
    "    [150, 158, 100],\n",
    "    [150, 131, 142],\n",
    "    [99, 98, 105],\n",
    "    [119, 85, 109],\n",
    "    [164, 98, 138],\n",
    "    [144, 71, 153],\n",
    "    [77, 82, 89],\n",
    "    [114, 93, 122],\n",
    "    [77, 70, 109]]\n",
    "\n",
    "y = np.asarray(y)\n",
    "x = np.asarray(x)\n",
    "\n",
    "standardized_y = (y - np.mean(y, axis = 0)) / np.std(y, axis = 0)\n",
    "standardized_x = (x - np.mean(x, axis = 0)) / np.std(x, axis = 0)"
   ]
  },
  {
   "cell_type": "code",
   "execution_count": 4,
   "metadata": {
    "id": "rcvZKWGu4iqR"
   },
   "outputs": [],
   "source": [
    "S_matrix = np.cov(y.T, x.T)"
   ]
  },
  {
   "cell_type": "code",
   "execution_count": 5,
   "metadata": {
    "colab": {
     "base_uri": "https://localhost:8080/"
    },
    "id": "eoz8oTyj3uJm",
    "outputId": "a9ed80d3-0d93-4b7e-f669-e4e40689fc54"
   },
   "outputs": [
    {
     "name": "stdout",
     "output_type": "stream",
     "text": [
      "S matrix = \n",
      "[[ 61.0632  -5.0947  -5.5789  28.2368  -6.8105  37.9895]\n",
      " [ -5.0947  41.4842  -2.4737 -41.1842  66.1368  -5.4316]\n",
      " [ -5.5789  -2.4737  64.3684   9.5    -27.1053  17.8421]\n",
      " [ 28.2368 -41.1842   9.5    876.9342 268.3158 143.3684]\n",
      " [ -6.8105  66.1368 -27.1053 268.3158 621.6211  -0.0316]\n",
      " [ 37.9895  -5.4316  17.8421 143.3684  -0.0316 293.0105]]\n"
     ]
    }
   ],
   "source": [
    "np.set_printoptions(suppress = True)\n",
    "print('S matrix = ')\n",
    "print(np.round(S_matrix, 4))"
   ]
  },
  {
   "cell_type": "code",
   "execution_count": 6,
   "metadata": {
    "id": "sEMAIEmJjI1O"
   },
   "outputs": [],
   "source": [
    "model = CanCorr(endog = y, exog = x)\n",
    "model_std = CanCorr(endog = standardized_y, exog = standardized_x)"
   ]
  },
  {
   "cell_type": "markdown",
   "metadata": {
    "id": "OYis-2Zls3BX"
   },
   "source": [
    "## $(a)$"
   ]
  },
  {
   "cell_type": "code",
   "execution_count": 7,
   "metadata": {
    "colab": {
     "base_uri": "https://localhost:8080/"
    },
    "id": "982tan0lm-fB",
    "outputId": "49ad8ba3-45dc-436c-c058-f1bc4860fd39"
   },
   "outputs": [
    {
     "name": "stdout",
     "output_type": "stream",
     "text": [
      "Canonical Correlations between (y_1, y_2, y_3) and (x_1, x_2, x_3): \n",
      "[0.590852, 0.309003, 0.052614]\n"
     ]
    }
   ],
   "source": [
    "print('Canonical Correlations between (y_1, y_2, y_3) and (x_1, x_2, x_3): ')\n",
    "print(np.ndarray.tolist(np.round(model.cancorr, 6)))"
   ]
  },
  {
   "cell_type": "code",
   "execution_count": 8,
   "metadata": {
    "colab": {
     "base_uri": "https://localhost:8080/"
    },
    "id": "JNogmL_kCPE8",
    "outputId": "0b4e6ab4-40d2-4b44-c2bd-21344301dbea"
   },
   "outputs": [
    {
     "name": "stdout",
     "output_type": "stream",
     "text": [
      "Squared Canonical Correlations between (y_1, y_2, y_3) and (x_1, x_2, x_3): \n",
      "[0.349106, 0.095483, 0.002768]\n"
     ]
    }
   ],
   "source": [
    "print('Squared Canonical Correlations between (y_1, y_2, y_3) and (x_1, x_2, x_3): ')\n",
    "print(np.ndarray.tolist(np.round(np.square(model.cancorr), 6)))"
   ]
  },
  {
   "cell_type": "markdown",
   "metadata": {
    "id": "6TCp2I-rtPEd"
   },
   "source": [
    "## $(b)$"
   ]
  },
  {
   "cell_type": "code",
   "execution_count": 9,
   "metadata": {
    "colab": {
     "base_uri": "https://localhost:8080/"
    },
    "id": "TNQHulqBpsc-",
    "outputId": "71e3de25-ba0c-42fd-e14f-9effad48fc8e"
   },
   "outputs": [
    {
     "name": "stdout",
     "output_type": "stream",
     "text": [
      "The canonical coefficients for 'endog' i.e y:\n",
      "[[-0.003864 -0.027247 -0.011015]\n",
      " [ 0.033479 -0.011335  0.006061]\n",
      " [-0.006893 -0.012139  0.02514 ]]\n",
      "\n",
      "The canonical coefficients for 'exog' i.e x:\n",
      "[[-0.00583   0.001246 -0.006374]\n",
      " [ 0.009126 -0.001762 -0.003533]\n",
      " [ 0.000245 -0.013754  0.002936]]\n"
     ]
    }
   ],
   "source": [
    "print('The canonical coefficients for \\'endog\\' i.e y:')\n",
    "print(np.round(model.y_cancoef, 6))\n",
    "print()\n",
    "\n",
    "print('The canonical coefficients for \\'exog\\' i.e x:')\n",
    "print(np.round(model.x_cancoef, 6))"
   ]
  },
  {
   "cell_type": "markdown",
   "metadata": {
    "id": "-JwYUANyuFF0"
   },
   "source": [
    "## $(c)$"
   ]
  },
  {
   "cell_type": "code",
   "execution_count": 10,
   "metadata": {
    "colab": {
     "base_uri": "https://localhost:8080/"
    },
    "id": "iH7pJlq0no3x",
    "outputId": "6b9d6132-1cec-4b60-97f9-2fa687f7a055"
   },
   "outputs": [
    {
     "name": "stdout",
     "output_type": "stream",
     "text": [
      "Tests of Significance for each Canonical Correlation:\n",
      "\n",
      "                          Cancorr results\n",
      "===================================================================\n",
      "  Canonical Correlation Wilks' lambda Num DF  Den DF F Value Pr > F\n",
      "-------------------------------------------------------------------\n",
      "0                0.5909        0.5871 9.0000 34.2229  0.9301 0.5120\n",
      "1                0.3090        0.9020 4.0000 30.0000  0.3969 0.8093\n",
      "2                0.0526        0.9972 1.0000 16.0000  0.0444 0.8357\n",
      "-------------------------------------------------------------------\n",
      "                                                                   \n",
      "-------------------------------------------------------------------\n",
      "Multivariate Statistics and F Approximations                       \n",
      "---------------------------------------------------------------------\n",
      "                         Value    Num DF    Den DF   F Value   Pr > F\n",
      "---------------------------------------------------------------------\n",
      "Wilks' lambda            0.5871   9.0000   34.2229    0.9301   0.5120\n",
      "Pillai's trace           0.4474   9.0000   48.0000    0.9347   0.5043\n",
      "Hotelling-Lawley trace   0.6447   9.0000   19.0526    0.9604   0.5000\n",
      "Roy's greatest root      0.5363   3.0000   16.0000    2.8605   0.0696\n",
      "===================================================================\n"
     ]
    }
   ],
   "source": [
    "print('Tests of Significance for each Canonical Correlation:')\n",
    "print()\n",
    "print(model.corr_test(), end = '')"
   ]
  },
  {
   "cell_type": "markdown",
   "metadata": {
    "id": "usggvjEjzmqU"
   },
   "source": [
    "$All\\ F\\ values\\ are\\ lower\\ than\\ corrsponding\\ critical\\ values.$\n",
    "\n",
    "$\\therefore\\ none\\ of\\ the\\ correlations\\ are\\ significant.$"
   ]
  },
  {
   "cell_type": "code",
   "execution_count": 11,
   "metadata": {
    "id": "g-EQAuTYnv-8"
   },
   "outputs": [],
   "source": [
    "# ^_^ Thank You"
   ]
  }
 ],
 "metadata": {
  "colab": {
   "collapsed_sections": [],
   "name": "canonical_correlation.ipynb",
   "provenance": []
  },
  "kernelspec": {
   "display_name": "Python 3",
   "language": "python",
   "name": "python3"
  },
  "language_info": {
   "codemirror_mode": {
    "name": "ipython",
    "version": 3
   },
   "file_extension": ".py",
   "mimetype": "text/x-python",
   "name": "python",
   "nbconvert_exporter": "python",
   "pygments_lexer": "ipython3",
   "version": "3.7.3"
  }
 },
 "nbformat": 4,
 "nbformat_minor": 1
}
